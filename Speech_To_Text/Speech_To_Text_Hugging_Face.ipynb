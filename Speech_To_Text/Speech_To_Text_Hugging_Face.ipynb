{
  "nbformat": 4,
  "nbformat_minor": 0,
  "metadata": {
    "colab": {
      "provenance": []
    },
    "kernelspec": {
      "name": "python3",
      "display_name": "Python 3"
    },
    "language_info": {
      "name": "python"
    },
    "widgets": {
      "application/vnd.jupyter.widget-state+json": {
        "6086b0aa655c4a98b9c193764d8f419a": {
          "model_module": "@jupyter-widgets/controls",
          "model_name": "HBoxModel",
          "model_module_version": "1.5.0",
          "state": {
            "_dom_classes": [],
            "_model_module": "@jupyter-widgets/controls",
            "_model_module_version": "1.5.0",
            "_model_name": "HBoxModel",
            "_view_count": null,
            "_view_module": "@jupyter-widgets/controls",
            "_view_module_version": "1.5.0",
            "_view_name": "HBoxView",
            "box_style": "",
            "children": [
              "IPY_MODEL_e89d4e0fd4bd435ea177d34e7fef2cf7",
              "IPY_MODEL_6b290c4348fc486f901130a59a017e4d",
              "IPY_MODEL_ed328cac5d3e4ffa97fd3e2f168edc8c"
            ],
            "layout": "IPY_MODEL_4778a847cb594b2c898ccfe99b4cabe7"
          }
        },
        "e89d4e0fd4bd435ea177d34e7fef2cf7": {
          "model_module": "@jupyter-widgets/controls",
          "model_name": "HTMLModel",
          "model_module_version": "1.5.0",
          "state": {
            "_dom_classes": [],
            "_model_module": "@jupyter-widgets/controls",
            "_model_module_version": "1.5.0",
            "_model_name": "HTMLModel",
            "_view_count": null,
            "_view_module": "@jupyter-widgets/controls",
            "_view_module_version": "1.5.0",
            "_view_name": "HTMLView",
            "description": "",
            "description_tooltip": null,
            "layout": "IPY_MODEL_ce0aac9412f64708a096000393c92459",
            "placeholder": "​",
            "style": "IPY_MODEL_06ab85e1d5b040b29ec4cb4cf5190048",
            "value": "tokenizer_config.json: 100%"
          }
        },
        "6b290c4348fc486f901130a59a017e4d": {
          "model_module": "@jupyter-widgets/controls",
          "model_name": "FloatProgressModel",
          "model_module_version": "1.5.0",
          "state": {
            "_dom_classes": [],
            "_model_module": "@jupyter-widgets/controls",
            "_model_module_version": "1.5.0",
            "_model_name": "FloatProgressModel",
            "_view_count": null,
            "_view_module": "@jupyter-widgets/controls",
            "_view_module_version": "1.5.0",
            "_view_name": "ProgressView",
            "bar_style": "success",
            "description": "",
            "description_tooltip": null,
            "layout": "IPY_MODEL_ecf7def83f6f45a393df34e293b1ce4a",
            "max": 163,
            "min": 0,
            "orientation": "horizontal",
            "style": "IPY_MODEL_1ec7143dca314a6f961acdf6217bc104",
            "value": 163
          }
        },
        "ed328cac5d3e4ffa97fd3e2f168edc8c": {
          "model_module": "@jupyter-widgets/controls",
          "model_name": "HTMLModel",
          "model_module_version": "1.5.0",
          "state": {
            "_dom_classes": [],
            "_model_module": "@jupyter-widgets/controls",
            "_model_module_version": "1.5.0",
            "_model_name": "HTMLModel",
            "_view_count": null,
            "_view_module": "@jupyter-widgets/controls",
            "_view_module_version": "1.5.0",
            "_view_name": "HTMLView",
            "description": "",
            "description_tooltip": null,
            "layout": "IPY_MODEL_7adf5a9483ec46d596cd879f48a23492",
            "placeholder": "​",
            "style": "IPY_MODEL_11913d82c2bd40b89896e0dd93a565c5",
            "value": " 163/163 [00:00&lt;00:00, 11.6kB/s]"
          }
        },
        "4778a847cb594b2c898ccfe99b4cabe7": {
          "model_module": "@jupyter-widgets/base",
          "model_name": "LayoutModel",
          "model_module_version": "1.2.0",
          "state": {
            "_model_module": "@jupyter-widgets/base",
            "_model_module_version": "1.2.0",
            "_model_name": "LayoutModel",
            "_view_count": null,
            "_view_module": "@jupyter-widgets/base",
            "_view_module_version": "1.2.0",
            "_view_name": "LayoutView",
            "align_content": null,
            "align_items": null,
            "align_self": null,
            "border": null,
            "bottom": null,
            "display": null,
            "flex": null,
            "flex_flow": null,
            "grid_area": null,
            "grid_auto_columns": null,
            "grid_auto_flow": null,
            "grid_auto_rows": null,
            "grid_column": null,
            "grid_gap": null,
            "grid_row": null,
            "grid_template_areas": null,
            "grid_template_columns": null,
            "grid_template_rows": null,
            "height": null,
            "justify_content": null,
            "justify_items": null,
            "left": null,
            "margin": null,
            "max_height": null,
            "max_width": null,
            "min_height": null,
            "min_width": null,
            "object_fit": null,
            "object_position": null,
            "order": null,
            "overflow": null,
            "overflow_x": null,
            "overflow_y": null,
            "padding": null,
            "right": null,
            "top": null,
            "visibility": null,
            "width": null
          }
        },
        "ce0aac9412f64708a096000393c92459": {
          "model_module": "@jupyter-widgets/base",
          "model_name": "LayoutModel",
          "model_module_version": "1.2.0",
          "state": {
            "_model_module": "@jupyter-widgets/base",
            "_model_module_version": "1.2.0",
            "_model_name": "LayoutModel",
            "_view_count": null,
            "_view_module": "@jupyter-widgets/base",
            "_view_module_version": "1.2.0",
            "_view_name": "LayoutView",
            "align_content": null,
            "align_items": null,
            "align_self": null,
            "border": null,
            "bottom": null,
            "display": null,
            "flex": null,
            "flex_flow": null,
            "grid_area": null,
            "grid_auto_columns": null,
            "grid_auto_flow": null,
            "grid_auto_rows": null,
            "grid_column": null,
            "grid_gap": null,
            "grid_row": null,
            "grid_template_areas": null,
            "grid_template_columns": null,
            "grid_template_rows": null,
            "height": null,
            "justify_content": null,
            "justify_items": null,
            "left": null,
            "margin": null,
            "max_height": null,
            "max_width": null,
            "min_height": null,
            "min_width": null,
            "object_fit": null,
            "object_position": null,
            "order": null,
            "overflow": null,
            "overflow_x": null,
            "overflow_y": null,
            "padding": null,
            "right": null,
            "top": null,
            "visibility": null,
            "width": null
          }
        },
        "06ab85e1d5b040b29ec4cb4cf5190048": {
          "model_module": "@jupyter-widgets/controls",
          "model_name": "DescriptionStyleModel",
          "model_module_version": "1.5.0",
          "state": {
            "_model_module": "@jupyter-widgets/controls",
            "_model_module_version": "1.5.0",
            "_model_name": "DescriptionStyleModel",
            "_view_count": null,
            "_view_module": "@jupyter-widgets/base",
            "_view_module_version": "1.2.0",
            "_view_name": "StyleView",
            "description_width": ""
          }
        },
        "ecf7def83f6f45a393df34e293b1ce4a": {
          "model_module": "@jupyter-widgets/base",
          "model_name": "LayoutModel",
          "model_module_version": "1.2.0",
          "state": {
            "_model_module": "@jupyter-widgets/base",
            "_model_module_version": "1.2.0",
            "_model_name": "LayoutModel",
            "_view_count": null,
            "_view_module": "@jupyter-widgets/base",
            "_view_module_version": "1.2.0",
            "_view_name": "LayoutView",
            "align_content": null,
            "align_items": null,
            "align_self": null,
            "border": null,
            "bottom": null,
            "display": null,
            "flex": null,
            "flex_flow": null,
            "grid_area": null,
            "grid_auto_columns": null,
            "grid_auto_flow": null,
            "grid_auto_rows": null,
            "grid_column": null,
            "grid_gap": null,
            "grid_row": null,
            "grid_template_areas": null,
            "grid_template_columns": null,
            "grid_template_rows": null,
            "height": null,
            "justify_content": null,
            "justify_items": null,
            "left": null,
            "margin": null,
            "max_height": null,
            "max_width": null,
            "min_height": null,
            "min_width": null,
            "object_fit": null,
            "object_position": null,
            "order": null,
            "overflow": null,
            "overflow_x": null,
            "overflow_y": null,
            "padding": null,
            "right": null,
            "top": null,
            "visibility": null,
            "width": null
          }
        },
        "1ec7143dca314a6f961acdf6217bc104": {
          "model_module": "@jupyter-widgets/controls",
          "model_name": "ProgressStyleModel",
          "model_module_version": "1.5.0",
          "state": {
            "_model_module": "@jupyter-widgets/controls",
            "_model_module_version": "1.5.0",
            "_model_name": "ProgressStyleModel",
            "_view_count": null,
            "_view_module": "@jupyter-widgets/base",
            "_view_module_version": "1.2.0",
            "_view_name": "StyleView",
            "bar_color": null,
            "description_width": ""
          }
        },
        "7adf5a9483ec46d596cd879f48a23492": {
          "model_module": "@jupyter-widgets/base",
          "model_name": "LayoutModel",
          "model_module_version": "1.2.0",
          "state": {
            "_model_module": "@jupyter-widgets/base",
            "_model_module_version": "1.2.0",
            "_model_name": "LayoutModel",
            "_view_count": null,
            "_view_module": "@jupyter-widgets/base",
            "_view_module_version": "1.2.0",
            "_view_name": "LayoutView",
            "align_content": null,
            "align_items": null,
            "align_self": null,
            "border": null,
            "bottom": null,
            "display": null,
            "flex": null,
            "flex_flow": null,
            "grid_area": null,
            "grid_auto_columns": null,
            "grid_auto_flow": null,
            "grid_auto_rows": null,
            "grid_column": null,
            "grid_gap": null,
            "grid_row": null,
            "grid_template_areas": null,
            "grid_template_columns": null,
            "grid_template_rows": null,
            "height": null,
            "justify_content": null,
            "justify_items": null,
            "left": null,
            "margin": null,
            "max_height": null,
            "max_width": null,
            "min_height": null,
            "min_width": null,
            "object_fit": null,
            "object_position": null,
            "order": null,
            "overflow": null,
            "overflow_x": null,
            "overflow_y": null,
            "padding": null,
            "right": null,
            "top": null,
            "visibility": null,
            "width": null
          }
        },
        "11913d82c2bd40b89896e0dd93a565c5": {
          "model_module": "@jupyter-widgets/controls",
          "model_name": "DescriptionStyleModel",
          "model_module_version": "1.5.0",
          "state": {
            "_model_module": "@jupyter-widgets/controls",
            "_model_module_version": "1.5.0",
            "_model_name": "DescriptionStyleModel",
            "_view_count": null,
            "_view_module": "@jupyter-widgets/base",
            "_view_module_version": "1.2.0",
            "_view_name": "StyleView",
            "description_width": ""
          }
        },
        "c235a34434d64d8c828bac8dc0d159e4": {
          "model_module": "@jupyter-widgets/controls",
          "model_name": "HBoxModel",
          "model_module_version": "1.5.0",
          "state": {
            "_dom_classes": [],
            "_model_module": "@jupyter-widgets/controls",
            "_model_module_version": "1.5.0",
            "_model_name": "HBoxModel",
            "_view_count": null,
            "_view_module": "@jupyter-widgets/controls",
            "_view_module_version": "1.5.0",
            "_view_name": "HBoxView",
            "box_style": "",
            "children": [
              "IPY_MODEL_b606664f76064bc994be8f82be38fcfe",
              "IPY_MODEL_069732bf169947c2b0ed3f6fe84a9074",
              "IPY_MODEL_c041d39718074423b52e67129ccfa722"
            ],
            "layout": "IPY_MODEL_4d4f59748a014046820d9a52a8fbff29"
          }
        },
        "b606664f76064bc994be8f82be38fcfe": {
          "model_module": "@jupyter-widgets/controls",
          "model_name": "HTMLModel",
          "model_module_version": "1.5.0",
          "state": {
            "_dom_classes": [],
            "_model_module": "@jupyter-widgets/controls",
            "_model_module_version": "1.5.0",
            "_model_name": "HTMLModel",
            "_view_count": null,
            "_view_module": "@jupyter-widgets/controls",
            "_view_module_version": "1.5.0",
            "_view_name": "HTMLView",
            "description": "",
            "description_tooltip": null,
            "layout": "IPY_MODEL_3538a19d7c8e44178064ec52eff7c2bb",
            "placeholder": "​",
            "style": "IPY_MODEL_1c431c1a215d4ea581734a6f41ab0ce1",
            "value": "vocab.json: 100%"
          }
        },
        "069732bf169947c2b0ed3f6fe84a9074": {
          "model_module": "@jupyter-widgets/controls",
          "model_name": "FloatProgressModel",
          "model_module_version": "1.5.0",
          "state": {
            "_dom_classes": [],
            "_model_module": "@jupyter-widgets/controls",
            "_model_module_version": "1.5.0",
            "_model_name": "FloatProgressModel",
            "_view_count": null,
            "_view_module": "@jupyter-widgets/controls",
            "_view_module_version": "1.5.0",
            "_view_name": "ProgressView",
            "bar_style": "success",
            "description": "",
            "description_tooltip": null,
            "layout": "IPY_MODEL_deae0914d5a94f238b96594eea7a336c",
            "max": 291,
            "min": 0,
            "orientation": "horizontal",
            "style": "IPY_MODEL_19c537ad4c9f45f6afd8609a85351ed2",
            "value": 291
          }
        },
        "c041d39718074423b52e67129ccfa722": {
          "model_module": "@jupyter-widgets/controls",
          "model_name": "HTMLModel",
          "model_module_version": "1.5.0",
          "state": {
            "_dom_classes": [],
            "_model_module": "@jupyter-widgets/controls",
            "_model_module_version": "1.5.0",
            "_model_name": "HTMLModel",
            "_view_count": null,
            "_view_module": "@jupyter-widgets/controls",
            "_view_module_version": "1.5.0",
            "_view_name": "HTMLView",
            "description": "",
            "description_tooltip": null,
            "layout": "IPY_MODEL_1dc375f136cb40858e8c123bb1b15d75",
            "placeholder": "​",
            "style": "IPY_MODEL_23d993b998044ebdbcf5678f88c591bd",
            "value": " 291/291 [00:00&lt;00:00, 30.8kB/s]"
          }
        },
        "4d4f59748a014046820d9a52a8fbff29": {
          "model_module": "@jupyter-widgets/base",
          "model_name": "LayoutModel",
          "model_module_version": "1.2.0",
          "state": {
            "_model_module": "@jupyter-widgets/base",
            "_model_module_version": "1.2.0",
            "_model_name": "LayoutModel",
            "_view_count": null,
            "_view_module": "@jupyter-widgets/base",
            "_view_module_version": "1.2.0",
            "_view_name": "LayoutView",
            "align_content": null,
            "align_items": null,
            "align_self": null,
            "border": null,
            "bottom": null,
            "display": null,
            "flex": null,
            "flex_flow": null,
            "grid_area": null,
            "grid_auto_columns": null,
            "grid_auto_flow": null,
            "grid_auto_rows": null,
            "grid_column": null,
            "grid_gap": null,
            "grid_row": null,
            "grid_template_areas": null,
            "grid_template_columns": null,
            "grid_template_rows": null,
            "height": null,
            "justify_content": null,
            "justify_items": null,
            "left": null,
            "margin": null,
            "max_height": null,
            "max_width": null,
            "min_height": null,
            "min_width": null,
            "object_fit": null,
            "object_position": null,
            "order": null,
            "overflow": null,
            "overflow_x": null,
            "overflow_y": null,
            "padding": null,
            "right": null,
            "top": null,
            "visibility": null,
            "width": null
          }
        },
        "3538a19d7c8e44178064ec52eff7c2bb": {
          "model_module": "@jupyter-widgets/base",
          "model_name": "LayoutModel",
          "model_module_version": "1.2.0",
          "state": {
            "_model_module": "@jupyter-widgets/base",
            "_model_module_version": "1.2.0",
            "_model_name": "LayoutModel",
            "_view_count": null,
            "_view_module": "@jupyter-widgets/base",
            "_view_module_version": "1.2.0",
            "_view_name": "LayoutView",
            "align_content": null,
            "align_items": null,
            "align_self": null,
            "border": null,
            "bottom": null,
            "display": null,
            "flex": null,
            "flex_flow": null,
            "grid_area": null,
            "grid_auto_columns": null,
            "grid_auto_flow": null,
            "grid_auto_rows": null,
            "grid_column": null,
            "grid_gap": null,
            "grid_row": null,
            "grid_template_areas": null,
            "grid_template_columns": null,
            "grid_template_rows": null,
            "height": null,
            "justify_content": null,
            "justify_items": null,
            "left": null,
            "margin": null,
            "max_height": null,
            "max_width": null,
            "min_height": null,
            "min_width": null,
            "object_fit": null,
            "object_position": null,
            "order": null,
            "overflow": null,
            "overflow_x": null,
            "overflow_y": null,
            "padding": null,
            "right": null,
            "top": null,
            "visibility": null,
            "width": null
          }
        },
        "1c431c1a215d4ea581734a6f41ab0ce1": {
          "model_module": "@jupyter-widgets/controls",
          "model_name": "DescriptionStyleModel",
          "model_module_version": "1.5.0",
          "state": {
            "_model_module": "@jupyter-widgets/controls",
            "_model_module_version": "1.5.0",
            "_model_name": "DescriptionStyleModel",
            "_view_count": null,
            "_view_module": "@jupyter-widgets/base",
            "_view_module_version": "1.2.0",
            "_view_name": "StyleView",
            "description_width": ""
          }
        },
        "deae0914d5a94f238b96594eea7a336c": {
          "model_module": "@jupyter-widgets/base",
          "model_name": "LayoutModel",
          "model_module_version": "1.2.0",
          "state": {
            "_model_module": "@jupyter-widgets/base",
            "_model_module_version": "1.2.0",
            "_model_name": "LayoutModel",
            "_view_count": null,
            "_view_module": "@jupyter-widgets/base",
            "_view_module_version": "1.2.0",
            "_view_name": "LayoutView",
            "align_content": null,
            "align_items": null,
            "align_self": null,
            "border": null,
            "bottom": null,
            "display": null,
            "flex": null,
            "flex_flow": null,
            "grid_area": null,
            "grid_auto_columns": null,
            "grid_auto_flow": null,
            "grid_auto_rows": null,
            "grid_column": null,
            "grid_gap": null,
            "grid_row": null,
            "grid_template_areas": null,
            "grid_template_columns": null,
            "grid_template_rows": null,
            "height": null,
            "justify_content": null,
            "justify_items": null,
            "left": null,
            "margin": null,
            "max_height": null,
            "max_width": null,
            "min_height": null,
            "min_width": null,
            "object_fit": null,
            "object_position": null,
            "order": null,
            "overflow": null,
            "overflow_x": null,
            "overflow_y": null,
            "padding": null,
            "right": null,
            "top": null,
            "visibility": null,
            "width": null
          }
        },
        "19c537ad4c9f45f6afd8609a85351ed2": {
          "model_module": "@jupyter-widgets/controls",
          "model_name": "ProgressStyleModel",
          "model_module_version": "1.5.0",
          "state": {
            "_model_module": "@jupyter-widgets/controls",
            "_model_module_version": "1.5.0",
            "_model_name": "ProgressStyleModel",
            "_view_count": null,
            "_view_module": "@jupyter-widgets/base",
            "_view_module_version": "1.2.0",
            "_view_name": "StyleView",
            "bar_color": null,
            "description_width": ""
          }
        },
        "1dc375f136cb40858e8c123bb1b15d75": {
          "model_module": "@jupyter-widgets/base",
          "model_name": "LayoutModel",
          "model_module_version": "1.2.0",
          "state": {
            "_model_module": "@jupyter-widgets/base",
            "_model_module_version": "1.2.0",
            "_model_name": "LayoutModel",
            "_view_count": null,
            "_view_module": "@jupyter-widgets/base",
            "_view_module_version": "1.2.0",
            "_view_name": "LayoutView",
            "align_content": null,
            "align_items": null,
            "align_self": null,
            "border": null,
            "bottom": null,
            "display": null,
            "flex": null,
            "flex_flow": null,
            "grid_area": null,
            "grid_auto_columns": null,
            "grid_auto_flow": null,
            "grid_auto_rows": null,
            "grid_column": null,
            "grid_gap": null,
            "grid_row": null,
            "grid_template_areas": null,
            "grid_template_columns": null,
            "grid_template_rows": null,
            "height": null,
            "justify_content": null,
            "justify_items": null,
            "left": null,
            "margin": null,
            "max_height": null,
            "max_width": null,
            "min_height": null,
            "min_width": null,
            "object_fit": null,
            "object_position": null,
            "order": null,
            "overflow": null,
            "overflow_x": null,
            "overflow_y": null,
            "padding": null,
            "right": null,
            "top": null,
            "visibility": null,
            "width": null
          }
        },
        "23d993b998044ebdbcf5678f88c591bd": {
          "model_module": "@jupyter-widgets/controls",
          "model_name": "DescriptionStyleModel",
          "model_module_version": "1.5.0",
          "state": {
            "_model_module": "@jupyter-widgets/controls",
            "_model_module_version": "1.5.0",
            "_model_name": "DescriptionStyleModel",
            "_view_count": null,
            "_view_module": "@jupyter-widgets/base",
            "_view_module_version": "1.2.0",
            "_view_name": "StyleView",
            "description_width": ""
          }
        },
        "6f4c1fa80f70487c8b9e60e9d6b4cc2e": {
          "model_module": "@jupyter-widgets/controls",
          "model_name": "HBoxModel",
          "model_module_version": "1.5.0",
          "state": {
            "_dom_classes": [],
            "_model_module": "@jupyter-widgets/controls",
            "_model_module_version": "1.5.0",
            "_model_name": "HBoxModel",
            "_view_count": null,
            "_view_module": "@jupyter-widgets/controls",
            "_view_module_version": "1.5.0",
            "_view_name": "HBoxView",
            "box_style": "",
            "children": [
              "IPY_MODEL_194c7b2ed0d74504804d05014f483133",
              "IPY_MODEL_8f26c8fd90524e5587f676816b32d8d0",
              "IPY_MODEL_ae1c02f15bf843f59e864508c5b8da94"
            ],
            "layout": "IPY_MODEL_f46c0360fc654133bff879005ff2c461"
          }
        },
        "194c7b2ed0d74504804d05014f483133": {
          "model_module": "@jupyter-widgets/controls",
          "model_name": "HTMLModel",
          "model_module_version": "1.5.0",
          "state": {
            "_dom_classes": [],
            "_model_module": "@jupyter-widgets/controls",
            "_model_module_version": "1.5.0",
            "_model_name": "HTMLModel",
            "_view_count": null,
            "_view_module": "@jupyter-widgets/controls",
            "_view_module_version": "1.5.0",
            "_view_name": "HTMLView",
            "description": "",
            "description_tooltip": null,
            "layout": "IPY_MODEL_6f07a12c128146d483118ef4b6b13980",
            "placeholder": "​",
            "style": "IPY_MODEL_f62240b1c3814d05ba1e23b4bffd5a1d",
            "value": "special_tokens_map.json: 100%"
          }
        },
        "8f26c8fd90524e5587f676816b32d8d0": {
          "model_module": "@jupyter-widgets/controls",
          "model_name": "FloatProgressModel",
          "model_module_version": "1.5.0",
          "state": {
            "_dom_classes": [],
            "_model_module": "@jupyter-widgets/controls",
            "_model_module_version": "1.5.0",
            "_model_name": "FloatProgressModel",
            "_view_count": null,
            "_view_module": "@jupyter-widgets/controls",
            "_view_module_version": "1.5.0",
            "_view_name": "ProgressView",
            "bar_style": "success",
            "description": "",
            "description_tooltip": null,
            "layout": "IPY_MODEL_846fcd9af6454b5e90bf61d7ed3ae894",
            "max": 85,
            "min": 0,
            "orientation": "horizontal",
            "style": "IPY_MODEL_6f485e3218ea4ebbba53baf3d0fce415",
            "value": 85
          }
        },
        "ae1c02f15bf843f59e864508c5b8da94": {
          "model_module": "@jupyter-widgets/controls",
          "model_name": "HTMLModel",
          "model_module_version": "1.5.0",
          "state": {
            "_dom_classes": [],
            "_model_module": "@jupyter-widgets/controls",
            "_model_module_version": "1.5.0",
            "_model_name": "HTMLModel",
            "_view_count": null,
            "_view_module": "@jupyter-widgets/controls",
            "_view_module_version": "1.5.0",
            "_view_name": "HTMLView",
            "description": "",
            "description_tooltip": null,
            "layout": "IPY_MODEL_15c60ce9b373475cb56aca1fed30ea04",
            "placeholder": "​",
            "style": "IPY_MODEL_e822e56381c54e37b5feba8cc7a3e3de",
            "value": " 85.0/85.0 [00:00&lt;00:00, 10.2kB/s]"
          }
        },
        "f46c0360fc654133bff879005ff2c461": {
          "model_module": "@jupyter-widgets/base",
          "model_name": "LayoutModel",
          "model_module_version": "1.2.0",
          "state": {
            "_model_module": "@jupyter-widgets/base",
            "_model_module_version": "1.2.0",
            "_model_name": "LayoutModel",
            "_view_count": null,
            "_view_module": "@jupyter-widgets/base",
            "_view_module_version": "1.2.0",
            "_view_name": "LayoutView",
            "align_content": null,
            "align_items": null,
            "align_self": null,
            "border": null,
            "bottom": null,
            "display": null,
            "flex": null,
            "flex_flow": null,
            "grid_area": null,
            "grid_auto_columns": null,
            "grid_auto_flow": null,
            "grid_auto_rows": null,
            "grid_column": null,
            "grid_gap": null,
            "grid_row": null,
            "grid_template_areas": null,
            "grid_template_columns": null,
            "grid_template_rows": null,
            "height": null,
            "justify_content": null,
            "justify_items": null,
            "left": null,
            "margin": null,
            "max_height": null,
            "max_width": null,
            "min_height": null,
            "min_width": null,
            "object_fit": null,
            "object_position": null,
            "order": null,
            "overflow": null,
            "overflow_x": null,
            "overflow_y": null,
            "padding": null,
            "right": null,
            "top": null,
            "visibility": null,
            "width": null
          }
        },
        "6f07a12c128146d483118ef4b6b13980": {
          "model_module": "@jupyter-widgets/base",
          "model_name": "LayoutModel",
          "model_module_version": "1.2.0",
          "state": {
            "_model_module": "@jupyter-widgets/base",
            "_model_module_version": "1.2.0",
            "_model_name": "LayoutModel",
            "_view_count": null,
            "_view_module": "@jupyter-widgets/base",
            "_view_module_version": "1.2.0",
            "_view_name": "LayoutView",
            "align_content": null,
            "align_items": null,
            "align_self": null,
            "border": null,
            "bottom": null,
            "display": null,
            "flex": null,
            "flex_flow": null,
            "grid_area": null,
            "grid_auto_columns": null,
            "grid_auto_flow": null,
            "grid_auto_rows": null,
            "grid_column": null,
            "grid_gap": null,
            "grid_row": null,
            "grid_template_areas": null,
            "grid_template_columns": null,
            "grid_template_rows": null,
            "height": null,
            "justify_content": null,
            "justify_items": null,
            "left": null,
            "margin": null,
            "max_height": null,
            "max_width": null,
            "min_height": null,
            "min_width": null,
            "object_fit": null,
            "object_position": null,
            "order": null,
            "overflow": null,
            "overflow_x": null,
            "overflow_y": null,
            "padding": null,
            "right": null,
            "top": null,
            "visibility": null,
            "width": null
          }
        },
        "f62240b1c3814d05ba1e23b4bffd5a1d": {
          "model_module": "@jupyter-widgets/controls",
          "model_name": "DescriptionStyleModel",
          "model_module_version": "1.5.0",
          "state": {
            "_model_module": "@jupyter-widgets/controls",
            "_model_module_version": "1.5.0",
            "_model_name": "DescriptionStyleModel",
            "_view_count": null,
            "_view_module": "@jupyter-widgets/base",
            "_view_module_version": "1.2.0",
            "_view_name": "StyleView",
            "description_width": ""
          }
        },
        "846fcd9af6454b5e90bf61d7ed3ae894": {
          "model_module": "@jupyter-widgets/base",
          "model_name": "LayoutModel",
          "model_module_version": "1.2.0",
          "state": {
            "_model_module": "@jupyter-widgets/base",
            "_model_module_version": "1.2.0",
            "_model_name": "LayoutModel",
            "_view_count": null,
            "_view_module": "@jupyter-widgets/base",
            "_view_module_version": "1.2.0",
            "_view_name": "LayoutView",
            "align_content": null,
            "align_items": null,
            "align_self": null,
            "border": null,
            "bottom": null,
            "display": null,
            "flex": null,
            "flex_flow": null,
            "grid_area": null,
            "grid_auto_columns": null,
            "grid_auto_flow": null,
            "grid_auto_rows": null,
            "grid_column": null,
            "grid_gap": null,
            "grid_row": null,
            "grid_template_areas": null,
            "grid_template_columns": null,
            "grid_template_rows": null,
            "height": null,
            "justify_content": null,
            "justify_items": null,
            "left": null,
            "margin": null,
            "max_height": null,
            "max_width": null,
            "min_height": null,
            "min_width": null,
            "object_fit": null,
            "object_position": null,
            "order": null,
            "overflow": null,
            "overflow_x": null,
            "overflow_y": null,
            "padding": null,
            "right": null,
            "top": null,
            "visibility": null,
            "width": null
          }
        },
        "6f485e3218ea4ebbba53baf3d0fce415": {
          "model_module": "@jupyter-widgets/controls",
          "model_name": "ProgressStyleModel",
          "model_module_version": "1.5.0",
          "state": {
            "_model_module": "@jupyter-widgets/controls",
            "_model_module_version": "1.5.0",
            "_model_name": "ProgressStyleModel",
            "_view_count": null,
            "_view_module": "@jupyter-widgets/base",
            "_view_module_version": "1.2.0",
            "_view_name": "StyleView",
            "bar_color": null,
            "description_width": ""
          }
        },
        "15c60ce9b373475cb56aca1fed30ea04": {
          "model_module": "@jupyter-widgets/base",
          "model_name": "LayoutModel",
          "model_module_version": "1.2.0",
          "state": {
            "_model_module": "@jupyter-widgets/base",
            "_model_module_version": "1.2.0",
            "_model_name": "LayoutModel",
            "_view_count": null,
            "_view_module": "@jupyter-widgets/base",
            "_view_module_version": "1.2.0",
            "_view_name": "LayoutView",
            "align_content": null,
            "align_items": null,
            "align_self": null,
            "border": null,
            "bottom": null,
            "display": null,
            "flex": null,
            "flex_flow": null,
            "grid_area": null,
            "grid_auto_columns": null,
            "grid_auto_flow": null,
            "grid_auto_rows": null,
            "grid_column": null,
            "grid_gap": null,
            "grid_row": null,
            "grid_template_areas": null,
            "grid_template_columns": null,
            "grid_template_rows": null,
            "height": null,
            "justify_content": null,
            "justify_items": null,
            "left": null,
            "margin": null,
            "max_height": null,
            "max_width": null,
            "min_height": null,
            "min_width": null,
            "object_fit": null,
            "object_position": null,
            "order": null,
            "overflow": null,
            "overflow_x": null,
            "overflow_y": null,
            "padding": null,
            "right": null,
            "top": null,
            "visibility": null,
            "width": null
          }
        },
        "e822e56381c54e37b5feba8cc7a3e3de": {
          "model_module": "@jupyter-widgets/controls",
          "model_name": "DescriptionStyleModel",
          "model_module_version": "1.5.0",
          "state": {
            "_model_module": "@jupyter-widgets/controls",
            "_model_module_version": "1.5.0",
            "_model_name": "DescriptionStyleModel",
            "_view_count": null,
            "_view_module": "@jupyter-widgets/base",
            "_view_module_version": "1.2.0",
            "_view_name": "StyleView",
            "description_width": ""
          }
        },
        "9621304070464b5eb3e051e761c898ef": {
          "model_module": "@jupyter-widgets/controls",
          "model_name": "HBoxModel",
          "model_module_version": "1.5.0",
          "state": {
            "_dom_classes": [],
            "_model_module": "@jupyter-widgets/controls",
            "_model_module_version": "1.5.0",
            "_model_name": "HBoxModel",
            "_view_count": null,
            "_view_module": "@jupyter-widgets/controls",
            "_view_module_version": "1.5.0",
            "_view_name": "HBoxView",
            "box_style": "",
            "children": [
              "IPY_MODEL_770cd06b64af416b85a2e332e4021f2a",
              "IPY_MODEL_f8a83bf5eae848239c6ee5bde8797180",
              "IPY_MODEL_df66a01d2e5245bbaa60c247d1840438"
            ],
            "layout": "IPY_MODEL_2027b0fa29a446e08e964b98704a0b8f"
          }
        },
        "770cd06b64af416b85a2e332e4021f2a": {
          "model_module": "@jupyter-widgets/controls",
          "model_name": "HTMLModel",
          "model_module_version": "1.5.0",
          "state": {
            "_dom_classes": [],
            "_model_module": "@jupyter-widgets/controls",
            "_model_module_version": "1.5.0",
            "_model_name": "HTMLModel",
            "_view_count": null,
            "_view_module": "@jupyter-widgets/controls",
            "_view_module_version": "1.5.0",
            "_view_name": "HTMLView",
            "description": "",
            "description_tooltip": null,
            "layout": "IPY_MODEL_ac8d67dcbe434fc48cdd2e8746e150cd",
            "placeholder": "​",
            "style": "IPY_MODEL_9be202c4d9f3423cbd6b1b32d9f95221",
            "value": "config.json: 100%"
          }
        },
        "f8a83bf5eae848239c6ee5bde8797180": {
          "model_module": "@jupyter-widgets/controls",
          "model_name": "FloatProgressModel",
          "model_module_version": "1.5.0",
          "state": {
            "_dom_classes": [],
            "_model_module": "@jupyter-widgets/controls",
            "_model_module_version": "1.5.0",
            "_model_name": "FloatProgressModel",
            "_view_count": null,
            "_view_module": "@jupyter-widgets/controls",
            "_view_module_version": "1.5.0",
            "_view_name": "ProgressView",
            "bar_style": "success",
            "description": "",
            "description_tooltip": null,
            "layout": "IPY_MODEL_9c9cafd5e119423281c00937a1b8a8e2",
            "max": 1596,
            "min": 0,
            "orientation": "horizontal",
            "style": "IPY_MODEL_9cc23aa2d26c489285622dfda05149be",
            "value": 1596
          }
        },
        "df66a01d2e5245bbaa60c247d1840438": {
          "model_module": "@jupyter-widgets/controls",
          "model_name": "HTMLModel",
          "model_module_version": "1.5.0",
          "state": {
            "_dom_classes": [],
            "_model_module": "@jupyter-widgets/controls",
            "_model_module_version": "1.5.0",
            "_model_name": "HTMLModel",
            "_view_count": null,
            "_view_module": "@jupyter-widgets/controls",
            "_view_module_version": "1.5.0",
            "_view_name": "HTMLView",
            "description": "",
            "description_tooltip": null,
            "layout": "IPY_MODEL_8b40ac94597e42d49e9538403402e1ed",
            "placeholder": "​",
            "style": "IPY_MODEL_db1c093b3ff5488bbbb2504a1037bc57",
            "value": " 1.60k/1.60k [00:00&lt;00:00, 156kB/s]"
          }
        },
        "2027b0fa29a446e08e964b98704a0b8f": {
          "model_module": "@jupyter-widgets/base",
          "model_name": "LayoutModel",
          "model_module_version": "1.2.0",
          "state": {
            "_model_module": "@jupyter-widgets/base",
            "_model_module_version": "1.2.0",
            "_model_name": "LayoutModel",
            "_view_count": null,
            "_view_module": "@jupyter-widgets/base",
            "_view_module_version": "1.2.0",
            "_view_name": "LayoutView",
            "align_content": null,
            "align_items": null,
            "align_self": null,
            "border": null,
            "bottom": null,
            "display": null,
            "flex": null,
            "flex_flow": null,
            "grid_area": null,
            "grid_auto_columns": null,
            "grid_auto_flow": null,
            "grid_auto_rows": null,
            "grid_column": null,
            "grid_gap": null,
            "grid_row": null,
            "grid_template_areas": null,
            "grid_template_columns": null,
            "grid_template_rows": null,
            "height": null,
            "justify_content": null,
            "justify_items": null,
            "left": null,
            "margin": null,
            "max_height": null,
            "max_width": null,
            "min_height": null,
            "min_width": null,
            "object_fit": null,
            "object_position": null,
            "order": null,
            "overflow": null,
            "overflow_x": null,
            "overflow_y": null,
            "padding": null,
            "right": null,
            "top": null,
            "visibility": null,
            "width": null
          }
        },
        "ac8d67dcbe434fc48cdd2e8746e150cd": {
          "model_module": "@jupyter-widgets/base",
          "model_name": "LayoutModel",
          "model_module_version": "1.2.0",
          "state": {
            "_model_module": "@jupyter-widgets/base",
            "_model_module_version": "1.2.0",
            "_model_name": "LayoutModel",
            "_view_count": null,
            "_view_module": "@jupyter-widgets/base",
            "_view_module_version": "1.2.0",
            "_view_name": "LayoutView",
            "align_content": null,
            "align_items": null,
            "align_self": null,
            "border": null,
            "bottom": null,
            "display": null,
            "flex": null,
            "flex_flow": null,
            "grid_area": null,
            "grid_auto_columns": null,
            "grid_auto_flow": null,
            "grid_auto_rows": null,
            "grid_column": null,
            "grid_gap": null,
            "grid_row": null,
            "grid_template_areas": null,
            "grid_template_columns": null,
            "grid_template_rows": null,
            "height": null,
            "justify_content": null,
            "justify_items": null,
            "left": null,
            "margin": null,
            "max_height": null,
            "max_width": null,
            "min_height": null,
            "min_width": null,
            "object_fit": null,
            "object_position": null,
            "order": null,
            "overflow": null,
            "overflow_x": null,
            "overflow_y": null,
            "padding": null,
            "right": null,
            "top": null,
            "visibility": null,
            "width": null
          }
        },
        "9be202c4d9f3423cbd6b1b32d9f95221": {
          "model_module": "@jupyter-widgets/controls",
          "model_name": "DescriptionStyleModel",
          "model_module_version": "1.5.0",
          "state": {
            "_model_module": "@jupyter-widgets/controls",
            "_model_module_version": "1.5.0",
            "_model_name": "DescriptionStyleModel",
            "_view_count": null,
            "_view_module": "@jupyter-widgets/base",
            "_view_module_version": "1.2.0",
            "_view_name": "StyleView",
            "description_width": ""
          }
        },
        "9c9cafd5e119423281c00937a1b8a8e2": {
          "model_module": "@jupyter-widgets/base",
          "model_name": "LayoutModel",
          "model_module_version": "1.2.0",
          "state": {
            "_model_module": "@jupyter-widgets/base",
            "_model_module_version": "1.2.0",
            "_model_name": "LayoutModel",
            "_view_count": null,
            "_view_module": "@jupyter-widgets/base",
            "_view_module_version": "1.2.0",
            "_view_name": "LayoutView",
            "align_content": null,
            "align_items": null,
            "align_self": null,
            "border": null,
            "bottom": null,
            "display": null,
            "flex": null,
            "flex_flow": null,
            "grid_area": null,
            "grid_auto_columns": null,
            "grid_auto_flow": null,
            "grid_auto_rows": null,
            "grid_column": null,
            "grid_gap": null,
            "grid_row": null,
            "grid_template_areas": null,
            "grid_template_columns": null,
            "grid_template_rows": null,
            "height": null,
            "justify_content": null,
            "justify_items": null,
            "left": null,
            "margin": null,
            "max_height": null,
            "max_width": null,
            "min_height": null,
            "min_width": null,
            "object_fit": null,
            "object_position": null,
            "order": null,
            "overflow": null,
            "overflow_x": null,
            "overflow_y": null,
            "padding": null,
            "right": null,
            "top": null,
            "visibility": null,
            "width": null
          }
        },
        "9cc23aa2d26c489285622dfda05149be": {
          "model_module": "@jupyter-widgets/controls",
          "model_name": "ProgressStyleModel",
          "model_module_version": "1.5.0",
          "state": {
            "_model_module": "@jupyter-widgets/controls",
            "_model_module_version": "1.5.0",
            "_model_name": "ProgressStyleModel",
            "_view_count": null,
            "_view_module": "@jupyter-widgets/base",
            "_view_module_version": "1.2.0",
            "_view_name": "StyleView",
            "bar_color": null,
            "description_width": ""
          }
        },
        "8b40ac94597e42d49e9538403402e1ed": {
          "model_module": "@jupyter-widgets/base",
          "model_name": "LayoutModel",
          "model_module_version": "1.2.0",
          "state": {
            "_model_module": "@jupyter-widgets/base",
            "_model_module_version": "1.2.0",
            "_model_name": "LayoutModel",
            "_view_count": null,
            "_view_module": "@jupyter-widgets/base",
            "_view_module_version": "1.2.0",
            "_view_name": "LayoutView",
            "align_content": null,
            "align_items": null,
            "align_self": null,
            "border": null,
            "bottom": null,
            "display": null,
            "flex": null,
            "flex_flow": null,
            "grid_area": null,
            "grid_auto_columns": null,
            "grid_auto_flow": null,
            "grid_auto_rows": null,
            "grid_column": null,
            "grid_gap": null,
            "grid_row": null,
            "grid_template_areas": null,
            "grid_template_columns": null,
            "grid_template_rows": null,
            "height": null,
            "justify_content": null,
            "justify_items": null,
            "left": null,
            "margin": null,
            "max_height": null,
            "max_width": null,
            "min_height": null,
            "min_width": null,
            "object_fit": null,
            "object_position": null,
            "order": null,
            "overflow": null,
            "overflow_x": null,
            "overflow_y": null,
            "padding": null,
            "right": null,
            "top": null,
            "visibility": null,
            "width": null
          }
        },
        "db1c093b3ff5488bbbb2504a1037bc57": {
          "model_module": "@jupyter-widgets/controls",
          "model_name": "DescriptionStyleModel",
          "model_module_version": "1.5.0",
          "state": {
            "_model_module": "@jupyter-widgets/controls",
            "_model_module_version": "1.5.0",
            "_model_name": "DescriptionStyleModel",
            "_view_count": null,
            "_view_module": "@jupyter-widgets/base",
            "_view_module_version": "1.2.0",
            "_view_name": "StyleView",
            "description_width": ""
          }
        },
        "ed62152a988340f4822d4bce023aaff0": {
          "model_module": "@jupyter-widgets/controls",
          "model_name": "HBoxModel",
          "model_module_version": "1.5.0",
          "state": {
            "_dom_classes": [],
            "_model_module": "@jupyter-widgets/controls",
            "_model_module_version": "1.5.0",
            "_model_name": "HBoxModel",
            "_view_count": null,
            "_view_module": "@jupyter-widgets/controls",
            "_view_module_version": "1.5.0",
            "_view_name": "HBoxView",
            "box_style": "",
            "children": [
              "IPY_MODEL_d8cd8f6dfaac41f3b50313be9d4aef10",
              "IPY_MODEL_38a22ee0105f490e9e7094a1a7f6c488",
              "IPY_MODEL_f4950455116644eeb6666f17d6d231a4"
            ],
            "layout": "IPY_MODEL_db48fa6fb01d4809940d7bd687f6165e"
          }
        },
        "d8cd8f6dfaac41f3b50313be9d4aef10": {
          "model_module": "@jupyter-widgets/controls",
          "model_name": "HTMLModel",
          "model_module_version": "1.5.0",
          "state": {
            "_dom_classes": [],
            "_model_module": "@jupyter-widgets/controls",
            "_model_module_version": "1.5.0",
            "_model_name": "HTMLModel",
            "_view_count": null,
            "_view_module": "@jupyter-widgets/controls",
            "_view_module_version": "1.5.0",
            "_view_name": "HTMLView",
            "description": "",
            "description_tooltip": null,
            "layout": "IPY_MODEL_2edc13b25c2c467b8815c818ec1b47b7",
            "placeholder": "​",
            "style": "IPY_MODEL_53a516b95ffc484f97f2c318b45f2d3d",
            "value": "model.safetensors: 100%"
          }
        },
        "38a22ee0105f490e9e7094a1a7f6c488": {
          "model_module": "@jupyter-widgets/controls",
          "model_name": "FloatProgressModel",
          "model_module_version": "1.5.0",
          "state": {
            "_dom_classes": [],
            "_model_module": "@jupyter-widgets/controls",
            "_model_module_version": "1.5.0",
            "_model_name": "FloatProgressModel",
            "_view_count": null,
            "_view_module": "@jupyter-widgets/controls",
            "_view_module_version": "1.5.0",
            "_view_name": "ProgressView",
            "bar_style": "success",
            "description": "",
            "description_tooltip": null,
            "layout": "IPY_MODEL_72411dad8d6a44c5a8df218b2c2bc890",
            "max": 377607901,
            "min": 0,
            "orientation": "horizontal",
            "style": "IPY_MODEL_75d0ca3cf5d548a4a86a3c0eb29a7015",
            "value": 377607901
          }
        },
        "f4950455116644eeb6666f17d6d231a4": {
          "model_module": "@jupyter-widgets/controls",
          "model_name": "HTMLModel",
          "model_module_version": "1.5.0",
          "state": {
            "_dom_classes": [],
            "_model_module": "@jupyter-widgets/controls",
            "_model_module_version": "1.5.0",
            "_model_name": "HTMLModel",
            "_view_count": null,
            "_view_module": "@jupyter-widgets/controls",
            "_view_module_version": "1.5.0",
            "_view_name": "HTMLView",
            "description": "",
            "description_tooltip": null,
            "layout": "IPY_MODEL_91c3c0a2bbc5418d8868bdfbfad1d400",
            "placeholder": "​",
            "style": "IPY_MODEL_5c936b8b807c41f3a756c4507fc42e73",
            "value": " 378M/378M [00:14&lt;00:00, 20.6MB/s]"
          }
        },
        "db48fa6fb01d4809940d7bd687f6165e": {
          "model_module": "@jupyter-widgets/base",
          "model_name": "LayoutModel",
          "model_module_version": "1.2.0",
          "state": {
            "_model_module": "@jupyter-widgets/base",
            "_model_module_version": "1.2.0",
            "_model_name": "LayoutModel",
            "_view_count": null,
            "_view_module": "@jupyter-widgets/base",
            "_view_module_version": "1.2.0",
            "_view_name": "LayoutView",
            "align_content": null,
            "align_items": null,
            "align_self": null,
            "border": null,
            "bottom": null,
            "display": null,
            "flex": null,
            "flex_flow": null,
            "grid_area": null,
            "grid_auto_columns": null,
            "grid_auto_flow": null,
            "grid_auto_rows": null,
            "grid_column": null,
            "grid_gap": null,
            "grid_row": null,
            "grid_template_areas": null,
            "grid_template_columns": null,
            "grid_template_rows": null,
            "height": null,
            "justify_content": null,
            "justify_items": null,
            "left": null,
            "margin": null,
            "max_height": null,
            "max_width": null,
            "min_height": null,
            "min_width": null,
            "object_fit": null,
            "object_position": null,
            "order": null,
            "overflow": null,
            "overflow_x": null,
            "overflow_y": null,
            "padding": null,
            "right": null,
            "top": null,
            "visibility": null,
            "width": null
          }
        },
        "2edc13b25c2c467b8815c818ec1b47b7": {
          "model_module": "@jupyter-widgets/base",
          "model_name": "LayoutModel",
          "model_module_version": "1.2.0",
          "state": {
            "_model_module": "@jupyter-widgets/base",
            "_model_module_version": "1.2.0",
            "_model_name": "LayoutModel",
            "_view_count": null,
            "_view_module": "@jupyter-widgets/base",
            "_view_module_version": "1.2.0",
            "_view_name": "LayoutView",
            "align_content": null,
            "align_items": null,
            "align_self": null,
            "border": null,
            "bottom": null,
            "display": null,
            "flex": null,
            "flex_flow": null,
            "grid_area": null,
            "grid_auto_columns": null,
            "grid_auto_flow": null,
            "grid_auto_rows": null,
            "grid_column": null,
            "grid_gap": null,
            "grid_row": null,
            "grid_template_areas": null,
            "grid_template_columns": null,
            "grid_template_rows": null,
            "height": null,
            "justify_content": null,
            "justify_items": null,
            "left": null,
            "margin": null,
            "max_height": null,
            "max_width": null,
            "min_height": null,
            "min_width": null,
            "object_fit": null,
            "object_position": null,
            "order": null,
            "overflow": null,
            "overflow_x": null,
            "overflow_y": null,
            "padding": null,
            "right": null,
            "top": null,
            "visibility": null,
            "width": null
          }
        },
        "53a516b95ffc484f97f2c318b45f2d3d": {
          "model_module": "@jupyter-widgets/controls",
          "model_name": "DescriptionStyleModel",
          "model_module_version": "1.5.0",
          "state": {
            "_model_module": "@jupyter-widgets/controls",
            "_model_module_version": "1.5.0",
            "_model_name": "DescriptionStyleModel",
            "_view_count": null,
            "_view_module": "@jupyter-widgets/base",
            "_view_module_version": "1.2.0",
            "_view_name": "StyleView",
            "description_width": ""
          }
        },
        "72411dad8d6a44c5a8df218b2c2bc890": {
          "model_module": "@jupyter-widgets/base",
          "model_name": "LayoutModel",
          "model_module_version": "1.2.0",
          "state": {
            "_model_module": "@jupyter-widgets/base",
            "_model_module_version": "1.2.0",
            "_model_name": "LayoutModel",
            "_view_count": null,
            "_view_module": "@jupyter-widgets/base",
            "_view_module_version": "1.2.0",
            "_view_name": "LayoutView",
            "align_content": null,
            "align_items": null,
            "align_self": null,
            "border": null,
            "bottom": null,
            "display": null,
            "flex": null,
            "flex_flow": null,
            "grid_area": null,
            "grid_auto_columns": null,
            "grid_auto_flow": null,
            "grid_auto_rows": null,
            "grid_column": null,
            "grid_gap": null,
            "grid_row": null,
            "grid_template_areas": null,
            "grid_template_columns": null,
            "grid_template_rows": null,
            "height": null,
            "justify_content": null,
            "justify_items": null,
            "left": null,
            "margin": null,
            "max_height": null,
            "max_width": null,
            "min_height": null,
            "min_width": null,
            "object_fit": null,
            "object_position": null,
            "order": null,
            "overflow": null,
            "overflow_x": null,
            "overflow_y": null,
            "padding": null,
            "right": null,
            "top": null,
            "visibility": null,
            "width": null
          }
        },
        "75d0ca3cf5d548a4a86a3c0eb29a7015": {
          "model_module": "@jupyter-widgets/controls",
          "model_name": "ProgressStyleModel",
          "model_module_version": "1.5.0",
          "state": {
            "_model_module": "@jupyter-widgets/controls",
            "_model_module_version": "1.5.0",
            "_model_name": "ProgressStyleModel",
            "_view_count": null,
            "_view_module": "@jupyter-widgets/base",
            "_view_module_version": "1.2.0",
            "_view_name": "StyleView",
            "bar_color": null,
            "description_width": ""
          }
        },
        "91c3c0a2bbc5418d8868bdfbfad1d400": {
          "model_module": "@jupyter-widgets/base",
          "model_name": "LayoutModel",
          "model_module_version": "1.2.0",
          "state": {
            "_model_module": "@jupyter-widgets/base",
            "_model_module_version": "1.2.0",
            "_model_name": "LayoutModel",
            "_view_count": null,
            "_view_module": "@jupyter-widgets/base",
            "_view_module_version": "1.2.0",
            "_view_name": "LayoutView",
            "align_content": null,
            "align_items": null,
            "align_self": null,
            "border": null,
            "bottom": null,
            "display": null,
            "flex": null,
            "flex_flow": null,
            "grid_area": null,
            "grid_auto_columns": null,
            "grid_auto_flow": null,
            "grid_auto_rows": null,
            "grid_column": null,
            "grid_gap": null,
            "grid_row": null,
            "grid_template_areas": null,
            "grid_template_columns": null,
            "grid_template_rows": null,
            "height": null,
            "justify_content": null,
            "justify_items": null,
            "left": null,
            "margin": null,
            "max_height": null,
            "max_width": null,
            "min_height": null,
            "min_width": null,
            "object_fit": null,
            "object_position": null,
            "order": null,
            "overflow": null,
            "overflow_x": null,
            "overflow_y": null,
            "padding": null,
            "right": null,
            "top": null,
            "visibility": null,
            "width": null
          }
        },
        "5c936b8b807c41f3a756c4507fc42e73": {
          "model_module": "@jupyter-widgets/controls",
          "model_name": "DescriptionStyleModel",
          "model_module_version": "1.5.0",
          "state": {
            "_model_module": "@jupyter-widgets/controls",
            "_model_module_version": "1.5.0",
            "_model_name": "DescriptionStyleModel",
            "_view_count": null,
            "_view_module": "@jupyter-widgets/base",
            "_view_module_version": "1.2.0",
            "_view_name": "StyleView",
            "description_width": ""
          }
        }
      }
    }
  },
  "cells": [
    {
      "cell_type": "markdown",
      "source": [
        "#Speech To Text Hugging Face"
      ],
      "metadata": {
        "id": "P-QzExJzfb-C"
      }
    },
    {
      "cell_type": "code",
      "execution_count": null,
      "metadata": {
        "colab": {
          "base_uri": "https://localhost:8080/"
        },
        "id": "8burlzM-CRVT",
        "outputId": "6ce5c00f-d7ef-45f3-cf47-f18fcdfd85b7"
      },
      "outputs": [
        {
          "output_type": "stream",
          "name": "stdout",
          "text": [
            "Requirement already satisfied: transformers in /usr/local/lib/python3.11/dist-packages (4.52.4)\n",
            "Requirement already satisfied: filelock in /usr/local/lib/python3.11/dist-packages (from transformers) (3.18.0)\n",
            "Requirement already satisfied: huggingface-hub<1.0,>=0.30.0 in /usr/local/lib/python3.11/dist-packages (from transformers) (0.33.0)\n",
            "Requirement already satisfied: numpy>=1.17 in /usr/local/lib/python3.11/dist-packages (from transformers) (2.0.2)\n",
            "Requirement already satisfied: packaging>=20.0 in /usr/local/lib/python3.11/dist-packages (from transformers) (24.2)\n",
            "Requirement already satisfied: pyyaml>=5.1 in /usr/local/lib/python3.11/dist-packages (from transformers) (6.0.2)\n",
            "Requirement already satisfied: regex!=2019.12.17 in /usr/local/lib/python3.11/dist-packages (from transformers) (2024.11.6)\n",
            "Requirement already satisfied: requests in /usr/local/lib/python3.11/dist-packages (from transformers) (2.32.3)\n",
            "Requirement already satisfied: tokenizers<0.22,>=0.21 in /usr/local/lib/python3.11/dist-packages (from transformers) (0.21.1)\n",
            "Requirement already satisfied: safetensors>=0.4.3 in /usr/local/lib/python3.11/dist-packages (from transformers) (0.5.3)\n",
            "Requirement already satisfied: tqdm>=4.27 in /usr/local/lib/python3.11/dist-packages (from transformers) (4.67.1)\n",
            "Requirement already satisfied: fsspec>=2023.5.0 in /usr/local/lib/python3.11/dist-packages (from huggingface-hub<1.0,>=0.30.0->transformers) (2025.3.2)\n",
            "Requirement already satisfied: typing-extensions>=3.7.4.3 in /usr/local/lib/python3.11/dist-packages (from huggingface-hub<1.0,>=0.30.0->transformers) (4.14.0)\n",
            "Requirement already satisfied: hf-xet<2.0.0,>=1.1.2 in /usr/local/lib/python3.11/dist-packages (from huggingface-hub<1.0,>=0.30.0->transformers) (1.1.3)\n",
            "Requirement already satisfied: charset-normalizer<4,>=2 in /usr/local/lib/python3.11/dist-packages (from requests->transformers) (3.4.2)\n",
            "Requirement already satisfied: idna<4,>=2.5 in /usr/local/lib/python3.11/dist-packages (from requests->transformers) (3.10)\n",
            "Requirement already satisfied: urllib3<3,>=1.21.1 in /usr/local/lib/python3.11/dist-packages (from requests->transformers) (2.4.0)\n",
            "Requirement already satisfied: certifi>=2017.4.17 in /usr/local/lib/python3.11/dist-packages (from requests->transformers) (2025.4.26)\n"
          ]
        }
      ],
      "source": [
        "!pip install transformers"
      ]
    },
    {
      "cell_type": "code",
      "source": [
        "from transformers import pipeline"
      ],
      "metadata": {
        "id": "jkBRWcssCr9Z"
      },
      "execution_count": null,
      "outputs": []
    },
    {
      "cell_type": "code",
      "source": [
        "import transformers\n",
        "print(transformers.__version__)"
      ],
      "metadata": {
        "colab": {
          "base_uri": "https://localhost:8080/"
        },
        "id": "QEA5PWjwCwYy",
        "outputId": "923231be-d208-4534-c7f6-70f1a03ae0a4"
      },
      "execution_count": null,
      "outputs": [
        {
          "output_type": "stream",
          "name": "stdout",
          "text": [
            "4.52.4\n"
          ]
        }
      ]
    },
    {
      "cell_type": "markdown",
      "source": [
        "###librosa is python package for audio and music analysis\n",
        "###torch is a ml library used for nlp and computer vision"
      ],
      "metadata": {
        "id": "zdTcVrYtDcMF"
      }
    },
    {
      "cell_type": "code",
      "source": [
        "import librosa\n",
        "import torch\n",
        "import IPython.display as display\n",
        "#Ipython is a interactive command line for python adn it can execute a single line of python code in quickly\n",
        "\n",
        "from transformers import Wav2Vec2ForCTC, Wav2Vec2Tokenizer\n",
        "import numpy as np"
      ],
      "metadata": {
        "id": "xpcPof3qDLjk"
      },
      "execution_count": 5,
      "outputs": []
    },
    {
      "cell_type": "code",
      "source": [
        "tokenizer = Wav2Vec2Tokenizer.from_pretrained(\"facebook/wav2vec2-base-960h\")\n",
        "model = Wav2Vec2ForCTC.from_pretrained(\"facebook/wav2vec2-base-960h\")"
      ],
      "metadata": {
        "colab": {
          "base_uri": "https://localhost:8080/",
          "height": 423,
          "referenced_widgets": [
            "6086b0aa655c4a98b9c193764d8f419a",
            "e89d4e0fd4bd435ea177d34e7fef2cf7",
            "6b290c4348fc486f901130a59a017e4d",
            "ed328cac5d3e4ffa97fd3e2f168edc8c",
            "4778a847cb594b2c898ccfe99b4cabe7",
            "ce0aac9412f64708a096000393c92459",
            "06ab85e1d5b040b29ec4cb4cf5190048",
            "ecf7def83f6f45a393df34e293b1ce4a",
            "1ec7143dca314a6f961acdf6217bc104",
            "7adf5a9483ec46d596cd879f48a23492",
            "11913d82c2bd40b89896e0dd93a565c5",
            "c235a34434d64d8c828bac8dc0d159e4",
            "b606664f76064bc994be8f82be38fcfe",
            "069732bf169947c2b0ed3f6fe84a9074",
            "c041d39718074423b52e67129ccfa722",
            "4d4f59748a014046820d9a52a8fbff29",
            "3538a19d7c8e44178064ec52eff7c2bb",
            "1c431c1a215d4ea581734a6f41ab0ce1",
            "deae0914d5a94f238b96594eea7a336c",
            "19c537ad4c9f45f6afd8609a85351ed2",
            "1dc375f136cb40858e8c123bb1b15d75",
            "23d993b998044ebdbcf5678f88c591bd",
            "6f4c1fa80f70487c8b9e60e9d6b4cc2e",
            "194c7b2ed0d74504804d05014f483133",
            "8f26c8fd90524e5587f676816b32d8d0",
            "ae1c02f15bf843f59e864508c5b8da94",
            "f46c0360fc654133bff879005ff2c461",
            "6f07a12c128146d483118ef4b6b13980",
            "f62240b1c3814d05ba1e23b4bffd5a1d",
            "846fcd9af6454b5e90bf61d7ed3ae894",
            "6f485e3218ea4ebbba53baf3d0fce415",
            "15c60ce9b373475cb56aca1fed30ea04",
            "e822e56381c54e37b5feba8cc7a3e3de",
            "9621304070464b5eb3e051e761c898ef",
            "770cd06b64af416b85a2e332e4021f2a",
            "f8a83bf5eae848239c6ee5bde8797180",
            "df66a01d2e5245bbaa60c247d1840438",
            "2027b0fa29a446e08e964b98704a0b8f",
            "ac8d67dcbe434fc48cdd2e8746e150cd",
            "9be202c4d9f3423cbd6b1b32d9f95221",
            "9c9cafd5e119423281c00937a1b8a8e2",
            "9cc23aa2d26c489285622dfda05149be",
            "8b40ac94597e42d49e9538403402e1ed",
            "db1c093b3ff5488bbbb2504a1037bc57",
            "ed62152a988340f4822d4bce023aaff0",
            "d8cd8f6dfaac41f3b50313be9d4aef10",
            "38a22ee0105f490e9e7094a1a7f6c488",
            "f4950455116644eeb6666f17d6d231a4",
            "db48fa6fb01d4809940d7bd687f6165e",
            "2edc13b25c2c467b8815c818ec1b47b7",
            "53a516b95ffc484f97f2c318b45f2d3d",
            "72411dad8d6a44c5a8df218b2c2bc890",
            "75d0ca3cf5d548a4a86a3c0eb29a7015",
            "91c3c0a2bbc5418d8868bdfbfad1d400",
            "5c936b8b807c41f3a756c4507fc42e73"
          ]
        },
        "id": "iIIn3PUaK1gk",
        "outputId": "aaa897f1-59c7-41da-a39e-c5bea2cae2d5"
      },
      "execution_count": 6,
      "outputs": [
        {
          "output_type": "stream",
          "name": "stderr",
          "text": [
            "/usr/local/lib/python3.11/dist-packages/huggingface_hub/utils/_auth.py:94: UserWarning: \n",
            "The secret `HF_TOKEN` does not exist in your Colab secrets.\n",
            "To authenticate with the Hugging Face Hub, create a token in your settings tab (https://huggingface.co/settings/tokens), set it as secret in your Google Colab and restart your session.\n",
            "You will be able to reuse this secret in all of your notebooks.\n",
            "Please note that authentication is recommended but still optional to access public models or datasets.\n",
            "  warnings.warn(\n"
          ]
        },
        {
          "output_type": "display_data",
          "data": {
            "text/plain": [
              "tokenizer_config.json:   0%|          | 0.00/163 [00:00<?, ?B/s]"
            ],
            "application/vnd.jupyter.widget-view+json": {
              "version_major": 2,
              "version_minor": 0,
              "model_id": "6086b0aa655c4a98b9c193764d8f419a"
            }
          },
          "metadata": {}
        },
        {
          "output_type": "display_data",
          "data": {
            "text/plain": [
              "vocab.json:   0%|          | 0.00/291 [00:00<?, ?B/s]"
            ],
            "application/vnd.jupyter.widget-view+json": {
              "version_major": 2,
              "version_minor": 0,
              "model_id": "c235a34434d64d8c828bac8dc0d159e4"
            }
          },
          "metadata": {}
        },
        {
          "output_type": "display_data",
          "data": {
            "text/plain": [
              "special_tokens_map.json:   0%|          | 0.00/85.0 [00:00<?, ?B/s]"
            ],
            "application/vnd.jupyter.widget-view+json": {
              "version_major": 2,
              "version_minor": 0,
              "model_id": "6f4c1fa80f70487c8b9e60e9d6b4cc2e"
            }
          },
          "metadata": {}
        },
        {
          "output_type": "display_data",
          "data": {
            "text/plain": [
              "config.json:   0%|          | 0.00/1.60k [00:00<?, ?B/s]"
            ],
            "application/vnd.jupyter.widget-view+json": {
              "version_major": 2,
              "version_minor": 0,
              "model_id": "9621304070464b5eb3e051e761c898ef"
            }
          },
          "metadata": {}
        },
        {
          "output_type": "stream",
          "name": "stderr",
          "text": [
            "The tokenizer class you load from this checkpoint is not the same type as the class this function is called from. It may result in unexpected tokenization. \n",
            "The tokenizer class you load from this checkpoint is 'Wav2Vec2CTCTokenizer'. \n",
            "The class this function is called from is 'Wav2Vec2Tokenizer'.\n",
            "/usr/local/lib/python3.11/dist-packages/transformers/models/wav2vec2/tokenization_wav2vec2.py:720: FutureWarning: The class `Wav2Vec2Tokenizer` is deprecated and will be removed in version 5 of Transformers. Please use `Wav2Vec2Processor` or `Wav2Vec2CTCTokenizer` instead.\n",
            "  warnings.warn(\n"
          ]
        },
        {
          "output_type": "display_data",
          "data": {
            "text/plain": [
              "model.safetensors:   0%|          | 0.00/378M [00:00<?, ?B/s]"
            ],
            "application/vnd.jupyter.widget-view+json": {
              "version_major": 2,
              "version_minor": 0,
              "model_id": "ed62152a988340f4822d4bce023aaff0"
            }
          },
          "metadata": {}
        },
        {
          "output_type": "stream",
          "name": "stderr",
          "text": [
            "Some weights of Wav2Vec2ForCTC were not initialized from the model checkpoint at facebook/wav2vec2-base-960h and are newly initialized: ['wav2vec2.masked_spec_embed']\n",
            "You should probably TRAIN this model on a down-stream task to be able to use it for predictions and inference.\n"
          ]
        }
      ]
    },
    {
      "cell_type": "code",
      "source": [
        "audio, sampling_rate = librosa.load('/v.m4a', sr = 16000)"
      ],
      "metadata": {
        "colab": {
          "base_uri": "https://localhost:8080/"
        },
        "id": "rBkuiRe_K5ef",
        "outputId": "705fc731-c6d7-48d5-b886-0de39ac47b48"
      },
      "execution_count": 23,
      "outputs": [
        {
          "output_type": "stream",
          "name": "stderr",
          "text": [
            "<ipython-input-23-4289228105>:1: UserWarning: PySoundFile failed. Trying audioread instead.\n",
            "  audio, sampling_rate = librosa.load('/v.m4a', sr = 16000)\n"
          ]
        }
      ]
    },
    {
      "cell_type": "code",
      "source": [
        "audio, sampling_rate"
      ],
      "metadata": {
        "colab": {
          "base_uri": "https://localhost:8080/"
        },
        "id": "OySsMy1hRZoh",
        "outputId": "5f9ab9fd-20eb-4c84-96a9-dde2e0eba8f4"
      },
      "execution_count": 24,
      "outputs": [
        {
          "output_type": "execute_result",
          "data": {
            "text/plain": [
              "(array([-5.4097222e-03, -1.1375937e-02, -9.7763110e-03, ...,\n",
              "        -2.2627402e-09, -4.8468554e-09,  0.0000000e+00], dtype=float32),\n",
              " 16000)"
            ]
          },
          "metadata": {},
          "execution_count": 24
        }
      ]
    },
    {
      "cell_type": "code",
      "source": [
        "display.Audio('/v.m4a', autoplay=True)"
      ],
      "metadata": {
        "colab": {
          "base_uri": "https://localhost:8080/",
          "height": 76
        },
        "id": "C8AAQshlRddY",
        "outputId": "b7b3a198-ebc0-4e29-b31b-1666d022880e"
      },
      "execution_count": 25,
      "outputs": [
        {
          "output_type": "execute_result",
          "data": {
            "text/plain": [
              "<IPython.lib.display.Audio object>"
            ],
            "text/html": [
              "\n",
              "                <audio  controls=\"controls\" autoplay=\"autoplay\">\n",
              "                    <source src=\"data:audio/mp4;base64,AAAAHGZ0eXBNNEEgAAACAE00QSBpc29taXNvMgAAAAhmcmVlAAFDo21kYXTcAExhdmM2MS4zLjEwMABCVZiV//gAAR1lpzL0KB0JC0Ih0zeZxzxx8/fd6UaVV1eZIj4FaqQqxIMWb+JxeRHbBvBIRcAuqJdUsDtXC/BgT6GT0ogwPIV9J+v9jzikQIckN3UQAYAYB8Dr7SPMK2lfmMHw3nPnP07zhZ87jTOfPKXLPvaFhYq/3O7PLPLPJYWFhYWFhYWFhYWFhYWFhYWFhYWFhYWFhYWFhYWFhYWFhYWFhYWFgDAwMDAwMDA3nnnnnnnv28888889m1yEpx1rRAm8Oo8Ood313xUq5mlGlVdXlvsRolTJeUFeB6BuPivBAEQDu4mnZo+8O79pS5jomlNsDgxDt+AW+DsOTUKEAYPSBl54AfV/9hvXiDe2r72+m2n56I7IqbwcIUzGnKPAbgPvz47SJ0idImynQqyXllCdSCXHXnzGn9cnX1//ccez6tyv7//xPbqtZ8x9fj/4lACO+s8fh39D8cD1TRRhCGyyPTPocHASIAzAJikAnj8YQ7zYmUxx9h+kdtGfEB4cAP8kvwBHlj8A750ly4oHYk6B0ld1FtANeAQRsCOMWSxGnyfVI0IpOeVIk2yCMJ7TNIr/Gl9xmm33W2VA+MsGPp+DSFBrpvkf73WZel5u+oP6t+D+WmA93rvcl1zAB/fQRlke/Nkb522Rur3psjez7PPnPrRbj/8HHtZ11vV/5//iz66r3wP3/+JQAjvrHH4d/Q/HA4HyhimtZ4hXv77AARQQABLcMLLAAWrk/wtgxieyGQxw4jVtJS2zJkkAIYngJDGpJb7YkcBNI4eaTw8OKIAA4CF7D+P/+BAARkFSemolhomiEWhf0xKcd/6fPr+ft8V16VMqQ725rN1V7tKuuHH//oJ7ItkivgkTZmytdvloR0zbhQXuj8S1x7gvSOmvcyHv+Pd6reEHB+C3A0azTje4m1VcUNHptE9MLO7koys5fWC1Fkn4fWGcW3cfd8s4vh9mpaha4/F7BzXm+gcV1dTu+Xp3VD6PUuQOW2uWeTZ5wPXcurfjeme0V7bInsf3v9jqeqqT6ptu8eGRXo/vCm4i9jWX83JVp93Csac1M6K3sT3QVRXJudw6u2tr90ztcNMytlMfMYuhEqiwYiW64xQ16NxapXdw1/IXGfeoxiNGHJF1JgM4EYyhdphD6IDofFoX9MSs/nfn59fz9viuvSplSHe3NVzQBOD/+AfgpxLCNbAzhCUoM07FA0lKGYAAAACW146U2cXeGUVKKIQHwCEbDIJ9+BgARFFSelYNBsNI0Qh0L/+L4mXv+f6/u9/x/f/F9epL5yobrnN1l1VSVbrrX/qO8+4oxOlj6mNtlZ6BVTsdhy/Ps3z8Dd5uXfsD1Gljqf04H4yPyPFazioii6uFjAlrgOl8Sda+3FvN5XyILMtzYi2yLLd3iqbm9UijEJD1DrX8eVgdh2DbKvqpq6yniG31abFshi3V+wYjjsZxwGfjc5zcTGaFitqnY3JaXXN1pMJriMn0HmiHgpJ8juc6Cyc7za2I+XRypo8WXOZCnyvk7A5eWrTnLjFKm121ydY1W0atimdUXbpfyDJ0skdX1kB0MOypbQatK4e8iqaAuHqaeqGYijKYJtV1RR8SaWkMHBLB7fbWCIZRu0wi9Gi8Ohf/hntnPHtw38/4/v/i+vz1L5yobrnN5uwD26f+oCitDlxC3FQ5KJ1gEs+OgGmarnT8YsFbAAAAA4AhGwkJr/j4AEYyjdo6ZoxE/o97159pVfP7/6/+3z9fnSc3zBp4SuYi6ld3dB29M2bkhz2kFcUBdDVTyVdH4aN1/5PwX/gcPLnWPr8k9jLfa3OSXlfZyy2pVQVlhu3TRAgw+KzoF/5RlstRiK/2uS2iQpI/h6nY1flfOuQO0lgzDbDPF6+mFNluCYOxPjxGvUnHteWf+WuV/J6/lK+Z0l5AyrFJ6b7b50kvbs7iIx87qOhJqK4QIzqM12kBgWFFQ0RbCSCmQc5o+exy95xMT9WWMvSXLtXiZG5L3vvKSDVQuG12OQnIxMJ3J6eyhaK/hNFyb6LeWiL5WJNhc6N4zKt4utcamMrFL01nLqisQmsFwQoKqpS3MZTBJIZgERQWKctGJfPo/E/+OPt5v5/6/t97+fr+v8z6/Ok5vmFTwlcwB3cAp4jagHMc/dD1lH+mv1cWtwmL6qX0DGVAAAAAAAAAHCEbCgHu+fwAQVlVyF0Vn0lB0gif/G8u58Y3X3/b8Pj5z4x4qI+OKxJjMltavx8Cw5mCtHUYi42asGU8LrKtBlDne+PULOHwlr45137hPt5HGBnnWuzfheDqn/8gsVYXLgOyQvd29zBief/DeHcXdyy+DEPWum9idffPbrQ4ufOFB9dzjcuWPSsgg6B73/OzBjvUOH0SDJxP/6Vgdk28TlOOOm+od4+K19V3tv4Xprw7KV5Z57xwz8VXt8Zq5qm2Rodhtsc1VUyccw6uzsD9t//bKz181hVtLb1I1VZG2VDeHbKOzdFpupqntxa2bSzElcoUpzXp5DR8DkP83l11PYWNWggZMIBO44QVhgxx0Qn0nh0nif/G3z+KvPjdff9p9/j59/5x4qI+OKxJjMhrVgsPhSEHl4OaI4G1yRa9PMzYHNuLmtI9VUpYLxKAAAAAAAAAAOAhGw2x4P/wAEJcqRY4FpIFp36a7vThnC/eacePZZVNZtBLtbmakmCw6hN1Ow+S940MK+e5uK/MW25avnpyJSjXcZC1zk/kiD7Ss30zjHxA8UBpYTX36UUYxEWJ0Rfin61skRsAcAe4cxP1utS5FakatHRuhrqljuuWsKRs2csnNGwzxTNdKjBo3pogjkqTaddvMg1aghGprqeLxNp1aP+65S9ijPNJ3c38br8aqQHZi7mp7YuodfbGiMwvmmd+Z2H/WjPEdi9k5deBW5n6YmHTtnaLJ6voktFgAdEIjEoxWVPogcIpqqKGEkwUWamaYR0qooJqU6FklQoXqVUmSk/RxSUoS5uUT6FA6Lxad/HWZw1zrhfvLub8rKprNoG0OZqSYDJGk0cHYndWIaX9q52np+fsK9hOjNoqQQWbb+1ejt1cldBSJGcMLBVMXbbR4oowyYtBkR+IGjnOQ0alJBUAXBvKMnUbd21s9Y3cvftbNzY5ByW9HS0W/SAYhlzT9+YYQAAAcKpn8FoopPbwIRsIUmmf4ABB37XP20xPjiVz7fb4mq3elxdVrl921Kks1QOvWuoclyT7PUha7NmTBTSGGNdSeSFkSISOj6QwpQ7KTX/L+I5yc8/AyuOIgM4ppIm78gE2U1Q6mHexqdBi6tki8tEfkXU3KiNoTFs2M2Jc3N4cr34SGJndMVgaazVAxm3lPaOOP3/InOEF2P3TklYyGWn3ecS5pjVqyyxZawvrnmHi2PKaf/rumK9mzd04kJ4pq5YCuh/1HjD0IxvoG6wvFguB5gtKkQD846qnpfn6qri1M6bhvDZTTCZ45KjWDQ1vR3mF4p16HnN0hs0SCCjuEBxna8Grx4m7wNhkHXPnj39vPfmvjPX4+3HV93fFXF1WuXrquFTRZYXzB9wzcwUWOWQROrcQf3c/RDXHdxcboGLOMRn8dk0Z/rMf63EHemcB4pmzW0ih5EcOs1GNFHG1do/vRJw/HweTWksdZq33paMsscWmGDkiDKW4peJQwMKboQ+oxdALkOHuxmsP4amu0kUnhXdXQEhQy1PaWUK83d5kRk61JtKVebSOkiX66AiilHdramgLRsGDWweYAwXjr/ZyiYx/gCEbDCsO/uAAQVohFlouhoNi1z/XXOff19+5F99V1O+slcUhbVSTjLy8t19+hoafDaWdn6j7Jg4iYQUp9cIEDlNzC+d9h8dCYZuF0MvLt36ePPD8j4x0KgPb7bERy33xhnDmf6ncnalU6z29bCy8qaJofFz471ZxDJ4f5cqC6swcHc/SH1v5+lZxWHcmWHfJGc/MjE/G6LpGsdr6/un9zkHtef9o881X9vm3uGr9/wHQKjt9suDMYksAFnILbPDTiWx31gg7HMS2OSs0afs+BZoo/L+GVT9X3F/Yyz3nBvOLJ7LuLmyEv9k7FVrLc6tBWWFCKhCfQiPXP+3XNffv47k313w6njzkrikLaqScZeXluvvwEcw2E6PsHpl3h/j+E+Q+kH18Tcj0qCyzzjC/IIsAWRk/4HWNJiX29m07AQmb2YyhSWnCrH+Pl/i5oi+a3H+n3+v3zTpzIAAV/XTIADghGw13//90AEdZ4VatDY9DQdSIdC/tx3riu9Vq6y+fMq188RUM1UlVfXNXjh/+YvH+0jE3Nxw8qQfEvxUj/beSbvPqU4knCrBCGaX7BQQiXShMo559ZAdYT/IkG1bxu5Ijsnj7R+odl5MHphXmGFc9+zzfv3mbqOsQkyon4me51B4AtVZ3Wdb7EeeGsoEyE3KbiTP/YuUtF3tTrv56jth9HpKSBsR54kXtdWvTHTZ+QvA2AN9LljZiSCNKk5sIaDiMwaI0c/IviGdC4AHWvnnDXZvr9xeDixxB9fx9HE2z1Dbn7rqt0Q9sRf0d9RtVMGWL7vN3vD6hrbh730gTBJ1sk+VQ0sYbHY01k1x4f0gCOsh30Ij0Ih1Ph0L+mub4rvVausvnzKtfPEVDNVJVX1zV44f/mAZN8Q1fKkf0bqdP2O2TniAAnQAAAAAAAAAAAOAhGw27///wAEFZ5VbtFQdOotC//D3a9typd88X1+3xu84q0qy4vlTz3Wjdf/qP0P3qEczLWBgTmrl88/M0nc6DX6zAjovtumL5+hVTj7r8c0OkVpcVIxSg74RAOypWWRJVwrfiOQCQRoVjITcut9PKGVeMrPZVyuOkHiUEXAOzaJjYzBRWmkhmo6Ic6e40fDpXwLBhpIS4TGqqumeL3OuYi+/X/CVxiknsicCFg9Ma2nMEUtBeGIQeJdlaEcyw8zdnO7R+xqc1dnUpEpNv7NdrkzDnUGfu6LIOwHYv83FmSTZzfPgXM+z07HVmkNbzFSE9+8e/KoZ2v917FUc7OyeZ8FhIxXXPAOtV9lTeHpZjFUCLwACCdJ20Xh0/i0L/69vu3Ly754vr9vjd5xVpVlxfE891cH/7w+/2SjGf3+9rKpPQYjuWAAgAAAAAAAAAAAOAIRsPu///8gBCWeF2Sk6KhaYRaF/259e3XOu9dVUdc6zJLlSVURWjz4eZWf6f/mJFlIMKMN4LKQogK8nXNrrU8aBbl3JZ1KI5WvLc5yMA1OcGjrCAOaaxohhBR+XgTAGYs/enxwK7hNxfUpVB4vAkq0sVsDlBUnl38W5IosDsIUpWug7eviTMtqoY+DFyPWagnXFCR2Y5RncPsX/N/xd5prQ4Dgureb7fUY/OYyzarw7eZDYWMr7+5JTLpRu/MtWuS4CgZZUHib3wFSbcep894/g2/1Ns5dqHt/ifUf+HCb36hwE4rwtotdsoHizT9Us5nhdBvqd9sdrd6nq9ihYLNLZUetyHNenvhY/hmoaAqcHCgnQxlU4cohfop4kom0CEgp60Qh8Om8Whf9ufX3vnW51VR1zrMkuVJVRFaPPh5lH/5B3YonUc8P7+fqexn+iJYxUUBUAAAAAAAAAAAAHAIRsM2b///wBBW6S2uiSLSiLQv/F/x/M8ecr2rjnacetb1OG9c9JzLIlXVV3/n/8x0n7W8roXJU7kUaDK4Vsxi6DfTErllmajPFFttFv5IIUMgjCQ14GXZ9aIjxufDxmt/lS76n/wabTnhYhgwJeE+DDTJuysPRr6OjKe/alBxe1rxBZy7kioWKZS1Jp05QIoyXFCmJqa/J4WrjL6dsFtlGFocw5mUmA6uHgHvUCRKUeUhyyzTESscMKMjLMXQOq2uJQm0Qfuer4e2mPDf7vQ1INDZWMWJABz3s+mxspcbcPnpYniXUf9vfMHhysL/d5Tt+gGNB5Rz6PjSikNGWqlug6dQeMBfLJzTtIcGzApI7qdwsUZRfCcV2rpXG/POref6KvbZjilmkYf8693r4rjwtfqs8ZxgAZTiVkXFlglAkBBWVUDbw6XxaF/03+f53nnM+KNpx61vU4b1z0nMsiVdVR/+gnFgU+qt9iKN4Az7I4w5/0iNxpr7hud9cQBEAAAAAAAAAAAAAAAAHAhKw+Zv//+AETaIXY6TA9CIdKIdE/R/Hx5yN6l1Ui+2qutFImQrjjOKrv/z4FsZUFjmwPXPQOqJfFU4dV958XxO+Nluu2E4GoO5bDh7G3GM+jeqohBjBmsDGMQ0m0AOdBx1uzq8vUxHS2U4u1pbl37emO1hwUp0l/C4fnzLiw7nrgqeMiHdgvKxuMAAc6LIORiHOdljNcb0T6rbaaEUwkDUn+oUD9l1PkWHP8fBult8lGkDpYwaCJsubbUkL4/Gt+5lwOIeybTVUbMnbQVWu9Pabk8N35s/QqSRFhVMJtT9JGrtdPxq6FyNUNwWGlQ/dIs5HGu5eossjwDCnfKIDOZyOdudshjhtWta7GpJT5dFRFfMaABL/EdP8SxE2ZTjXQ+HS+HRP0fx5+Mnji5dVIvtqrrRSJkKcZxVP/fgNbrVlxgpZlBkvP2PsvzhfsVyF9NVX8b12QLAYSYAAAAAAAAAAAAAAHAIUzY/+f+LgewTNmKySXzS0wb26+Nr71VdZFzWccSAdj7fF1H2dX3xvOtzK+3E3wOhNpSgF/d9aBMe2r7iQlIKJHDThhhZtyMeTjo0FoYskDu+tzsgcleIW8hqP5hLJhcmX6sBdmY5tYizkAn+95PzZdvv5Yn79YnvyzYdes8eV9aztvzMOMOSbDl3CZ3wEq2Mr5n4WphxTrbFdeNXPV7ewx68C4TgL+PLtRNhAJycgfJEzIqAOxsi+HKrZn0VVNmq6yHBGng7kdlqC5UpBvUh1Q/Xd9baeeIO6avb9g70pnNVDgjmb97ON+pdHukdjqJq1mYli7hl9XffcY7Uz4k+1NK05LenkyWtiJ1cmqxkUzuwVQZrQju0bce78ZB3EQ4DH8HziYqtzFBePlV6cRmaZtx5gLO0eXbasHi6J6x2x/DJr7/Ax1Yxsnhs0Uyffqy0G6fNs3uuitr71VdZFl8cSAdj+v73UfZ1ffG863e6+3E3wLaH+D1DYAAAAAAADzznDdXON9Zs+t/30/0NZ4hiXOi3pt1SBWEFuHAAAAABPsaiyuB9a1tr6N6sVFHtRMITJhkAmbKSiOAIIp7FjrWpgWiEOhfmeuPbnftnXfUqVoiTNVEALjeUvrXP0Ju9ep5Q1ddQPrpcBkMd25sqcl5ROKDL2rM4fk0BgHh4Qb/hKSq5OKIOx8+kcGxmBA6o2wfK/ldS9EtGP43c1UhGLB1ifDt5ywOJM24WjpHyj2+gxFYYybN7N5ROKE9fDIBdKDNGPoqWumwg7NUrIo1+trlhgx0zxOZ+o67zWszYMSiyosDHT0liuPZUZNtzLHLdNdwbhEUZU6MwLJIvJmqGejWTqvtQkmRMMwaTGxGxVW9CnMKHlCb3vFqoCRTNtlKxR6RNmtFsxmilquFNZ5enPr4nteueDL/6e3tXm6nG6PPdiPgAOqkvGxPnYf+GobmGTdVFs1JkXjn+UwGvhd+PC4Iog0OOa9JtsBS2WI9i6nd9EgbJKbo52z59T9vW/vUD9mk8z1d0KlhZeNFe3m1KccZjgV1Ysl/BS+TXaFDQ8M9F2Rzj4ZHRQxwQkfLYxu7thCefaBI2MwhG3+utpU7RcUUwhg0tJ6O5QzTjvlvoXrmlcuWTLL29gMDqBdZqrQ/Nld+Co7S0rG45Vz+uQ3sO/trVIkTrbZKmpFBN5W2LRMEs07hhnB1HNqdbU7KfrPx7yMrPxbfgx71MKRFYE8nyVkpPHHqe3EoAmR3B6rUQhADGW4YB5SS+abZKS2UcS/18SIT88UuZcAghxsWap7Kwv+k718dypqtZV74JfPCIVrgu5OISa1//G0wyAueYbPPGaEwQTdcejOMzV8QcmTU1sOt8kTHtpyFYq21z5pfYK/U2LQKiLxusNhF3JA5RHZWlg2zsUdyNbBddvuPA4mcygO3GwIxq/yd4npcGzqsNgI18s3i9RqR7oVSE6W25XAt7eHapSc1D4VGmrYN4qEpP9U4B7pvDyCYd8xG1wSuDje5+u42+A+QjUw3ZK6iOoTdiE7VVELs1WKIW/SacP36+vLj3gB18f36ywPbX9XFWE+tLnpAD/AeMvxO/7FvHTtEBW5Nv/a2u9Oa9/eK57pfzrb8/k9XZT67MGgFsss43/3tb6947bYx2L+S3PRKahPzv9Z4ZoWH8jejAZVset+3Sve88MBQtpsHgXl4ZYzq9j23RWtxLIYjMlOJ0kyaXtGQRcwcLQwMZDLP2yOhWr5Yyo3upMdXbDOMpYd0fKMQuNfX6oRUST1P3CGCxG2+Eo40rqUH0rDptuhsFGWCEWcHT37iqzCnqMYFraSzt3io9l3HHqSiy7PRkFNf7T4NXW7Vap9zRvcHSLMToflwoA4DgCCDGxYWgh9DQteIbC//u31XPtrnjdLvv470xrcX9svNPMvlWb1Ouv/3D6tQ5gjtib5ViILaUTnZQz/l0mrILSi9WkcLXIAo65kIsmDL6/tWlUO31rnr48QB8IhdMLxk0A1fga2BPYS8cr6/8H8Grys/pfY8r5X0Mqa/WR8Glf5aAti2Y7peQYrZP4Gwc/Un17tL9d4tG8E9iwtBDsHQwHXiGwv/25w64974yV1nHN5HHNx6fGaeZrtWb1Ovb//wL/grbOr+blDSTgrlTBhPfr7gKLiC0iY2cEtkrF+PXMidkm1ZavQpqEvDZ60hAnhEB9mFj5NANXynJaNl69wn+v7e78v2xIxsiIlK/y0AQGUiREmnlE5FASKzESHIzJxEKCSC0UGgDkhziVKkSnnotXAhGwl9///AAEbQYWyoFZKDqKGwdCIdC/rvni0rrK47uuq51moVXFRCccXziKzV//oAPcUKL2MEDDz8ZRBSEIaQ4d8pjWTTHG2ArABa8BrREvpPRhPLrAWGAa3MosuBAO65aJr+FICbSAHo6HltQIM08Sz3qnh518m33GTD2JF5BpBHovUOe7a7XpTrHruqZ+Dx7Eupe6bOBiWGSFo/S95u+mTj3hPclhMD/cjfMdaW9Gim7amoH9RoU9ka25pJGNpLUoZI0E02ZcGDBQxDAzvCNXoJiVZEHmbquW+5SNdkmgTkoMIIZdBVU0HYKmcnRiTGowA19LJwj5phFywY6nw6Hw6HwiF/w1u0quK47uuq51moVXFRKccXzjans/7jD/3cuKjo+Z6GYUNidZ0GSNeGYAAAAAAAAAAGQBwhGw8k///wAD/Y0RAWXZ6Dp6FohDoX/8V99/F/P3m7vf35vkqLq8kiOeb75mU447//IcOJgWplJ2nnC427Nm/TjPZ9tE5s/gyXmAQdtciO1t/hPJKtdgVAb1Uwb1X31gRxhRJGESgKLpmPwqselqNFqwkisPCcM2NDVuwdccwZrkvnTY0aaXkX0efAZYzX5tzP03m6IOygQRDY/4zgc0Sc0jbyuPM2R8xyNEbgj255y8R62IKMxPzrm4eyYBqbrtwQ6EVZkp/6V8JZHk9hTzBqYmxoniDutqcj1Ys7rVvqPKqWgWzqt6mwOrMNha1hvbkLxNZVXHXeCqMjsGvFpYzQpquYctIVO21XV8UQP8sGemoPi0Xh0L/+K53fP337+bvf35vkqLq8kiOeb75gnT/8g/yNxPzz/I9d3Zt69TExjvprZjLwhXRMAAAAAAAAAAAAnXusyzxGCuTre1ORrVjp7iEbDlP//+AAQ1llDLs0C0lD0Yh0L+8y8nXjrZNcXtPF1L3d1ZDr8Khxx3/9w5PSWyvFY3DOJtPxGPDjdoHN1ua9n/HcisO02suQgxDSDdssUJJZ1zXs7FJYhrW6qlro7hF9Yi8mBueKS0YYeSTXy1dtPLDdBZh+26Q8iqIG0+6ZSBpOGumbpxnLc2b8k//35LZyzveXQfXef+TaexKYOa9qR/r2RK/yxwekWHvrq723aNfW0xvynZj3DVMWr2yTsCkaM1Wbn21fQ7MxemFeBV/2DSGanNZTdiL8+1Gd1Zi4pRydN511V2sUWD+2di+1OxuDgkdKigKI4CdSVfjMMlVTDdLVsNPTF7SxVV+kWHBd2xHVufIAdrbbom1Sr/5mFrKeVZq9D5KjqrXkBDUVjnLT+LR+HQv71z5pt7bJri9p4upe7uriVdX4UTjh/9w7NjnANy/tZUkGSmoLdIb8w8hNysQE4mz8judZWfHVpp0AAAAAAAAoByEbDwR//9oAQtuhlhoWhgTC0bB0LC0b9tby+IVWuGcVloiVqoNUqXVVDzf8jL1DA4+clLa+1V2JnN3n3qljx79igTOHG6YSQoftGgGXOqHvr2bFCFeKNZRRNghBj3oRwkX5nrV06lnRnJSuN0WJOca551WikcS/wq5AwqjDfhovpFlgZ8lFmJOc4CNSxutdq//cXk9qqlS/t/Ibroel8Gw1+jdqf5tDKsZTd61ezhkZ5mpH9xzHUZKH2naaVjUvzX87ek9hWjtZFY2no5VXrbKjLeJOpcrdQsvOck0Mgubc2qT6T4TwZXwkOAfu1W4K1KOXav3mIThxpxbl/+yd9fmmA03eSyMJDpxorwkpmKS+bd5BYF/f/vghAxSYCxHjC26CKvQiLQiFg6Lw6Lw6N+2vnjrXfHr49/jhnFZaIlaqDVNKyktxr/ABpgryZOZsroVngnnqtgvjy4+3NRljx+k/esfdNCkdJZgy4uF7CGHKA/HAmc5wmGhZrGvQGmeaeCbfpyItwuNyWiphNruKKSbQXsgSuNLjItVtMhDvmNwELIipRG8AuoACs27yeRcWp8LcL8ULDiCHKxc6JYWSQdGQtK9TOs67ydePOuPHSySrpdCY8oVvXF4OZ+B9d7I6Y0z0B4FM7ORpDanH1hGEoD+ptY2wTsDxC3GkRA3DVcXyGzq1TynRULgCo2X6NpiMuMYzeR2hXFkjupe74nIzonkqMfLnW6UVKVZf2ZgROgsNN3u4DyClI4Gwf0DSQVXcSRX74gx8QFY8pRKan7/em4fbE8La3Gnie+oUkrterG9zmAPMGO3ALHtjt4zoKPZbbg42GMj0Pfik5E004gIjFYABTTJAVUzJQwGTqTsqiM4wat3UYFehnPWLBLzq5nxLhfq+zCddAsFnz67BCDYt0EZEEQehQWiQWjEL+l7z4ZKZxWpxW2qpLXTCBXiTaefgcF/D8ztmSNC1Xxwcrkw6GNUHbRn5l8oeQxIemkHRWrTgwuZ2yDu4rFAAiU12KagkPrYgYLu+sxUteguACA+eYFrGynvlM3gjewBBEANpgBGZ0iUNZm+U9mct2TWBEPHft977FY6Xu+R7mz3c/sO0pwM1dXjpMTLPv9xRjdxc7uQzf4Fpd46jHTj0HhpVDL4ctq0lvj/gBYdyvgA94K/MdGEW1VA4jaGUW7FfaMlwfh9uA+1+uKH1IJbqT8S3SVHUDN3YqB4ge7259FPyDiCaTDZci9NlMVsnYTFEJsoSkJmhPb2//H/+34vyOP/f/+LjrPSdD/H/RxmAfz/F8c4Au+njLoBd+Ud9Yxrxju0CCSuV4pLERzstaJ8OLfwTpwewJdakKXVpBIAKHLRI7OJ1vpPr+Z86hDH02yBZaG6XcTAwwUf1HEuMMYkbE9FImZn1KMooRhtK2Lb1kpwK24RP8S4vzmSKxGWgkCvzzTfKYdoMs4q0m4dtPTFVzHhfp9GPygGHOo0qKkqa6Vpazw1teXwsOjr+bGR0Fw1QceARAA8O+7gj6tpwfRViq2iLLIOqmcp4OSpDUp3nqrA6aYpR97007546nDesW/GT2TxA2LCxCnoTDQmIg9EotCQdG/+vHdfG53X1+nt9+PGkrdkQ9+pkpWTm0rOPbgU58S6BCnxjFBzLdfMFD/PqwYu7bAJXuSA8/coX3BCXvmK7796Qx+Gzpz0poUV+ocXV5y+jZYOd7J8BVauZgrbPQed2Pbr6F2eUfnjUn/PRjt+vV4z8JrrOzee3Sdjqb0v2P5dtRilkr9S2OELchBHMf0lt1wPS7wI8rHI16GaQikwLYJaunV0L03KLpz7N9e9ms4Z+yh3f0gusuCB/exZCpoTDoYFpxDpRDYX/9iKV57rTiW3Pjfjjj5jk99X1wu+b7rOJ1+///0YOYiOGICNjaxr9u91iAlsRC8SGZ7b3rwabtWdLx7PiZ1QWJ1gAOje8r86hLxalDbR6mjRZJWOalVSWZrJKNFicJoO2EB/GIlj8USxNYkIhICSYBkVQSKJBEBiIUkTkwmc7M4bwTKVSNgAwNDC5BQRBaIxaExaMQ6F9V/X97lVM+PHlt7Z3PPvrJac275gvjfX3/+4U6Xt92msx8PqHBKU2rlNnjP+nx18Cm7glKnf+PMF8gZZ/moFy1Tu9pL9KFzWliN4riarDioS8XaxaUYMLJLw4ZqmqLJITORAIImp1VOKZZZMJaRSIQgrinCntUKO/ypJbmhp/auJ0WDe8qUXRRLezdKicrtfUvPWXSDF/E4AhGw/t//wEAU0QrKx7FBUGw4CwtEYdEQdEIdEItC9JnVTmTVV1O+NtZ8fOt6UfVef9PG/tmfV/ff/qE7oTXJCQQPtWMhU3kFndRCFn5ZgC35SCJ38OJAUXO5ExU415lQfrMEYvBzO7CpyxoOM5TCKjjT7vbYoEg/TGXtaexb2IhgBdnoru8tH1aIRSM1UkIrp9dfWdVj02gNuBhTALjWU75gEZUHF07SrnLnVlEFd1XykSGIKB7j7jsqJmC5NqFzvKNIGw+BWCmYE0prCoxfpxDovDovDovCIbC9JnUrmTVV1O+NtZ8fOn/ver6df6eH2x9Wv/+gFER59shCG2Yg+uiwAAAAAAAAAJXp9nYUiIJELCdSyQFBJ1NKQhYchIXnaGRnvJAXLEQi+mQlwCV8/AIRsPv///+ABM3VxUSw0KBaRhaQQ6FnrzvJeq6xV44C4mSKj38+M3GnF/+YNBhRqcojsu416JyZDJRIHCAguskTyYYwZldIoFuemlotkOvj1OWkpT4TitpgixzJ7J8djqLL1Oy5hXM2a9obR5MjgFgtkHBnzOGw9i/J97iispCpZGQYkQjNebGhpCfWSCbkHu/Hp3KbBieLnH9PUbPhrK1KNvGnqE8YjMXUDPP23h8iaFfW99Z5f9A0u7djY66Yi/n0D3SyO1dVgq0r43YH7f3mx8BlcFD6rYI2X5hiPXD+PnABalu0s1n9O0plWGlod3gzbCGivkfORDxmbtxp1nBTHOUUSYum5Jvo6duNcR36u4ozmSwAmXKO9V4dCz15rmXqusVeOAuJkio9/PjO89tOH/sDKEcj1uNkmhkk8C8gAAAAAAAAAAAAAA4CEbCrn//vgATQBstMIMCQdC0NFYOigOlEOi699XvV5OIqbayDgfLVRvjxrWX1r1/5BTj/+t+xeLV+wQnt7bz+UqGsNhahCpM6sT4kmxriWcVo7LYVry8cevRMc68queU0oTsjJY4J272k5HavHDg+bdZUYMJq1VjxOL+SyBf/FBCZcF1b1bQsTAdWyqtLmJFmVBBJVLFPO9VqrGu7TWcL978DjZWKbZrro1eVV7bq9joFRE7S7TtPgf/mVvvwOU8Z9R9ZgZSbKo6e5VyazFVpk7ktP2HbVlm2rT5zwvGuNV5ebIgeFkl0Jilf/xN0w8naLsMGsFcG1xhsrJg4+DoSr80nD5oAl7K5zcwRLooDoYDpPDol+r1zq9vMVNtZBwStVD84ruL60/68ADMabXYftSfGUACMYbth2Pvdnnim7reYg7gqAAAAAAJFZvNj4FJ1x+4AAAAAA6dh1qMTKj7KrACq48WLDNia5o9EVGyxhJzb2NwCEbDzbvn/0ARFuosFY8C0LC0LC0r1lV/jv18YmueHFXK563JeFynxSa2rj6BvZf+pZBHjwWBF2Lz7QAGLRuvahJ1eVp2Bjfd94scjMvXV82W2WXRSsO0+wts0DzR7rtHjmRC7jCqCVB6q5yyBNWhd80VKQObc04zRlos1E8yzLc4Xr5JMUBBifhvIAUSYwZhdRF3FTN5JJJMJMMMJDpYXE6TeRWdaUd3ETxQ2ETxRxNFpYTmIAA2RzmSlsccZmjAYdy7vJIs6V3UZmB/Y7kikXReaKEllW0M0KJmhKWSY9fk//5PJhZ1+CPfMyAeMwMh0zEPXMQp4W9rl21Y+ExGmF+OLFhIZOJg7uJRFshNBQom0Ih8Oh8WiEOieszx/17jNZrnquKuc6m5LwuU+KQVz/NADkwPpmi9Xk0EuDgHUcE5G5VhbF1CqvFCh0F5RyJyneTZM8qsB4tatzkMFz5SBjDTfGMoJx8w0dYh/rGXDCc8dUoDDxPCR6g4wsAScn/rIfr9sPLznx48esPjP31vPXPh+c5dEAAAAAAAAD+IOAhKwwBHf84AERcKQxNCI9CQdGQtEI3es9/378+K+/N79t6S1IQ8pu5mXepJcgY3utxRXYeiqHA7KFAk/IbEuSk2J30MU8GcXzqh3au2VUIKfY8Wwlv6n/vTwgeIgnPwa0gUwpJK4gtGzvUKKdwVXKWZs336dDjraV6fZqkxrEk1zDgbw9FuEjGEixDJkC8FODfnOpNgTCoUR1RNctFYd+oxHrJWqNKmJWcAIIdodqziS+4ktFK02EvSjEVi0fLRiRivBRqqkJNT34XIqQoDuqSdizR/TlOxBXHCAyTPjk6Y4i5QZh6ES6FA6Eg+HRCHxvDO/359vWfjnjfW9XVqQjzq93JUtpaUIPD6hVI+z+uufPople3SDB+kdI+zYVx1dTDL5DTjvkRXr3/Xhcbxv40I48/zsKlESgiSxqeklslsKNG2XN4tsGKSH9ip7c0pNqrLIvzZBVGqn1qUkMFSBOK1DeFRYfmpJzZW3iX0QDqYMMjV1TV3pIcVJaKYGjmQtWqSBDsQ6+X6+HUZJHMCQAG777GiH1ygADJZ5kDGJ78yl+DDocK1Z58IUw2lmP+P+P+Tg7UL02U8spVNRTZXVFLWvuNqpV8/5/9Lyr3sp/7f+ACn+39tMoKC0YSnUWUhNUhWypHI2I82B6yJ/AeI4f7xz7aPtHLPm6RVRthyS5OT0kJ8CXDktBzcjiaMgYguY10pXJUjqE0Tr6FZrWOl7oMLGBSsyeUbQgHFK+upJLjebOwapX0uk6ZZtHrizEb2hO+y7VLt25ZMyvuOcdGJgqs1gbUyasAHSoQ1Lu1MaS+i/L3VljbeOmbHR8JrbQjaxtAiJYbD+I0BoSKBYSSpDGjFG1xDRV32J3gvmrXUX1IIsHyWFIv4yGmKp/QKs7xm8NzswzmGp01ciVUmO3uteNjs6oYFpWsVYn14lk16pwCvBysSomm0qCiJynJv30q++qO/3dozb5aUz2dk7aTi7UK8ibI9erI9erI9entXng2qlL/f/peVe9h12AGt6ZQArxuCQAGgELOrI8HHYAASNPOeHBaRscgAAAAAAAdw0j+mv0qAgoAAAAAAAHAIXsPn//5MAHSwFL6KBaGBasQ2FV1X69339bn35vn59qy5R68dvzbcGsridX//QAfRvqvZmUvYKv4IOlVUWBiB1gPVtP4I86Qqsw9p8RGKveBVcQVpGQkAxdht9cIlLgeW2gEI3tJWxy0CVsP2ODBOnVLz9bto6g0SEWI1JPI/HNZDNa0t4PlV+TyP+ARz2NI5vLEZkgjOmScElHkEp0glJmkpUMlNmkp0v3Tg8iEZscjFm0p40Qh0LBEUF0whsKrp5X39bn35vn59qy5R68d/stQayuJ1r/+gDX8lh0JhiFQAAAAADBUkmtzqqJ5u0QAAlYamKi8cYYosOLZW0rjqXqqFl4pkguAYVkhA0UVKxkr80TMAimVhhJCjN2VUOjRiNPss0SKW2qilFQHUETJgDScvBpnyWq//Dd9KERjtv5bNDBx9mDmviEbDgv/////T1FZlhocIR7qKnPGeaqtcp+vy1slSKprL3KvNXr/uO8fx7LeeOeiVii0MpQFC54CBW65bPiVqIKRkdlRoagEFnXd5sgkoo/sNRgJuH9PNwbOWWnLGWqowT3/OuacBWmwAMLgcmiKkzRRRZgAYabox4RE2iuysOO7xYaJJChuUpRzHSfdlZyCdyRY63ZTmt+ZhyfBtP5c5dVjFXWMpmUVhkxaU45JlNfXU0vr/mmvJ+LCgW1EmaNIVAQRCiOkk00LP4Wg+y5xOaJLto2PDEmuBop75KIKJaKFHTWQ36tol/quxDUTEk5CGhr3YuBdDtfFdYUUNANAnBreJTUMnFDTUKJokhZugX9KPX3NO77bQxteyPKeUVFP5fC6rHWTPNVWuU/X5a2SpFU1l7lXmr1AebEcA46l0duSGxhp+SrknwigDFw9wAAAAAAAAAAAAAAAAAAAAAAAAAAAcCEbD/v/////z9rcVJQUBYsBIakgRkefj5a74b6rvzGF4zUL54nNzc1ms589Ai4Uj7f91bojgsfvdvb3aroBkkClu4v7GXFxXGcGcNh+kvQmVmg4TskNuvqZwV+/zXNRtehw1nyieXwxLKBWl0Gl6z8FzOFU8Vy1/Z3RZzgAJK6CoGye5ovfSbKVq+R7MvjQbKdKEDSktui2/BJP83dnTo94Qd7ocZ9KenVpWJ0QBcaLLTB2HK5cuwN7P1bR72/bRwKyrLp19AgCATmEQA41331J+d4kswuWzaKBGuMFxatjPxkw4yrag0C4waVjMhHqjlx8uhn3fRG7shZaGC1FsE6jWKp9h2GJiEDL2ByZe9EQVUQnc0OZqx3MX4XX1bsCWCfywAciKfdFhH5Hn4+Wu+G+q78xheM1C+eJzc3NZrOfPQGcb/la/T+BOKoP4mXFWgQAAAAAAAAAAAAAAAAAAAAAAAAAAAAAAHAhGxUFxoiDhBmYJlcePLOPj9OKuKmQqpVybnGa565zXjjJ5+AyP1lFmB/4EJ+o9TZE8kwuPXeTAwnVwmPz6hgDgz3xvKiI+OwSCa7WFuJ6P0Ho2DRCnKYnl/ZT7X+56n8s0psg3lHxHuVwyGIZ1eTr8+aUQDCcO4N+bjq3KHJ2wI1PwasqtIwoHTo5y40ADuIAhApFu3AlCgB+wsdxbI4LFmmFbggcZwwDJOgQQ+Z7CWdblTAOUg8G6tAZcaZqZQsQ2XlT378rIaTHLnxzuUQ4ZB0y3Dq6ssaYUGE3fKdD4+PX5+B9ZIrlycCezpHS6/ckFIYZ9vLAJywGPRMlPh37APwtztViKLOP7v1NpfZfn7JYMdyVPhos0Whhn0UAS6UUDlH6HHjyzj4/TiripkKqVcm5xmueuc144yefgDGTUr7mi4AzKgAAAAAAAAAAAAAAAAAAAAAAAAAAAAAA4CEbD//////+T9yojColhoMCMqloS+eKv6/i7zTLqJF7uSpeVfPGq8VJP3/+fobXcx+c9EzCqwmY+knll84QTS+BiEW3QQIPJ4v3tU4Q4Zuizjxd/RjBYmyfMZCQSyH/VNyOm29U/vqjHW65EzqPHXoeLPjOXU0LA/3WKkG+UV7ptv5kbt3mbfhafNWwj+iqIKo6yvN2CivbD/XXgM9Xvgb357z97rchy+nsuYJ42c4raZYaLGvaxRZV4POCGq9clGQACMBju31WbXZLlbnPo8o7Kbjknh9eQQyI0h9gy4c3q3opc+lbZ/QiyeDWQB510DQ2hLMpKEunLZ43PX88nAapwCYgDNUVqda6JpZFv3O6BN0qJ56+NRDef9UqL+8nq+QGsmsMd+TUJbOfz5OP3HOJLZ7uxEds4Cwl85iABcp5KS1YL2SWIFwUS7BPtivwQHvGasgg0Zv4tuhssws+5x+SxL54q/r+LvNMuokXu5Kl5V88arxUk/f/8/uChn0cHCnrcEGgAAAAAAAAAAAAAAAAAAAAAAAAAAAAYVEX7PLpbQoTQcRO71nQZp8dC5F7ryqJi/Wy8fP1SA2d5/IX0yaZQ4AhGw//f//wxlDCLVRCFBaFpDFozFYjEvd0msmTNVpN6ayIfPtxf8/1/Nzz7f/9/A6+YzZ7BS8PxsrVpLc6cj/JGIlDfjjKXJ5gWhxZHdJ0SRHtKK75Gfx565/07CprCpYDrZxPeLxqCBOCqRcOyrQ2EkW1Mvnp102iXtSIiAk0eKC/7ivk4uDDE3gW2TY13etpmlq9BbPzNayefsobrrbS+ynfAIBJ1mSGk+ygS0nUy7VoVq3mn7/iKmbIjkq3XzRuzUFZDupbnRJzJlykluIRemKfzApSRPLEDelIpd7pu34hrwQznPD856rZgpODR3xEN6a/6bdlgV2D5k+5Q2z1v5jduu+jMcR3iB+8UfH2YYHpmn6E1wE/EIxL3dJdTJmq0m9NZEc9cdcf13xXn2/8qA95hUAi3uJwAAAAAAAAAAAAAfYfqWfoskHHh1MLHNqV7TbJa//3eLp7c9P5HTgAA44E+pvDVZ+7yMDsLc7q4kuMAAJDXqNjCpcQEz/pDyEbD1/////+UNPszEoSBoZlQZjIS8458+mauyqVoiXmueJW/iq/5/8Yv4n/tBN0gSA22INLtl2gHgqdyjQ/6SnD1t1oiN6fshETu3AHDXdUOJts4cGDDjg5WsfDFgoqqlgRBpVeazWZjAaRqXf59RkFbHbXkkRJBWyQAUwAMSAVRAxtYf7966f4hXICEkrNE0NUv3IqSu4tv3naGJaE8SWmdK+lC6Zs4j29tfB4M3PXTm9cH65bgX29zjTWtXoIzGxtqSGJ52ySTTKIMKMaBTBDvFr7G4hzZ8qUTttrtDr2v+/1NzU0EI6BbXk7lFrxpF9/o1y8PyFHKcFiCqiZFja6TgEuP/8v8kn/sojcAw2qU2R3FJO3pMdNCrB9AbCvKimauyqVoiXmueJW/iq/5/8Yv4n/7v9AWK/DV71QAOoAAAAAAAAAAAAAAAAAAAAAAAAAAAAGs2n2MUi6Ros1EkpeSs//l/XyvAzj9Du2xjS+3FLFDUkAgAZBA9hkUlIihcAhGw/v///04c/R2TRFLAkDQkDoUDojEwdIYbCmdbnOt3xeKSRVeeVy6nL0+uK4/bjv41P+f//wdWkJN0ZYDb+5R5iD1bXrTW37Aafmo78vsj2+RRLu1I9fab660KeBPbrWJuR/5dAFT9hjH+LOdBhhkev7mc5gwEwxiou5LwLwGGO/tMFyJKNHg5rgozUilvTgpNNHcFNOq0E06xlNkUqiOCDcJqsI7ZLnFat3DTta0yvYZxVippAUVq/pdD6jM4g8sLMR2LiOOWMM41tKXz2Z4+9wAs+rwpxu547vuzo4BFACMuOSmuIScCQ0kwlTpEEUSeHj3UiVsGSn3yLxZ2yxMVkivDzHPuwZ6EQ6IR6QQ2FM63PHW74vFJIqvPK5dTl6fXFcftx38an/P//4GA3eTh1b1v0gBn1wAAAAAAAAAAAAAAAAAAAACeexhDTiI3IxKZhyGxuVnGI56HO1ggLDzK0kTEkMBVI5LBEcnEofIkcLmuAhKw0OP////kZbIQiYCjIDYQXhL3dSV1ipUtOu5vi6359JL1/P6iUIxGWCfQXSCsAdv0MFqokLhqpIhjKjv+nTbvjNQZRwszbQqoaUJFTDBpwuWo7oNUEky1OBqtnrf+e9fdsp02yn8Gw9qf8tZhWj+FIHsutVmh3UZjsGnxvGil61DxWgNkuqeFWeTV001aS4V/gnxv5ktTSLODGueLbFvFLMtlxTpUThR5r8Ftqq2Ds3QWHN7QV3clstg2UVWhQiosBX32ynk722u8TuFRTHTPwWIqr8KBkoQZK7jVGrrJp2rWXqu52tgd+C21c3JUmmWcruq4ToDiKC8hRXdQKEHmPdHjeZ77zx1VMe/j/RvIaapaMtqmG/hMLvp7/G9JUqSV1ipUtOu5vi6359JL1PYLa38D79h3QSIL+HQrNgePbIhmthTG0ZOHKUyQbWwMUTc6272yKElQPfvKhzp+vr7d5lzSEAIAmAAAr1FAAAAAAAAAAAAAAAAAAB7TUSRng4IUzYt5F/G/N/RdmEjFahVqozRCb9v1rzE9rcatf3vz95d5Rn9u/r7zWdzhx/28V/jrrn3NfQ3a3oe9S8FYzi+dfto6RBB4kfZYvuuA3BI8LPo1ryIDTVSoUG68SCUplZDfCm5dkqX25L60j5qq6kp4XR3EosqCy2m0n0Ci4vif6W+7NAqbVwtSHzL6sV39tS4ZI1q6h/RgR5ucoFlyAxBghIgyn5Mi54YWb5kAaP+ufmsLLdeKY19+7Kll42c/8V6UAqnK8nvwfSHelV6Tc2vN0Q254mxecZt7f1P8JqT+Hy/uB06DFO0/GseD3L1n25enifh/THxDxoiYeb4lsTNCR2SoHpovxXZ00tlu5S0cepfqm/HLa/Ht0GqMtbD3TiuzuK7JkZjpHf0j86Uc0a7vzq72csgSuD8jvzl7mDmeMJDi7SIbpE+bkJUL83hvm4iG+WvO+J7Xjij/jr489XeUP+3V/dxnc4P+Oa/5dc+5ohz1YgjhPEuAb/kHj0uAc0eQCPY6fCBprpiTQ6gDlEVIFAAD+FQgehOzWjemf31mttZTZni3kCxonV1OVRN+cTDbFWF6iiKHCJEoapiHoZxyjlnhMok1cuFVY1CAMYqCI/iTIKMctlg45pbcCOr0JejeACzA+CIiwD67YJ3THSgAOAIKZ7BY0jIQWjEbzV57b38K/b/Hfd9db6rVY6ec7+yVJTdyX7X7Bxi4yie920pjMNfNmiW7oF472bwoULkYeLAiMYGQPDVKmDAzI1G6dXikbFEouztmqQSfqo2uj+XK8+Wv0x9Qux6TqYxZpBVPvmI7NNnQpnubxlRU7+8rJE7PHNVJGKTK7ZfURrFLcuOfQ65w35ZZbcxJpSSIKOGdhFedLQd8wxrgcbf0t8oj/HnzhoWyWMaVTNtEcTFWWZpjShKbKXTS1IXM/Er1yy/PnlxWwNbcVj7p9uCc/WIAAAy2vKWy3BfJ7Mnsu9X2Z0hEZEhATSo+vpPwc8dn4wJATcejpirpVXaGi5cZxVWcJ8By7/AziUh1HVhEqNoaFV0pCo1X3wBhdAyUPld5WYrefXgSNkm8ba6jW8hjK8iBOdr4HDWQHK+sdvwjXkEzBGboKuwaLqeBhtI3A/vbYjwmqBUEEypjHDx29duU2t4nYfR0XO11x9erwhvBU80mE4YV0AUVP1MT8FV7hKdrXt31nE9/ker5zk9Ls+0SX6HPIzkIO2v4d1ewl+IKkbA60RBYyBIWjEbz8et/z3RXf+PE31dZq8dx3d/a0qMpU4+Pb/qK6NPGGGcoVpKbrS5HTt8eaVvuqnWSsa8+XY46X+58NEiV4qN1gd/nZBnqk0kzuY1ITQs8rPFt7ym8vGekGs44bp8YrE6DmaQwKUeuBfAVQAAhl0Kj1tCuA1O43oh0puOBlgwmSYGru71H7Vw5jYfC8GqS6ALyR26Jjbhwg8XhAqXsDnSMRCaMSHn7dfU9szeee/rxq+O+JmcunvvPCpUxE449v5Fb1pk9Wr5fWamh4KXI125YGbj4eE691dFadOxx0uy15C4jpJK3MakJoGJWeLTdWfPRPe6WUYVpNDiaGgSGxZjjFUmAmjkBdA2xY4YT9AF8g7xLyxcBbGthmLP1M7tWxa4GsBCEZmWCNtHEbft4Qfx8IHIRsPCh/////TpthQNjEQxPvfM+sk5r8/9+a96+mWZutpqlKvJu9T2/+4xlHUiA27RYrvAp0QcdxLW0UaJwKGtjNuLuQN99WPX85HYiU9nceQ8Obz1RPnvLXyExD9O2BbTC1x5wScEAkV4HhR+z+OwbPjs9645dhzYF5G6qDIxttYjgVCjwoS3pFvVI2u2iE48c80FzJC1OeVZwb8tPEFnrq8LEMQoXtlKFYYUAkfAWYid6ClOJEAnDwkfA4mv65HvYxPWVYBe720iMhkIgM730xE1JnjBxxY8mIzLCueN3/GMuP/vg7w/arvW9wJ+0qBpSnmNnDTn9r734Xft3fHv0496+mWZutpqlKvJu9T2/+4aT76/1mlooq9/E0ZeqgAAAAAAAAAAAAAAAAAAAAAAAAAAAAA1Y7XByCZGwmqJA0EwUKIrCdfPHF9+/t44+M89upu6551kvNZbmXivO59//+I4IV5POOTs7vfVeeym7FkzjMqkUThJoKJkztZzRs8F6pej+CoLYZeEFcbtelTXhBWCV0qIamNBkulSJIz1Ypr6yjrb0Gg/xcu4G0vSoYMA8UzMjrb9Tz1XjcF/m4areB6z/h8xfLEnjb6xGinmdIEES0lyighZMIdShGBlW0FVVF8HFgaaaPSjzTJbbGLqSQpNLeaGKBYXirJYv5o6aCokz+3yYPW4A1MxO4O72LdzX4LpuVbLy1ElQqhNCoQXAKeFlxdppoFsKUyYK6xT/xUjvib8IEuQKg0pDSYslJqk69EmOuRxeDIY6gSmrJajOz4wka6Ro46zrRCBFJuszZWIOUWFAbHA0CxCGIrCTOG6usn17/rzU68DesmueEzdymWn1//wCioIylswWOzonU/13ThNwMcw/XG9/IOdVv8/kDQ0EtjEjJMa6EO+4zyVvI428KWAWcASsWJ5U4ZKE4ZKWm8Lffrmi1w800Z+m4q0jVMScSZGYWhSvTqjnmnTn26ZK9ay8+uMeLfkeqXRPTfgs4mJaXu2KnCgiXSXdRmWal5JPa0K4HCzoNtlR/l8HBOpVR8qPNMltsYupJCk1C80PggWF4qyUVjjilYszMzIAV//7ZK5ABscSrkB3FkZDQQCuRuuZHpxZK1pSsaxQn0ZHfdfwHYR3p0N+5/GD09wbIP4qR3xN+EAmOUQey6sIQjIIkKTqWLNwhBknH0iA2JGwMJFrSIaEzRtv8gmRsMqgo1hQMzIIRoRe7Xzvy13bqvO73lbu61u+fOydTxU4vroQzDDVt8a4RTEMxeknxOpsPIeevqdwC1Y8OALtfj4dUIOPwQADprAAmHh7b6wMX3wids+ilEAqiALnnKI2fJ/5+zEqKg0sXA7iJT4f2/bxxAWNznKobSYQZNs7FB5ts4M/P3AsuMnQOgZ2/dP//X/3/JyF2ToBuOgT6fjANx0DADw+OkAAFAAMRh4eWMVgAS/xFt+7+n9Kjb/T+gIAAAjDw9YgAjph63EADAeHlw8+4gAzp1253QQyZsspRWkXZjoVZrlnerPtrW9I9/v3xzWvOJOrx69V5bnteqftzfVT8/E81B7tzNlrmmeLz2KQxgpWVfHHF44b2lhly1X5y5VcFr2quCQAqAFQCopHjVTi8/9O0GJZVEzSd6PeHin8Kr65DHg2UjVa9Kdgm1GJ+hXO1dTdZeo2FGLTMbb7I8cndWqEqiz5EtJ/mFyyLrQWzztDxiosi+zLOAmdIW4iM0y6I5JybWEkxETJofGFYhIf31iYltuyRk+6jKGf4NksR3fXuubua1up2QWwNxqiHIPY/fYCvl2dyXFlr/56YnzVa5mibVqHSPEZAd3KTp8d9qzi2dJ0fwBxkAhbh8e9NKza7ZwjxWE7ozo9o4TCbwZuwYonPAIJ0bEHJEBNTBJBhQwh0Lmkue95qT27vfVY/Xvfa9zWluDM06jnDjLoTG0qGReq8HyazH5p6jbx8zPT/Y9x3Gse6ezxnHf48/9//MeoS5DYhBKWpurdRttbyuvUss73XGEleGElM1eHvN8NAfGdMObPMbRk54TPgHbDb5k6BDBoD+YAGyZyGR3QMmYCF1z3yNh3QPSuOA7yKySoqwskVNRCAoKweLlvSvi7TqBVLZXVvLZew6KSkqZIKiah/h4gJ97EHJEBRBioLC0JE0Ih0RhIYid63Gua63qvr0rzun35zt1h86zh8XOd8OnQcAKG0plMUCE4NpM0707xvHzNp6vsKG0tDB7xtxvG3H8f/AbA5hzEMj2XLlWFBO+t+l16lh3pI21UsWrVSyXMWuGElOOMOCANM1cgu4sz4SGxHbO2+ZOgQphD7YB28mchkd9xkzAQjydIFmb03xVzYx9yNCZxUGgH+PjdDBzfD7ef+HiAyhij4eIRsL7//////PgGkQaxKKgshGiNdG0rzKVl1nW7/n+Be+vi/PjU/jvWvvr/aCoeaYumE5xizz+YfO2FwJ3x0ZX3KRoPAACDEKULgTklfkxgL7snl+t3NcaCj8PGHymGpg3jGRfF5Jh3+uAFCAIACmqDKYZAUAJXcktF8cGOgQBHmABmn70iN8zuU4GCAVyGWVADlxE7tvybdt26gfb7sBuk4cDBlQtOWjLA59gfbm+9UU9p/Ay7u9e8JsRh4bq49dvCHhyNgaIDAgV3W4aVERuwlF17T7zhloZm+azD5Olxd/43SfLeR0bcanbcsGadIo2x+6PQ5dZz4BcthUo/CujKleZSsus63f8/wL318X58an8d6199f7Qb5jvcyjj2Kgh8JfbyAAAAAAAAAAAAAAAAAAAAAAAAAAAAAdxGlDjhnLgCEbC///////zVpclDlMDVLBQYjZj2z1M4xxma3e+u78+GkX7Xxmf4/+KzXx7f7xphkcAAw32QANLf3Qm31RFfFjwJi6QyoTfTyg8JTotdhxd7d1ZXyzJu4HPj3A8v6vsihh/8Mw7EclLfR53Qxn7z30TxemK0gMcLXowWVqjRpXJGrNp0XDLkxQ79i+azwzgIxu+dxxjpy31ws4FDhjLTP91Rn7rxWUMyr4Zvj8LZKrLWcnGpCmMVnFqE0lT5rsCqDEi7qt9fHGO1rF3mlJRqQmqXZWahgEXdVNZc++hBwG+Subqqr5nVME2v5dCipjDy1JXzXn915z1I0W7TvCBxx/WWmy/ClopW9FAAWIf0cY9s9TOMcZmt3vru/PhpF+18Zn+P/is18e3+8aYZHAAMN9kAM6G6lBJ4VNLwZehXAAAAAAAAAAAAAAAAAAAAAAAAAAAARbd7FDJ18WjbghGwvr/////8/ZqWh2GhiIwjK++fg/OZ5ZvqUy8rz5+byNPpzl/j+1Pbj/MgA2fQVEgnCF2WSlXSTeBEMpiSS5hJcYlLlVJYLMbKq8+R2xGlWXHnHxAnAxrUypuKyirUZGeg8q7FYkHRU1amyFDa38rehZCgp62nYpvtrxfzTUVOPX4Y4+bzeFLMjI404zIFLPf1+aYAAGX/K612LHOHUqieR+0+nDsQ0FzfO6C1qC3rLcUFNRJgoOuOIVpBTxx3b/AMppgszj4yAGCKuwSXAANP/HwDu7jTMVfk7cHabHFgACwwwcHFA6Vzei8IfzWh0oXrG0loS41522ZIyQy4eRK2wfhM/A/bPLN9SmXlefPzeRp9Ocv8f2p7cf5kA6jPSoo3Jothf82wZPWzs2ADqWjL8bAhj2ShgDGiAAAAAAAAAAAAAAAAAAAAAAAAAAJWtjnOO7Mi0I3l5L9l4W4CErDvz/////ytrQdlUSHUsBQpkIIPr7IUT6957fafi+938evnj73+bn1l+3c8+YLbttuZXNU2K4NS2DHJ1YuxcHNY4tDNkcNqIZKiolGqeR/1Biyy8SRR0YgrQc/QSJoFjiPvMLPjn3EsFGenaEUIFS2bCtQ7voqsi4EwPIAUcK12jfm6c3JQVQZJPWbDZxtcOSWCLAktrumClqvmX6/uur47qd5vSPlw6ozFVRnegAXjVcvj8ab33XM553jhj0YFka9mAGeSoSRIlEQ65Iy2O8LudBoJ5QWbihdy7YogHh/UAAGnWHmO1257KDEisndCWn07ubAn+g6B0DsAChHTnq1d4Vj1ytmU4/AVH19k3Yn17z2+0/F97v49fPH3v83PrL9u558wAHIV0rYKoirxz42JIb6Zrx3mVbr9IyWEZALgBDomAAAAAAAAAAAAAAAAAAAAAAAFEfMfauTNbnNyFM2N///wHnt8tZqIWSsTfmm+9Nm+NNx8Ovjx8fM31x/0/05+/Xwqb+nF//e/H1XHmcW+3H/9X/bn6563+f18b6Rz3Y8cA27qb8m7vlZpH3TmqZvKG5tU8g4z1OTY4yqu0Tv5ZjWJQ2z825EYY+E+v8zjtApO1FjlYAGnArPvFev5BHLsSKsOmYEVNkaDF8Mm/qOkUux9r1J8buzsr+Tup+UQPFPpugUp7W3cWzL0ZdoM/a3h+4tDSuNW6oy56d3o2OnMhhmVsN0RwHglWvsksM3YEhTXZVDrP6ntToSoxef9GWYL40k+JPrHzu/pIkEUnDuCYpWHTuYY4M0L8ISVFw8BYBT2ChcruXXz/A9nn2LZqf82xmJY926+8mmAxgronNOZ9f1b/mJGRhuac7Alpkoh0zuyvY/9at8danp72GpQy4UgYVkcseOfkNwSoLvXNN1g+x91kwBwMTXg4azRB/LJPATKeswdWc89lEBH5Qf/jlvqJJHgiyYhVucm8f+j30cNKHJyZdHxbdYe+qLHWQft+fKwF5B1OTAreEa/9PUCBUWIHuf5O3FEBoJDj1IiTAMXcsnCrImyCBSkAk39+V8ErQ92M+2XxMDYOBLKaI9qaKNihGabyTTZuotIx/Pjr48fHzN9cf9P9Ofv18Km/px//3v3+Gfhxb51//U/25+u/O/z+vjfSOe7HjgHFzdUScZy4jUz0QbLgAAAAAAAAD0r31KK03m0cG+rWuth1JaG31V1Don6obwUNJI7q5a+Bsiei4AAbvd6puMLP/2WDY8I/rQDMhLsD25tDJO7bfHg4O12qfT2F11BKExncFbjJrD+cuJuIQZmWDtBeW2U+IfTNGdDySflPkAHAhexUFsYligiFYSPdTOvnrx8e+r71mX5rnVav3utHtlOM3U48/iuAWZcdbhlUkXfvZFDRqrYczzISHDpeFQ5Xu23YYgdDbBHFxA6pmLzCK4GCew1yuh09zC6L67UTuk6DQqcYwECXLq7IUrYfSRH298zkHk/T2MOJrhmqHJlghQ89rjqeLlrJdfzWDo5JhLtea7e1S9jzR3tUubxE5hBXD8EGa3+0Mh+RjOu6sMQOk2REKJ3dneBQ8sr7RUP24E77aMUtwXlNZ0wirQKagT3+AkrxrzjqNmwDcOjn9IUTGEg+zLXFyi9avkuq7xBQU1W+FBqKmzY0aiS0GjQqs9arhVGihtlA4x+p1M6+evHx76vvWZfmudVq/e60e2U4zdTjz+K4BxtmH3MPK/lQqYAAAAAAAAAAAAAAAAAAAAAAAAAAAAAAAHCErC///////zYBuMEQrCRhj1y8Xvz39Vz3PPPXK8k48KtNY17VvK151/1gkGT3xWQFeujLQjByKsjwP/spKGTCEY0BrjC2CYwWXF7ncAgOQsQRziqcHm5kgckksNL3WKxibvp/NeqIMgmyGIxZvt5eUWhsNq8azxr4+PNqhMDM747XIXC8XSuLcEMHOHBywRoH+B54/TNhDCoSixkVZzrM+cVNkc/I61pGkfg4PvlJRBZeRBYLJtrYkzjOBlCpTH4hmlcrtDHoLnc61URj+n2zXRDUKGvPNhMZA3OjZowsdWOwSjqmFXjfPwzxapehyw9duVfb3YUkSqfMt1IZkbplgD4jEDrdOuKW4wX1/P2pJpKBiH9L45eL357+q57nnnrleSceFWmsa9q3la86/6wAPzqP4uQk+WkAAAAAAAAAAAAAAAAAAAAAAAAAAAACQFUc04NZwIUw2/g//v///ytErtE2a7U2Y5Z2Y5QwXL/XquPL8r2Z99/t5+fx5zXkfP5k89VxwPn8zi/Na6Cc93GPI57sQQDpGcNuldhb/r/pzGREHAMZzHSirakfh8Lm1vnGUjXKtnrbBmHJZbBq3idoHu08fYjbT6OeuwJgSVuCWAxGjzkfPkaVmGGXyFZVarNjEHQX7vfEUEKJOLgp/0MJN7B7ReT2emmyNQ+CH2SLrG8vkeNp4Kjvko2qJHq7Lk524UIhB96Cnw0I4PShBFLAgMvo9fj/P2Yp9eSmFurhwLLHW0EKVlDgAcFhQEA7t4+0Ow/SfZ6zZ6a2wbCN7D31YlZtd20mzw9IQy7wxRiY37CzDrSLN//CJngw7YkoPgZlOrxvY1N/a0MZHB8lY3iS5WImheFCI83w8FRepz2atvOjtmrmIcIy9GVXlkLb4lyWpPTr0uvudqDQxynCz4ey9IJU9tEn7ZHxiPj/XquPL8r2Z99/t5+fx5zXke/6Seeq44Hz+ZxfmtdBOe7jHkc92IIB3AA/8AAAAHajBkMUsEzzmcAAAAAAAAAAAeUNK01AAAAAAAAAAADghewr//////9MAYVaWMh2EiU0m92n1Od8Tm+PVecwW61OL57quL66/kJ4DO1PCKXyYwgEuOK1Cn7e5vZAIRKXrn39DAu02zaN2nBVSwE6Vjo5jz3lcn8L+tOwiCD4Elz0/RkORN+eodAIbBnmnuocWh/zepMf636kvrckcxR1eYkdiNzJJFlodFn5d+YenuaBkotiWaqu8te+36GHCJa7BMWhR/oeJ6dEjQjTvZcImvRNilCqPngMeDAb2g0O0p4J/K4FCnpJmqpXnBkzudAsLOggFywyKYhtUUYMHvL/jJcx+WVMadc81xwrDqlLdz57nwPI0qjwJbXu7CTYNJRf5F0vIQkXjbSE7oV8bdLNGwK+jLd3d3vh4gxi4gjTAEfsZ5Te7T6nO+JzfHqvOYLdanF891XF9dfyJ+gCxEAAAAAAAAAAAAAAAAAAAAAAAAAAAAAABwCErC7//////zd1QcBSbO9bvXjz69uPFu/a/U471dbmcNa89eOarHtx+4FCTTc4OnM8MKNkhMoaUFBBtc1H0u8tevyUMPkGRbrFaoJoh5kjqMO/E7s5g+4qqxvG8m1pTH5/Bafk8HWrhO7kpoZQXiGQt0oYm5nl37qOJ3NSKrwBQy5euaqPEF6r4+8ZCxoME8552rfw6PigaAiOSRnYm4UANklZJzaKq1D29o9u0/TLM1AiUFDR8S6dUka38DBN2GlAr8z6HMDRpvGzinTUD1erE7w4xN2fWfqrKRNxLZLE397mexL830fB0YH9/znuvh3uMdp6YS6hJqjUiKJVQ5xLeOjqWdrJ8QV3OkyVZ2lxUzQpKy+YUNU7RqhP7XHetc68efXtx4t37X6nHerrczhrXnrxzVY9uP3DoHq3nyQjZOkAAAAAAAAAAAAAAAAAAAAAAAAAAAAAAAOAhTMb//+B+D//JWYjNZe3XttGzXFmm/R5S3Hx89T1xl/d9vj4/brv+le1fX8a8/6f1/2/7fav33+p7fHz0nPaPxyBe5f2H+PiV52OLV5el1tLO7O34JQ0RXDIJr2sBhMA7dBBfYwWdzsCZiUVnSwA4wai9fdIWOnd0d3w+GYFJoOMduFZyVEbNoZPn88ZkC0A6/u7LkEAn/4bXnqeu/abhWjJpl/F/K7kJGTbpNE/mcZvl1Z+ttwrA718d/dhXCh7dBxZsV/09uE9+3Dnez9/dUJg62VXrLgFP9fSX5UoP+rNMHMKXmDPXTnv+gYVb/97iPHFlb7xrKe7eoZvlht4YqXGge1+CsIbH/DfSS/+KVksKzI4rYVYguUqbpU00piK4mLyueIh0suBUlBOzRIcNmtR6ZXSd19K/OWfpA6C3z612TYu9YtEBE+Jn2m5QAYJ0XXrQfDDgxRSTEfIQzdRG7RLEfH6PKW4+PnqeuMv7vt8fH7dd/0r2r6/jXn/T+v+3/b7V++/1Pb4+ek57R+OQPwlKz1AAAAAAAAAAAD3BvmEE9owA4j9h5iAAAAAAAAAAAOAhTMz//+R//+RJW0oy9qs675ooYJm9qo637a1XFyf5/t53lee/h/76/9v49u/7a/29cJr29a+37fv574/aX/p8/4H2H8H/CvLiiCtauoRJeY5itTDDF/P2iP6/9pWsw/BOuEPFCkLh4eGjUakHmm/CDVJpjCr8WLcxC/9R6xAc1T6cgoZOEW7DaGV/Td+H5he9P1tBP33HQY4jY7aTOjMh4SoI//HPh6bdiVY4u3tkjTk9DgdTu4B/fWW+xwzMl6QWPUZkY07T6bGwZ9lp7xWINBk3rFg47mzbdxSHBUrDcsS2zNbBchw/07MoPHjYwyAdG9b7HDFEOJvYY2dlbIv19Ugb9dIQpCYzFZG/L5aGOsyQ0XfGlX1RR+iEa1sXCI87RyXlnVVz16twfvz5PljDMEwbuSYj5BO6hOuiPk7UJ1v21quLk/z/bzvK89/D/31/5/19u/7a/29cJr29a+37fv574/aX/p8/4Hg/kovMAAAAAAAAAAAaKL4wB8qn9OhvJs0QgAAAAAAAAAAfyskgAcAhexT1uRECYaPMS6kqpklOOeuXW8mpWa3V9TXDVbe3xntwDU63xZl6Sd0IHqStRlwPRzcg3wWgRLX1winuy2wyz3yTbOaapFaTq0h76YG16oFVWzEFRZobWBaP2Ktp/W7lMIwOLPV3wJqOyzeS2XXxlU8ZGkkqIgAnVApa7BJL8X68RsmmPM08RVK9bE1QsxOlNdZ+ShNZg6PoRjOvHcdVHicGxDMJta/cr9J4lg6UECQcDAGV2FUL2ZVKxXqU6GtLeEsgtCkFBLefAgupf0RzyIjqX4UFBS0T0QW34LRVO8ObrsnEKtiCpz6QDE+raYXcE52jrytPH9q6kqpklOOeuXW8mpWa3V9TXDVbe3xntwH+0/Kl31JrkQAAAAAAAAAAAAAAAAAAAAAAAAAAAAkKq8fOztJLByEbC/3/////xtuQ8CYqOMRHv7T516/X9PO6uKvclXlsmpx1FePPmpPuMfgJzuWEcfAlnJSw7AsTgVmVKdI7Xlu5zeQOcjxGOlnOd5FSpOuThZfFXwJHCQ9tF8DSnYFbYyBgGDj2bXf1kWAEPq6ab93tkrndsOXjFUO0LXlkksRjO/B7fRDHEPNXfs7q+c2shGJgNZDAxCunIK6lxwEpUr8EQWKodF1DvpoJ60JJ0f6iz4nfivFUwTRF9jd3vsgjktqo0WOSFdyqurOwJA6ACEEA0nb8bI3bSPFQcLNCkrIo0SdUUj/Y+WaHdVd3Vc9XFz985BLArX+355r1fcd3vKtURNEQ5guBSsmen/8gBjujQwxtjhB/ER7+0+dV5/Tzurir3JV5bJqcdRXjz5qT7jAwE53K5RO10bQD5hZ8jZR8b8HBiBi/E+S5nuAAAAAAAAAAAAAAAAAAAAAAAAAAAAAAm0L1I8AhGw6//////8jb0NAUIwkWZXH5/XnN8T1w8z53pq/V5Wr2t7Z0fH58cX8c+f1BM2FJZOiSuTScDFyVGl17yZ1avrtljKzdqOX59ACz6RBgLPhFV/WQkkWJDJoZPXayEdBOMq3x0FHIJVLAicGHlK+bDPoyvtHkIOsiH/aC37HI/y+Z8+pMxTS9bNTWR9hb5zDuNJUI33MpchLg2/d7+RiHjYaZXvvMrZ1GdhuV3YU1D3qXMRlCpOD683IodzbEwsyXWFGqeqWUV5sJRgX46st7bT7GbYj3LNpD14qqGI31IDhJIRVhssd2z5nRmr9P27uHh7R/Q+nT8dQtoN1eY6+cV0f/fCYl4tY348efG4sICxPbWkbOpR+Fx6+N73xPXDzPnemr9Xlava3tnR8fnxxfxz5/UAV949KzJggiChxr0/gsFIuQLp3+pXbNK+Q57ef8VQU0AAAAAAAAAAAAAAAAAAAAAAAAAAABOmwaeCEbFKXBCwFSQJBsRDiJt3OKmsrpXHvi/b3nd+b3ru/xt48/r/rt7dT/exb9khKXUIMnE3NpHjDbVev7aXaJuyJTGNyYSZjr/fyAIhxWP2fHQeWuylSLVkShz6RI+xmPdcwaLVoKg+BgU1hCuyJWcGv+sal2XCps7pRCv0q44rMlRFZK1By7ZwbqAA7u4Ia0YAMzY6eloUdT9hk2t4d31ZExGtHC/vLHhQB9ofRUXridwsMKGqQAQCxZJSbtyRD7FAqJkRGMqAVJVslFCJGEGuQABQKZpzZvDpStqIABoEFQAWJdWpXd7C2QievUt4NX0mwJ7kNTBgx3f/4fw+JqtmfHR/9hj/HY7iChDhr/cDcn9H8bQKM1UrVrWUgh/S27nFTWV0rj3xft7zu/N713f428ef1/129up/vYcrKeR4Utfg87ykq+bPwoklqARAAAAAAAAAAAAAAAAAAAAAAAAAAG6KJYx22hLb4hGw5//////8tcELQUGYoCwkWY33/O/jjN8vPvxvzvNauq24rvjHtudz8e/Kdcf+WxXZ5UpEL0IjscFZeUK4EhcVRsITSUjkJhNMaZRRLDqSAP9Kyi4MWahbJxFNwxrddRevbtXznCp6hjwp9Mnz5M3nxL1wmvYM4tqRUfYnxNxXZikq8eImcdr6Eh5k0G/NXCXsRD8rwfZQf4WKTNxpLOlmuSmIpLxZ7LXJeOqBxNiSQyQlBKZQDBOpZ1qksZ/jad/ZbJDSuuc9qa3Ummm1bdrXftQjSGq+igbUlx38/gHfB3d3sDe+q6c/+XHbvM/3X6381ofCgkFsKg2kwQCKE8koIfmz08xnvQXRcV/pYEBhlbYmlsoJjblrOfzPv+fx44zfLz78b87zWrqtuK74x7bnc/HvynXH/lsAbW6JB0fvKfMnPpHiIO8SSDv7EfPtrJ3AMYJ4ABAAAAAAAAAAAAAAAAAAAAAAAAAdXNOOzM0ZoaM6chGwv9fP///8xZGVQWKiaEixE45+P2qe3rqs+HNdX08evx3b0zzx6qTpVXxK/8hRkyt+xEpYptvSznTKKr89olNg7MSshtOZCRSOlbkmsTZl+fsL0JAGaswT3nSYbWa+m8yW98XuQyrooB18BuHv9XLj/djasYfKyhzAAcBD61GcMDqJNIIjD6SsABTkc8QhmrAQYNK5OYhZR/4/v/R8eazjoFgUPeV1t4siwMPbn+AZwI06RgfAR1fSIziFEFLSAB9w+nTP54wI23fvOkgViIoIBFlxiD7RLjgSA2vwGgzzxjxG4ZvWzse3ZmEMtAdQAE4fafLMI1vyAhOFbJzlbIbh0nPx+1T29Xd8Oa67+OPHr8d29M88eqk6VV8Sv/Ia4rGU+ZqimsohNvCko3Nje2ADq/G7c8tIgEQAAAAAAAAAAAAAAAAAAAAAAAAD1PDLZscCEbDwE9////0UBTkDYiFMblr26v1z5+vz++8/P15OZrvc3zXG7y8qpNXfn/5Fha6lNqvA4XautQDGH8x0SFL7mFWBq2pt04eFtf4UeVhL6Uqss7k3vKsPqnhNVZGszstso6+iCFYaG3VQoresCFnqz5ctQ9N+FFNofNLi1zeI1j1nhcWdub8+QSseOeJeh0zC6xdfURLfMKaTeyCiQwz0lx4WPmaFvnsjqS3yzWLg39f84U9LZlcboyECNSVrU21KCPlOgZyqbVEhgFcRXHANj5GXMMQXjdOfoEsA9gz1+cuDt68o1fs7yqsYNviG1DEm/jALbd7ZllEf2uXjz7eP8+n3zz3n5+p05mu9zfNcbvLyqk1d+f/kKKy19Pr4StPfR7DcTKhN8AoAAAAAAAAAAAAAAAAAAAAAAAAAAAhq7Uds4hGw9D/////81YW7ArJQ1K8X39dfX2X8evYZYB6x6l3S6re/b24/3HgET1IPggTZKcuRcsUOQzqbjJAS4MatDTrRmc4djPKablH8VHZSGQXztfG51WmilWrsQ+vXMgLTfdCu0RASZWD5CAAjv7tcYuAGvOrhvsAQOSukacSxgAPctAnjREq1keLY9bMxOxCSw1eDySADUVTvJzYQ4LnQFk0Iw8ZK6+Tz9r4JfOj+ObUR43vW3B4UEieIZw6mid+bO6aU4w4vzGyUdL3BpC8lakrxpm5qbsCIsalnFpdtU7Mh8jPxx1Vllof1sZJy/AHzZUSz5rzUvPdK3Jw/J4Ot6Ye3PbHxE7h6PbllejtX9Lwld2D9ZDl3iO9Eg1CRlWLb2O8oxGpO+qkYFChBXQ7hgiW9lPhkoMnujhwyK4b2b1138c9GqCt/P506urOf8foiG9zI+v/j1SAD5VtoAE0sh08XXVP5evj17DLAPWPUu6XVb37e3H+4NSx/0dfKPd4dWfnFJy485gGr2MRMwaB1f5GYCIAAAAAAAAAAAAAAAAAAAAAAAAAADgIRsNAn3////Qq9IQOw0NgqVvrPPntf6+O/wVdGWHdc85F32VnXWvI8/xp6e2XTjJC+l19C3PjRVa7u+q1e78RPO9J7QBCe6qFWD8kFeIYNDBxEn8TBmDpzqhROCN+Dyhr9vc11r0j2lUbw2W43DYN9k+r00nqQdWwJP5iwGh8SR+MZsE8W0Awn4EossttUFGalSjx69ms9c9eS3Zd/FtddStsyzlHoTfAlZMhr/tRRIYHHsfY0Sz0E+5KVInFu/d16utUWj8wsOUeKDePL7WycEpGXgavfViE00bRQwwTNs80mkw9ZC0WACUtEt8/Nz4K7NmrEaGu5d96LeA89Ppnas256Eqzc37De5RGIjovWunFwAbvEVd73vMC66fnLnAA/wAAKFZDovc48fz8SvHsVfryyw7rnnIu+ys6615B793w+u5xkiGYpGrxyAb0FQComSvoHACJUAAAAAAAAAAAAAAAAAAAAAAAAAAOCEbDiv9////0iSZCEYUCobCQZiXns81+P+Pj9ft51OeOeqpB85ncSuMqm/PWrHg/bqvTs7puPtVik8xl5n2SI190Uj02GLA8lc6t4SiSu6gAmjOSDLYR5thVELqCiezSStVbK6MFPQKa+V+cl1rrCm/tf4xlKjAXIhRPi+Ndv1VeXn66hFQllN/qptnmW9b4zNHbMfQ22AnyxiywhTeujs2K8MiNvV8enVEwvMrfIKlF2cJhoUymaJpDe7DWNntmB2TM5zidYreeQwtdNzY+lv0tUSIt8AzILepdSk2jOJi+DvjskeCPYLS1QYP5tmbd6qBXSgqWyyOrTRejuPEGyeRjPkADJWeGkrg995MxS953+Oew5+fOBphSLIdLzPP1+3/k/T9ft51OePHtVIPnM7iVxlU3561YKVruTxshbZBvkAxYY0CWouer4IAEyoAAAAAAAAAAAAAAAAAAAAAAAAAAcAhGw4NXf///9C3qIx0EIXE1z1VPb2+fqnO+tZJSp71zqVl1kkV7X0C49zWlr/ygCi+g7KgdiMbtgCELCjksQamgbzRqUuMTudXVCEwUKcWA9qUqTGzG8A7jW4KgoJ+bv3rIzMBDAslNFch0z1I0gASo4sVNb4KhVjCHMjmzAbWu6tbgYM723+bH1dsUvT4W9v751lUcjXayxnX3MqfG279te2laeX0YMyZJt332VLzLF02bFBIoBsTKVSgyVBmQRTKkJK1kZ1SpJki5GdUT+TXxd283mjDyS+EV1rjMQgbTMhsCYX+DMzIUgI7udvaqYPh9qfN5o7u0WTd//Vh5LJ/57dVcldWLE7m0YLMFKHi3XjMwAAmzIAO4Lgdi5bLC4VEGgkZl3KfxChYysHTisv49+F/rUyc7ntklKnvXOpWXWSRXtfQAKHuyw/3sK61lGCbmOOMzAY+XTZcSA8mN/LHQNIuAAAAAAAAAAAAAAAAAAAAAAAAAAA4IRsN/f/////M2li2Nh0FhqKxMNBqRDPjfxU9++G64zXtPtrx8d+fXnj1x4eV88az1fXm+vYN99d91nM4jisoZ0jiKxC5BIRdQRwerJZVvMFADRGZTcV2cqLW0XGS9KJX2V0/BoC47oTaJCBIpB8YjAUSBBINF5LT5ZxoB2EgyB2V+c7sfOvd+r2L0ULCqgody2FKgWxF16levb8dAFW3OFXXrHA0YUDFtUkfL8M7Ts8f1Cm4y/CQbzj4yN5gbD/QxeNW26SieSJpV56Zb+6ONcTON6kAWnCKCocHHU5DNH/I/N32JSoi5fNAk5QAuZ3BJ3aHgB/o1rr5xPLNWyLkgCM4vtDO811brn7/n6OjWs8tHVtx9Q0FfHRYg9KDZEFdDBSgoJcklZVWhJNM1gp0SV3BXyoFaGD09qSor62lTNnP5me3xU9++NeK4zXtPtrx8d+fXnj1x4eV88az1fXm+vYACboN7nnoWTIl3y+M0B7Tl8/UPpgAfhlhAAAAAAAAAAAAAAAAAAAAAAAAAAAADGocISsP7//////N2dj2NBwFi2JhIRRoUxPbz9uPHt6zrcq8vj113b279r9VSXdP+f9dvb2zjgQM/dZiD0ECxyEN9Qn8Dl0xIdPXUdZApa9q5eB2YFFIDWkJUa+uI8UQmNShwZsxT5DH5L5uPVQm2YiV4HPRQtw1B9auLVCM5A4OiJLi0SDZvw5TCss0AREAEImpCURPwEQI2Y4jJ5m9ZcV8aZvXelz9O8wz0lyRVCY+tmyik0WLZlv77D8e2nZ65G23FWag6IuRsMsvINfjyG01e9qLdrNZrtQ/gGEpD+Zi3x/zlT0a107qAoJu0ztO07rjkFkTEd3qrv9f3kuVz+U3gjSf26yYEXeYNq/ssiXqPsnEWnfojuI4dOAEVu76N0CCIEugcjPN2cfme3n7cePPjOtyry+PXXdvbv2v1VJd0/5/129vbOOAARBt8t9zYxyWsM8WXgknZqFgAAAAAAAAAAAAAAAAAAAAAAAAAAAAAAA4IUw2/g//9///zNErrE6RNmu1NmuIYmzGtQlKePa49nTn7+uPf+fn6+0+FX+nnx9/Xn110T9vPr9fXHz8dBA56MOsOe4nkBYGtWRFMRpExk4n33L2DLM7oPdh436F+OiC0vmhUlXXGxU+YiG9w6m040ZiimytW/TSzH44RckgbGk8vQrY+8Woi5RhSqKuSevi6zqTRtCt3JB2drzijTiWCRxd7CCmU0UTuyuEZm0YxETgiywQkam9co5IWRWoKLJCFj7dL7kWnlU8W6LpbJOWWpzvJ79sNzu6bqVOctHvz7EzqjabILDmvH4N6HcMlPAzJuYN03UTklwbeye/5+VbTULqq+l2yt4/dSu30tRB22ay8a/Pcb3fSsEmhBUBZzq8n9zlNHgCotn9eevy6GQp5cIqJgXLj6dn9K1/ZLpiTTDh2lZBBV18C3O6us522kkxoy3OdCXZ5cQtFnhdbs/NcaiqMKBY+v6tLIywCZPbRMEfIJqCPNEfE8e1x7Op39/XHv/Pz9fafCr/Tz4+vHn110T9vPr9fXHz8dBA56MOsOe4nnh7cAB/juRAAALm2h7579u4HSqGq1M4AAAAAAAAADy/Uejmv3qeEZkAAAHkAeIAAAAA4CF7Df//////ztHhTHQVCRhEc6xKuVEyF1UtMWrfsqtfj7d39/1+382EXWAg2tY7bBYn9xkGfS3COEB3ixJ1YjJyMxsAoY5aDphrQlPYJUvLmos0El9c0uTXJcBoqJz1FX0VdChlnVk0KELYSMK8hIZsx5HkJa05NXwm1cSehEUGFLYo4V051SrEr+igpZ4ZCWiCG9uTRhXp6RJ3BS8HdxGdEvg91yVqTJ1OpxOcp20kOXa3WOmRhqnh6Iqm7vObtqDgcJOO7huNUMvpwP3RoXbFiltU09F30xq9Re0Pc+iZry7593mMK23CAm6E3TqeCoKpld/ITrlH6HOsSrlRMhdVLTFq37KrX4+3d/f9ft/Ng+p2eGu4vCnDNEAAAAAAAAAAAAAAAAAAAAAAAAAATqAAACoHIRsJ///////OgGyUtnoVgodxXnnvNZxx7unesuTruGXmt3qr6w41qxI3y2h6mDwpe0M6FJpPsj8pNIFiJSRg0bgMC+7vGMkAwQkETwSF7iB6S8yjmBEdZ4gQrvA4I8Znqusr/NU8kqO8gUVtMlFV5utCoSoKExwMyzM7ALoKROAmpglYiuK86DMpW1DJUgABAcQwRPFBjfY4EQuKqpRAR39TeMmUNL8/jf/zTk2gT4f8ArwI4KPLNpboh5zMwPWAfZ/pFj8g/x75akHhA/iAG3GkoljEFE9CvRcuvM0Omj6H9B87SzQIdnOaaGXzDPAGL49u2kYPnwD7QHn7VuAD0iB7T7h7buAI2wBj5+kIh8Ye3OAGyH9DVeee81nHHu6d6y5Ou4Zea3eqvrDjWrFtfumSJh8LcxznewRGTdgawAAAAAAAAAAAAAAAAAAAAAAAAAAAAAOAIRsPb//////OpphIJiwFDsF/HF3q9euFcVrl1UqdbyTOe63qU3bXnjjod+O8HXAFyYml6WrogFE0+DlcK1Npv3KvckDvXwFAXp7tbqhXncZ0WKtQd3+xKWa16MGVGwYZzcYsPJowUWMgBtvF0l64Kmg8UqA53NDtxpxQ1tKo5UVjMWYFbJPZ1VPicdp9c/b09zqoCdDhZCOoJVan/k5TGr3ZTW5R1WeOY3TS93xjys+W2yyQsc3COrfsNvxQwoKkxQptcDERLPLLj0+LxAHDmDD6Q4ceJSW1OAVUe34ef/uIx7dcwseljDx1CRIjb+/hyMO2BUHzAAsYjwyLdK7TY+Rje8QAWTp/a/jj7fzrPb1writcuqlTreSZz3W9Sm7a88cdASwPJzA4QAAAAAAAAAAAAAAAAAAAAAAAAAAAAAUBwCEbDz//////yjfDQ7DRGI+3Pm8rf+njLaZdand3eKO986IyJx7QYV6YO+7GYq5F0HfZ3vsfjXe3GWevRa8r8MO7TPJqprc9dOVMx5G1FnEC304RnqgWpeVN3BLQTKtdFAw8layTRm1L9bmHVKQloK/YUbg8mthG+1rCNcXqmeoJdkxYXKeL1NbM3JRjPPCTd6ixSpRNAaBJrKfZrpxoXhU3KWYlSp1/dgcAxKuyiKsEm8Db5vF7YJruu+J9CjbaXO7L6SO+0Fejp99u6pHweWgVCmhKngt75rVanI2WRatLR9PnHNpkXinMPPMwyVYJnNP11dD/jUepk3irB0J3j+1el1HqOtcs2emTUftwU7cHayNdLHwszaIGCtpmxMqYJraNpkxpwVsoEdUydVU2zWrRQoY7ZkaeJg9mjkdM0k9UKIFJQB+yw1wRnEAEH7tGiiIek9hiUQuoQAAAiRCujdNKGOxKcfhfbmvrK3/p4y2mXWp3d3ijvfOiMice0E/LXGUu202FSeraQO20tU6T04wiAACxaoAAAAAAAAAAAAAAAAAAAAAAAADgIRsOL//////Kp8NGYSEf311vrrHxuVqqlXJe663vlzzWgYnn40AfLIS2DcxC9nj3c0LAz3MfiPB/xvG22l3oBqVINPJRuq+ccpo9Cy3ziPHtOHatIv5tjVbcreEKavi6rzGeacDR0rVH+ki5WvWDNICA2Mxxlr712ujJJSL4L0XpMyD6uQUNw14w+HH74+bRX9GMtqkPXn98Oss7gBxrbGvbQGrpHLV2ql1x2klaAOeRXFz04kKvhVBSONrcI92oo2nYUNZjNSr+GhIk7GAt7DOnrTWtxJrM1xElPCvANBItGCCx5r9KeQMDPPsIa7Un7Vk2xRXdwfnlXrbHQ0wNTxvFm03YbCf9x7PAZDC3LD51Va99a/9Suq8FYOSad61aA7KuUfof380635fG5WqqVcl7rre+XPNaBiefjQQbs4v7u2fnQnWfT46ozLZgBFcTAAAAAAAAAAAAAAAAAAAAAAAAAAAcIRsPD+6////J0VFNChwZSOczn6rdedVxuRnEAe+bu6SVS+evYHaO/wq54dpZZ/ihXt9bHQuuYkDTvUvAcvvKiqzJusAVgmWHayhkDFWpoVDhaDgYEAGDoFgtfrRYCuTlqZBNqL5jcYZpSwmv31eSyfVTu1Po1qEyzVrTDopO4ADiLVvUzU+AFIACxHMDg0y0SO4dc4SMXXPJ5iOCVSL6eK1lRKhlVCpnSLNLAZL7LWYlIy4zE7keU9ZymdUngxJslxpUEehE+ov5fBlRkZrnmmmQNcLbFzTId0WTpeKlVJkyu6p7kkK8ma9stc/UvSXoWZq5tKqLMlVFJZUaVOLqUambZW1IsiltoyIMq2hIyowTH2Nrpsa63Qs1ljAM5hfb3/PFXis4kEP4dMMen7rgAAL9+iTsqqQw3c557r15rzquN9bZ5q8B75u7pJVL569gAzGGALScoqlYrXrVwDghoxrtFDe/PGzWVj2b4aT7fkSRI3/NXRV4XCm9dqAAAAAAAAAAAAAAAAAAAAAAAAAcIRsND7/v///GW1iUFMKIADWx121e9Nb3L51luJOc9qz6CLWpEBus/T8Bjc/V2z/lNsb0g7aqE7H14IF/eS2ZrEmUWrm0+5oEc9EvFwGJWVDQPNzLiSe0ba/g3Vf2vBe4KXgKo7o90C66gXI42uUfK4iKjQNnC/li4UFUgqFTu4VTNQs22op4eJL4kNquNFLOmu9/VXhU51lwo6C0IVVgoaiCsXa/BdM41Es6Sp6EacbkyKKghU0NogtAKXCBFKcgU413GqdzT2CkrLhVpI4FZhQ06CfrS4cxsg1DhQsxICiUMvm+EYjLPByGwR0AADrtq96a3uXzrLcSc57Vn0AHrF8tnUuciIAz/mSVWNUQMtFSaWWhLk+kdHec48LCTCXqe4ApMUQB0r+SC0qkumFv8tPgL1hO/Dd7Y2yW/+i6m/++//f+9gAAAAAAAAAAAAAAAAAAAAAAByErC9euf8//xltYlBTQD4v5vVc63X13lqcaNEia3dUXoPKnaUTQ9bsotF1lqPCEHt7cconSPUW661XLGC2CpwJiOoDlOLH2zyze89zCqQzLjm3XSstKk5f9FqwC7m2iSs818kdze3xDxHCCa/C9rBBI+DnwqxVSuLAmybQwYD01AQW+YtWYPSsrU7pJW/WzmkdN7bS0uAuTJaOJqmzmncLzmLVr5jOHJ6arKr1r7zXiVI3l3vWe9+CdOMK5X6WWDj0sABXwOEKd/U7X+C1ABBfR/8vVdQFHSxa4UZnCTjFXGJZJ1YQXVqsIwOc7lvqcoWmIy2QZHisA+/zevEK+vmaU40aukTW7qi9DNez/7t/dn4j2iuJhMJX3/U1RurHKeA/6NwJHSKUWjjRm9455dpMZqgjC1SoDGtwzuUrvyUmERe9R5/sP6PVql45YuWs8rC9jghtXehvsm6U2gjg66KzpKaZzpSO524ETPFePRi/KBgZ+LxvlKq/zFyVMtdagJ5RDjqZCG4AyqS+2873XO++v7R68PlmzUz2ZJ1FbVxw2hMAAAAAAAOAhTNi3eC+Hf//E2aTJGUv2/b9a876X0iv6+31XtxxvWU/+Pb65fVeHjrP7/vfz9+PVPfogOfnHLhw3QnsUaXSC8PG8fSbq6qJDCXUMcwzC0WM1kTo/1ZVA0w8jw1IVorP7VSyZoEM+BPD3fGyj/yh7+9ehXx4sp6Pbr55HTnVZw6x6r8R+H6grElEA9k8yoEmhMcap3R6t91fM2ap7Pj3TcxWuBl7RXt2g1HVT94jqbYLu8/zuP9xBOWPcs9a13FZKZo9TvTOHW1Tkw+l+qlNOxHoCorNJvgrS8RWqSbS2sTlxOXT263KRnvdfx6XWxAYdF5GbJhw5njHOISAB0qdDb4yAC7Eut7ehTxwWIFRSMITIfjf5eM/X3Z9PalotcKMlHaLkmBFIE3uJ49n2ntfvv0PZjHv67wfkCBAeBfxZp941zRYYv/a+wSeMmc3/nqogZeQRExDrMFuCx4S0w/eiBS9uz8OXS/F2gaXBYmoZ0DKoCYSYGXBDywP8XWgf6JNaPyRAxvZEfwn9PHg6lRZoNJVyImMLTdw8hhx9E+z4LB/g+qdzS2DhIWkbSTZ4rpVaISSTz+jBgeS1KPmSiw0CTieQjyoLKrIBxxXie1c6QOV6IiUAYkUH8lRh1tSchcRDr4hMUV8jLMUc+/njF3qK/8f4+HHtxvWU//tf76m/qvDx1n9fvfz9+PVPfogOfnHLh5LnDR9UdM5xXNDwAj4Uzy41mvSiaiaXe6kYybN+MPJZmboqYIRbJPDKkQlJt0QhIAAAOmeSPr/kHtvCCzzlrqHOMD1v0JR3EGG0AdC1MSKVOOB/bpGoAlh9WwWjv5/t3YdyNm8P1XsMdxjn2jGz6t8bqXMu7P3PVstFrMfTvsciXd8YKbTRW0StI1CdXrTmXfE/kOrZJkVZFBm0W3REW74e/GdIpgpm6nSLDsc9ohs0IAAGj00RamFSaOiB2IOpB8dJL4+oJdA2GnX7ivU1XbCUQmMVZgtAWPCNcQA409muusrQHdFiQIzYFAABwCF7D33/////zVnRVBR8CYSHTxz8KrftmvO84+3XPnl518/f1VTfnN6ya8WmtAUI53nhacIVUh9rTFcvsb51Zu44HWBh/9MAhn2iwx+T7u0PHJo+DjLH8woPyivziPo8H9/10F8wVcAIOYTfcOHDAMPbd8Hfue0MFPgA+zEPTlN8FZXGG8sVrPpAPHuHvHT58pVLiF5WcABxEDqJNtljiJbt/XmwmhUE7CxjWB5OGWxktWu3nPFRas3CEGsx8Hl9sT8LpMEtpkCtnGSuQtQqgOQG4c9RLfVXNDoVaVwSskxzCwj+DrWwdQ9emuwntCuQBQVrg5Fk1QeOsA0YQWmp2orzUTejopox2I/oTx5xVb/n5153nH26588vOvn7+qqb85vWTXi01oP9pJxT8Grx+leUPswafBEVAAAAAAAAAAAAAAAAAAAAAAAAAAAAABwhGwt9/////8sAbSprEqWPAmEg1G4+31+3357/X54yldc3ur4d/4/iXUttNde8zXnoZQrkZCVkP1AzjJYKzUlQRnULoUvKHSIEj4wrr+Q6B8rNcjr/qsCyJ9MQFD5GPDXx7yOrVue5vn6pnXml3Qrj8iolXdiZjtnD+GYuoGokpnjvl31gc9avyjQVzshUqoYygd7w7d2UF5/L4Pu4oBMdRtnUIS9rBnu8LPrdMTZaHyoffQqgogAKIoYBQMhoFfImdAefFKtkWyTyMdvDX2eRBTWTUBBR5BqWs7KK9Q1VaAhLtbZOY9PDgLRFBR33OWy0WczAISV5wEXIC3wpYnseKeFU/ZTVWfhZLXKLAeWoQtVyp8Tw4VFPFOzW5Ymu7unEswAAGPn2lCAbMPzfjj+3+n7ffnv254yldc3ur4d/4/iXUttNde8zXnoQkdC4Sl9DFYgCcPBxFYAAAAAAAAAAAAAAAAAAAAAAAAAAAAAAA4AhGwt//////8mAbM7WTAmKhVG9ev9P0jfXMubKvL64v1x6ur48XRq75XP/ka2IAeRLAjFmKRw/HCIkFM8svOd5a+y66BO0aEo35Qrwc2f0+0w4353UlaQraMB0mb16gKuuoDaHNKQC3cIHfhCaOOpj68mUDFCIAAxhInsA74QXpAnfjVX29hBXgi3UVTnZ1WCG0irrmAdaw26XZpEiFesrSg/2nnNepp9MUmeHspMf7/sDGTIM7TCEVVVQIkO6BcFWLp2rKoJrwBHAaYwJ9FbFJO6V371rKk2NZ35xYAwNKAX1T+jbZ16xXmUP4qUkro4kORfGRqM5zDYjFz0IY9eqsOfPfOE7E6eGvrKPGjn25VjFRCvh785zAAuK2taaXZLAGyH9GvXf8/pG+uZc2VeX1xfrj1dXx4ujV3yuf/IjBWAcduUEWQnsAAAAAAAAAAAAAAAAAAAAAAAAAAAAAAAS1VtVZyEbD+k/////zllRbGQ7BgbDQxids49v2/x69safOe3Va3549VX2jfVTMkS74v/lphs88gwyEOeA1mm6yXmF31DvlUv8XYmvvTPHlDjva/anCn+C9rsFkHXIJGzAxYGUgPVMjnFbid+KZSBXzZzumgWj322VSTIOsWU1qKdoFrK01hz+hp8P1/xCMkV3rm5DkoBWUEp6Gs2hWrTNjx19zuddp983hXNvr6fFV68rC67fVbRQVUnMlT7nSL9ePdJtyKjTl7jsAhTwwr2evtn0SSIQltLIBC6LxdKXWx7PHOpGWvY0ozLKph6XKPxNmesCJXjYPPbZLd5gB03tT9YI1+1z/XlAQMumd4H4s4y6Z+PfHXUFDXfm3oH5eBy/K/F4hOH9rtnHt+f39/vzv2r5z26rW/PHqq+0b6qZkiXfF/8tMNnnkGGQhzzE/b7Wv+zhyvxhl1/blQAAAAAAAAAAAAAAAAAAAAAAAAAAAAADgCEbCyXf////yqUYqEg6FMb+tZPjUr7379cc9d3otj8+ql2qtZipx7T/YaVAfXDnFPS6Xg0usVR+LYDcRJzcD6OmmtmM4DDAncLT1jMppfdklg0UTI0r0WvVCNfmQWE8ld0FEdls9qev84JZNgOn4AdjHDOnc5/w2j58DYXfhpBfwihAsRTrxQCoG4sazy46p2TV1VvZzqdv5d+QnPx6c/sLjaxcScjY4S6vV9iSmvJZalEPQCUgNlkhYWYSWlls3+fHY4+3baqNtClmUJRF6kwGTQIRbIJFFqklGeR6r5FznhSyHeAE1xktbs1sRxXvPbXtYHqrhlW5FUuVJc3gV5r/5/4zcG47DR+yH52ja5P96BNI4fPtSefH678+ffrjnru9Fsfn1Uu1VrMVOPaf7DDN+Wfb3r744t3sK+jT0kGnf+pmlrerUoBAAAAAAAAAAAAAAAAAAAAAAAAAAAHAIRsPXf/////KQVqwdBsFBqR/W+Of9P0ca458vt7Lzn2r1lVJNypiuuXUvj/1AUhKxxnh0YzpkQDIAKc1LJATpE1tBIpZAASgOTQVbGarEQt2WU8Aquh2WxshA2JFilGSZ5iUMLKt06vOecQKAihYKoGZzXSxpMYlHQ6IluJTmyYhbKA3NBB2Wjzfa8Kbsu/VKks0in4lsitlllxJzUkIxWBNCcua1RmvRnhk7ZWVhwP0jyoSjrCSqqp62B+52sUNjtamiSYMkzh0XuZGbwoqi+kyw4nP8RxfLTX9KpBV4KFT44A7FSBgpTDWPWNZRgr0Vf4jqOTnvU0bvIjxqD5aFb5rrRHd92ut2alclMrnLv2q5FZ90mMABakiLpNWlFMPzv6348/Xbj6zny+3svOfavWVUk3KmK65dS+P/UJkK9ThXBH/Azfn+qZEAAAAAAAAAAAAAAAAAAAAAAAAAAAAJxmhsrwhGwv7/////8mAbMx7ExqKzVJxz1mX6zrcV53MppIzjtdSJKvNOJ/u0wzQAAYbBA4WmuoYF3Qv9+17ffdQekj21qhHysc2iBk1IA9iXt4VQm9QT4R/FhHbwaP3gSQxGeyoW4EFXmmIKL3pSuvqWKikeabZONOUKn1VrKq23YqxWZzGta9XbbtP9GRSi8pmY2WibQiYvMpFScpWbDtP5nvtVnp9a9LnymiSrK/GZGi/zW400zq+A0yV2TM1KW1wUhHjEtLYzTNjijJ10M1LMQWNMBErTvhhqJ6pDJ3rw8nC0o4DXJXITujTU4sBozI8g+aYwKsxJzfBYA2Bp0EykwIQc3PGimZxqNHpxtrwfd2ni3XjNWuMz1vWpSGyX+aZ3wwl83gVMOxlWL6v5fDsVoIr6uFVcTF9+cplnsxc86G5ARiYlZi6EraT+R556zL9dZuK87mU0kZx2upElXmnE/3aYZo4AMNgAcB2fHywzOZIhfCOwlkggTgKHvc2g+MpAAAAAAB2Y6L/yvVVpqAAAAJAABAACoAAAFKJgkLcGbFa4ATwigAEnQuu0OG/IRsL3//////HWyIMNEEMxLqO+OdbvW171kQFQLzjaaHH4AyGpT1zVJUg8C0/B7dDw/86bfn+PKS+B5yeTIQmEP09hL3AuW6MK+BbNT7f/3Qj1Ly0KIFIYsLqdhujwJ5N6hSaaclJgGgoE5pKqlVUYp+yl4ljUySybJPSrTCIuTW6ljl4ui/LFnV/s1PRBAzjxXEUGbwlPQMklNPORqozTVSLS1k4qSFO1K4WO13UPv5m/gSw7tL12eVHG9BEJrcMCMzQnqaYJsSC9pqtNjWK99c6+mQS4QLwFNRWVKFkfMqSRxlUtgieWrW8F8MnivUkgpmGsLU9bKruzjPdwHWphDTVus9DHeQd/DMmcgY4aIy7gw9RDcQLRgBszmH4FR3xzrd62vesiAqBecbTQ4/A+T3aqKt5VwepZ2yEeeOeoabCxPV32PI23NdGmfEtOkJAAAAAAAAAAAAAAAAAAAAAAAAAAAATHCEbDmv+////xlsozGoKBcLDRwAAAADrvWcKScQF7rJDGRIyhsNTH6WucNa1CWyaHtI2QAQQ7n25Gwh7rWZ7kb+77GmyT8cKrGzHO49LnEBOLH4CJC5yeLbWjCNI1mShTMzMCynF8OjlS82qaJTxa+ZkJLTJ+tpeueLFdOEYzZFbJylK8Hyea/fCBR3Xm07uHKbV91X+aRHtDOix17uFD0BbRX8ylVq0Ps4iTZnYM2c5a3Bj2vO+oXENz8ZLAZ+ZcT57eDXTz4vlrCFBKHmYSFq7bKlltPXwVB0BCfv6P8jqLW1ooOUAaGhRjzFbH5c4+YwwNAy3rjPXK5QsO6gEZjcV0uAp30BhME9iocAM2gCRiB8WCLvGWlyIYcgAAAAOu9ZwpJxABd5CfmfC+iXWafdbZsDNONSZBD1EIgvhsZZKRxNfLvO00laPJmx1HBMUPRdX9l6vs/kusC9AAAAAAAAAAAAAAAAAAAAAAAAAADghGwtf/////8kAbii4CjDEn8f4/j/bxn6ff633nHivvfe663Xx3Ob+Kld41xc+A4xtOPK2QtQB8ojZwhPORBy50zZDe5MgkWyOhLEEILEfynsDRcRKtTIZyd0Zv2d4ZOk7PWNmLp/iaJGdp/Va6bf+dPrcCvzbLKEA0pB1NVL94e0/b9vgH2OR/kPtDaAYQdjtsuY/MDC3d/I+0g4gyIc8gHz8v31qusiX1/+OMNN9B48uPkYmQjPAryaWwH6j1H/QATiVqshJIA8co28en+vpFs+wZVavLuJknmLSUDKqgCGZRlgBsPD83D2NPrDwAePPRhDqH1GBG6GLthakudGDvbldzhngbCEGbHn+okAnASoBswkYQ/Bqd+f6/7+M/T7/W+848V9773XW6+O5zfxUrvGuLnwEGOqEfOeTRZZWiy8KzZu/Ad77ZJVAQiAJLgAAAAAAAAAAAAAAAAAAAAAAAAAAA4AhGwt//////8wAbiqGaZVc+3z/h9vGta8+Ptr/P9NMXT7+lV15c7zL9ulf+QZ9IkIYHIdZEE0rOjKw5M4CXHCkc43qCOyZAHCxOQWSuNnHk6itb9n2GReP8RfVPkL+Rr+MKc/qKxQTl1Ijh4hA4LUlHJgfrmTFVkGav0QemZ1XRqJ66J9F6vK37Onpj0+3coAA9/VUvXo6hddIStFBhE1IgOJICOAGFuxluZSTpmJ18YsjEs8fZVnsr/2rLDiLPmIkU5QRiDrdDDlDAqqIAPLqiIoIAACh3AnQXdgZVgV3spAZwcsEOVDysDg1SnZbcAdVVSPJDSPRD0ssp+DtfUQsVtFNc5sVjZCU8K6mJGAeQ+L+l9MmPLbjgi5ubi+NulPSODFpfUbOn4AV0bs9Z4Aucfl819v3+f8Pt41rXnx9tf5/ppi6ff0quvLneZft0r/yELyx6f09M636HWAYSADf2uAAAAAAAAAAAAAAAAAAAAAAAAAAAJw9pKDgIRsLf/////9SgG5MRRUFmqW/PPx7/jua7q9ePx9p59+szNe22049njK5117XX/k0wyAAOYbGK4AiyuJTLMnR/za8MFCRqv7DVoxwVhBr6wCVEr3whcWwb3EZ2D1TgYLziWdi7l1WraKJXa9YV/X/Wc+zYdRZ+vPihjaqewcFuBswOpZsynPFA3Tnjaxw6AsxA+F8caOWvPu4TCQFmdd3srNqfcH51sNqsH6QrqmF6pONm+a4Qh2IWJUkvLNvR2d6n+w9XL+/XI1GqYbae0Ze774fJv41233++W41negJMazoka2WirwrZwGCMgBPC07bMpbkO0DRIuNBmqNTiTGuy2pCSRkKm6m49ddkVrVfJMBgJyTFZPhNXemdEhw9N1nKqaAdwRGJXdCmxGTkamag8KJ0cOmfHaLFZXPh6L7ZAAAZvAv59rr6i/nICrQu4lUtWowC5h+Z59/19/x3Nd1evH4+08+/WZmvbbacezxlc669rr/lphkAAcw2MVwBffyaeiAIgAAAAAAAAAAAAAAAAAAAAAAAAAAAAJS1bePXtg4hGxStzYiioKiYyGMj+n4/Ptc/n/t/p4xjrlTiq581WWv44rxtk8+av/uChwFsUNFqLCAflsuKjFuIn4Gj48QWLdIyOAf+LV1nv38IqCzbxrN0MKYYRseHrbZ/LcqKXpxIIeM7AaHdEk7JyQKYna62c52LR1kcJL7qJamdArWCcTtKuVMPzL8JPZ8GAAG75JQ35jHbIq1mOhfQsfh3u10YvYAS3jUdtstPzgNGNkxsl7Xo+JxJfOW6SmspJp5XU6xdAkQUiqfmlwBiMqGDokd0oAFKCAABYO7wQGxX+BmzQFLHJQPctLa4Sy7pxkDDowCb/alBq3XQcFnlWy63VfZFSGzGwzVmqb0O8/a+5vJZXs/60ANz18+sl0frp/EQtj04wh1KVP7X9Px+fa5/P/b/TxjHXKnFVz5qstfxxXjbJ581f/cF3dOckAAAAAAAAAAAAAAAAAAAAAAAAAAAAAAX66KtquAhGxSN0UsBZyCMT8/z/HGt638VnPtue9tVx7z47zVJ7SeKquOPOVwCzAUiEK8S5bJMUsN6iIoLkgzpkjMr1gVMH0rJzCViFSS7/tJyPl40bsdu2sQvLDShGDEJQZGq487SJATLRXSsvYjNKUUdcp0wdpslxGIKe8e0KIjOzz7YRiczPfOd9uBn3+E33/XyAlm5RHz4qDsWCxbbhaWYKj3SzGzNBggABgZA1MzxXh/G29D++wTmQgY0cHetUIaaBPwRmJ6zIaxISUu122tfzCapEICK7qQ0VQhCiAMVWJ0CIiABxGEIXEAA1a/zXK4ACMLiXa4gAC6uc1M4IBsjubI7yOIAT4OyzYgBHNihsogBmi3blJiUQBQiPh9BhGHu2wIZYuChJtNvo771EA+W7jnyKsH4X5/n+ONb1v4rOfbc97arj3nx3mqT2k8VVccecrgB79Q7HNUhPIKcx/uF+wAAAAAAAAAAAAAAAAAAAAAAAAAAAAAHIRsUfbWNATC1SE+c1597r23Xx47dTcTgzd651teL3JWru2mG1wATDI/A4c+ynFQHoYLwg3SRK5bNGTHhmaQfIjqMNYqLgyVI7lyzyo+GQ0/BHCl6UJtRgdCGB3AwHtmGSDSjJeoKVMSolUUues324mJZRAAUIBiAFT0lhqytsfETCeCKLHB0dcxIDBhvyoYjPxqiIuhVA1Kl77UAZleFnz2MAgoQ1SUDsUxYr5J2WKhKcFc377eurRKO+mT54+MnPc0suSAOUXuiypFkXQCwFgw0s4mM4CQdk6UZ2xGciBZCAUEYAsoNphMxKwLpzKfNYvW7I1uCM1gFWDsrnMbgOoDUovrnszEFi5FKexbabKsmV0EQGFSP6JKOQOrvuELpDlHn9r5zXn3uvbdfHjt1NxODN3rnW14vclau7aYbXABMMj8Dkp7P7UNAmf3zBtAiBjAAAAAAAAAAAAAAAAAAAAAAAAAAAADgIRsUrb2VQWEpEY1xPt+P2/ev29pXPHfneu5Ly75me2KtSVNL6CNPhl0DtDRk8XeJzT9tLbCSJbISziGU6ThTCcU20ikVSAbA6zuH9NZgdkPFG7d/Xw8stqzRBEgxGoySTg7tEQFEppQ6WZ2NXOaOcRBMJQEKtVNVDLpnUSQkUEJDbkGSFUyEqwVSPydPk5+Q6QIsYmpkpmQQJBfbsynr853yrVAMxg3e91vevT/LV31RvU76fDaaVVai58vFGC6o9to18LOF3XSoGa4JcOpGhW7Fte1OSc5JW5Qcjq7PlBCjmRVqiDjtf/CC9yiaLNChtGt3Qkk1yK0jWPRNJg0ShMyhI5oKzp55OMOnqXsmRQsu72Ze0g/BSrIH5WuJ9vx+371+3tK5478713JeXfMz2xVqSppfQACPNyzZP60GL2zH18EYi4IJgAAAAAAAAAAAAAAAAAAAAAAAAAAAByEbD8//////xtwdNhoShgaCYhBYSDTPz7de+nP1zz7c7b1W+qXE51NTW95xKifdphkggAw2TyuyAghazJDZb0nlrZGbiyXHrkGjLN3nZPGb6iax0bV9uw7OpXmaytYJPFm5I09mqkyQ5UQCR2+FtbDPpwNcS87QmGiLapFxyeBA1JK42aa1uOlj06S74vOYRysIquFsQ+9/9OBVYULrMvR650u7C9B6btpjyjv+E/h0pur0/o6swuKNvhDow6nEg+M0XYHy45tyj3btnxz8X9QA5y3DfTGot/LRKRL9ftvDpntM6pTdIXFTGqo1jBAByJ8ATCRGMW3NdBdzGI9lWihqMLBddMgjnZZVZw6/G8f6/Fkp7R7Oj5+2yUqd9HKCt2XldlQmPAAOYxP02KoEIAAsoUt5No8DlC47DGzPP5aVEGA9v4VIgM6+qaWN3s4f++4fndP1yLS3d3cUaraVAAKNcthVA+TPz7cfn2c/XPPtztvVb6pcTnU1Nb3nEqJ92mGSCADDZPK43a33sQmieC2NAz8di+kmYIr3tDKcgAAAAAAAAAAAAAAAAAAAAAAAAAAAAAHAIRsN///////L29hyWBUNiGJhoJgqR0+3779fF+vOa29e1N8/HjjjFXm/bU58X5m959QfbyckF2n6wwUhDTRUBVzEDLI4WD1chEXZNnko4uVjGfHRYBNUppOP4BFbX60YpShEsvAgOMphsPCHEaB7qoMuvyCLX8UM+NtGHGF6JGPzfEm+P3LRsw1Yg7o/c3gjoRRqYCIRnIEyTncHv/mJgXY8n9axT2UeA9FSQ7N72+yrJqtgWSdASjUGSczqTOsrr1f5WIIYAAAiBEHeU+eBBTpuKQTpeQKSRyvos3D5Es0C6owsaL917OjGvutcGXigEIrxQ8AStsja94gBHFkSCBT9xyWMDiHdKXdIYgD6yShSnexOuIMrZj/PV3gRBI1R1aZbkV014Rx7Cjj3b9gUJFEc+3G+xiQAAvBmMS9iY4/I9s+3779fF+vOa29e1N8/HjjjFXm/bU58X5m959QABFwPZLUAzxmlIRPBzpev9/bqAAAAAAAAAAAAAAAAAAAAAAAAAAAAAAHAIRsPf//////I21lQKxQFQsJWuMXPnjXr6rfLWeRzxzaVdVxxfvl/4/qXegTBiiE2rnQRJCc6ZsjhsdWotGc9ki5Ynxe1Lco+O1RxWSaqKT/WaluyqKR96EoN6go3+LuesS868Ea3+O0QCnjAOEggF//WMg7qCAaSY0fAaxD7s42+ShqevwlCZ1NKMaHycIFwZRAzuHEIAUooinC/bh9ljFRbGHbT8M4sKjH+b0PxdE5vzf0OZWzeyrzPqRQfcdV9rN1kLsIUtd8y/OHDxx+O76zxMHdVQNdMzFTysLtnsvBuJBkHDMLgAAC/nN4lHZCr6mPrmvh/1wmvjsiCfh2V3aqljOQrNsxeJWg2sWG5d/zl3dlNdBetO7sy7/niwtK+12zkihJjF8YHfYyAGMgHGRsynH4HGST5416+q3y1nkc8c2lXVccX75f+P6l3oABwtRMn0upWtTkdw9Uq4QgzG+j19uaZiAJgAAAAAAAAAAAAAAAAAAAAAAAAAAAA4CEbD+/W////xlsgrGgVicKBsMBVoAADVYBxy1fX2ddfZfD6aYZAAAMNj/PrTxBDrpSNAlaEJR6ZPwDcs+P7viWVSkJu2JBH0S+zO0Par852m0hUTa6BGP7DsaOtJEYfLZM4SIUziHOEAZeiREUtRQITGR2NCCkK7RO7AXJStiNCqA5ZJRANTGcxUVHTCMCE9lvElqR7xjn4F8/SPBla4KyB5VlUmwcwXSHS5AA+Ury4sxP/f/TwarGJYspxcuGV6n4ZoehVUSuffjuze6aVkJl1C86Ud+XyiDkCfJUAcJAVOvDixkvcKa6VzjozdzAgpI1iOOpCLmezfR1/P0ce3hx+c7p0fZy7HzuSJxWO/u7oAAAjr7Yzy+AVHYZ+yTe46YbvwHPuIXq3e1F3jGtTF3K+/RG4F9IvjMLsAABrjGRA+AAANVgHHLV9fZ119l8PpphkAAAw2P8+c6VtIqTGDj0mpju77lvuDEcMSmA4S0HoDauKo7jOWWXOET5PT/j8MScIgAAAAAAAAAAAAAAAAAAAAAAAAAABwCEbD+//////yltZlCQTCRJkfB7+38fXvxM62ydTfn3upUtl9anjPrxU1PODxAjMhk6WbJBxJOb0klneBErcWdQwOUhkV47HohS5rroDq971X5aYlP7zxiIdPFZCRYHZJTawAlREiVY1xUFKsos6ErAYTldaLKhIFstBshOCTlF7QZ9MdEnZQj1sgAUi7g8ccQgG/Gxl7vre0xsTPi6UL7H+215xnrR2N1yygJkEYHSL0oR6f7WaJs+BJOIqYCIGCN3U+Uhd6fd2mawAvMLq51n9+G2qid9U2seHxSs4kDlU8PRQWla9V7Xd3eMtqH8bjc4pySpZ7nxHk4penbFDvtpdF0Wkp6JKK56Hb9Nja4AyylmP53we/t769+JnW2Tqb8+91KlsvrU8Z9eKmp5wACzkIlAGaV2ixB1Sa/KE6CCAAAAAAAAAAAAAAAAAAAAAAAAAAAAAAA4hGxTNuRcCRxjd34/XxK4+ZxfHz5y68vm9+zdSr/X148/Ffmce3VcCfBERwntv2meiDHkv58nBZ9+j2FOW21sVczLVCyh4wjGKRNyTZRsbO1/fqOuDFQfgfXYp9wxcBWbc+ksYl4AxSVY70S4T/b8aB741GFa9398dd7Gn27dK83ryaqjPbOl3d2uIsAH1BxdJrf7fHp9bken5xxsQRSK7x3YWr/7bSDIf6/8oDgZi1w/T9y1I4+mHtvUj0e484xed62cP9mrK63dw8OQf8DabAB4w+m2IutnwwZUfLrIx4yZaB+faAVGPcsxLkS/mGQasbbYGNUxzKnH5nd+P18SuPmcXx8+cuvL5vfs3Uq/19ePPxX5nHt1XAFfnLX+PbVfHYAAAAAAAAAAAAAAAAAAAAAAAAAAAAAAADiEbFJ3BE0JjQFRod8+e/r1zPXVzxx9/trTrvs9u2XquvF1+O/eefOvj2Hj+Ps3IbhzvKIWz1bPREgZ13hAI8cRujgLkEAEMajgDFjT5YDKxhRcCp8g0XxiwpKyQQpEPL/q9vz1JU5Jh96zz0sAax/6NYakypsT6NP/Ovdh+BqS4xHIIumDx0LE1rMMFsVlZSCSeg3TgdByMPIYGpAhtsroWj4d/ZE/XRU8nj4eR5Ptjlb5P4bZ3au6zEzSS+aYCdBaAdbpoB7WYYhOsoVbyrS29Fzpl9z1CZxfpiXZEFwjo2b2SX2dV9/TqnRiKDGQAAK2lThjHlEbsx6rAQKJKTEU1Khi0R+lAOWyDl1goqadqHKJ2bGlWLf+aaztek7vD8FiClwgsmoqMPyvnz39euZ66ueOPv9tadd9nt2y9V14uvx37zz518ewHn4zhGQ9ZjEBHZzMs+K4JgAAAAAAAAAAAAAAAAAAAAAAAAAAAAAOAIRsP4f/////G2hi0JlUJjQFRIJhGR+3Tn9/7cevM54vaS+PElfHujftm7fXjPOpb/kE0bollcdFqN+iI4PCE1CswOR8FMR511Qni16cVSDq5AZ4/9+ewCfbaj1yOQhWrXict3udErq6pwpaW4nOM6ncYssYgaWRWr+PH+NPw+V9shmbCrV7PNGBSAGiFFhMoZA+I0Qx2qHqWz4muYpAqRTslx5oB2iTgjgxNrSnG3l42Z9eHnfdqRa4IGYMUEmUyF4dQSRCBmArhFVM4sd2pnYFtoyu5BUa0/zU0X/nThyH521FXEyK6T9V3aT0GqqO7WNOxSwAFctVz/j/HsgMJR30wT0QCxp0+MgxURkHl2EM1awJk4ADu5swLDu4OKJuThSg9I0ksL6fABSWjTEvhjRDST+N+3Tn9/09e1OeL2kvjxJXx7o37Zu314zzqW/5BC+y0iAvLMNXvPiK8ERztJGBYPHJgAAAAAAAAAAAAAAAAAAAAAAAAAAAADtnQ6s15cCEbD+3/////yFxUlBQdCUNBgqqd9a9ZxzrOvn25cVvfFcd1+K8Z8eOMqnt4z2+Kf46FR4oheg3LIZIsogHrRKDYJqh2udx8y0Q/zm2Y/WSu9UpavX+K/ckhZpnjWFgKld0bR4MYziO+NNpi0yS4nBxmPh/QIknHfvab/twD138z7Q5OCbdNkm/CL1rK7gYPPpHWrHOepUkBZvBfzvifR834GRjWSwVS1mMzz4kA1vdZj6+Hlns95+M5ZluJxrrg6cFaSUwRVJLUvmO5GQeOiihOIcFwiggEoZnODSvMAORFijMzgnRiILog9Zo7ZxO83qfBspV8m+0tEl+6jngIW7xAAAB1H193Y46m6D3+Ge7twvljyAU5Me7Op6IooTOcdGgB11es9OOeAGOldddZK1qDW89mapcADN1uTvJBIWs/id9a9ZK16+/z7cuK3viuO6/FeM+PHGVT28Z7fFP8dACmWZqdXR9LTZCB7O67QxJAhOuMUpg96PTT/4wAAAAAAAAAAAAAAAAAAAAAAAAAAACRAMuTsIQXw8AhGw+l/////8fcWEpIFQWFAmFAlEw0KS854md7nFZ5nrrvLtxtrEUvrxNNT2+mmGaAQDDfAB6uY1iZCxQZNiT9IJaPoxHp0UnHFnZWLO4lAikzDUyIX8b1R/CeSinsWnVoo0o3CjDIQuiFOq4ggkh0OxoKQOjEuAZwBdyTrbTreR5YGPpiKdn7pq141uteHTMdALqghacdQHDGB5YnCAS8yClUJuVQwCWhvkmQMJWCsW4oFlLSL10fnapPzcFVtmUGho7VTqM2l3TaFU1JyUFmJSpgDqVXiKIKIBAgDK/euvrZKKzPJWTwr5xUnRcNhrqp6q4VeTczJJ1tyLYB3n7/h7b48AAUFUxymZcjpQUMgd7MacXAN3814a5pggSO7ySP5FQwMCNYO3teDRRU5ZesXw3SmsY3i/u0BrvpKx86XwZTvZ/IKqFgFIp3wj7Uox+Al/t7czy95xWeZ667y7cbaxFL68TTU9vpphmgEAw3wAeAxirgvNafzX/hPRa5S209SLy/mLAAMs+nwaIv1MSXJAgAAAAAAAAAAAAAAAAAAAAAAAAAAAbkCDJwIRsN/7/////QWVpQJlIVgqFBJxdd9c61uXVc+dcZWd2M4ZMi4X1Wuggq0R76Yn8pFQfIeKDsf/vLWcSdoA7JWgI7gE8rUoCYWBE+PfXVers0NVFTjmg2Azw0zZBFconcZqg5WdPPO7xVdY+XvZlN63foZE3blVDA1CUp/G/pw79st/SBJrqJYC6gIXfQMGRjCyuGSAOUWCdSWCAXTqSOmb2XTOVCHmd0NX1Ey1ftRa3ZqnVpbLM3v3z5vOo7ZKFuoMZbqeyUyPNJSuyyMYu6kBCQkAkUojlgOfe3Xn2jgIEbjvVB/g+odJ94/UDcrlmMvwCNt7dPiP1Dd3zbEAD3N4qrkzsJQaxXP7+hC9RJdLP5D+gSsVK14DYOFjbuxQSs/ieauu+uda3LqufOuMrO7GcMmRcL6rXQNn2PhtTyPBxppzgi+cc4hfydQAAAAAAAAAAAAAAAAAAAAAAAAAAAAAA4IRsPdL/////OUNqUJnIJRsrHx87/z3M+/29vzx9c1VcyZdXlS6zQu+OLGqY0lO8KqX9ohhKBB0Osk1iF5gEzINaAVr3sBDMbsHgptxUIuFoNArK/MAUgNiOCm3IzZb/3zkYpnpGwPz7kkVXBa/AwRAr4blq860dWkoDdPdld3T9U3Zo90u3FKUtSlwOo74eL8TvtxFSQCGANkJEVCO9JiSDtFEFwXnACTADZmAKFNuFaFckvy76l0Xlf46Mdt09Gjr7c5VymU9d1awESKSHQDTmYENA0hAKFN5kScqmGi8SpSySHhwYZSkuWpQCUkc9BJD1CAGBGizcyDup95rfuWZa6+HBRGVWRs8/fG8Z969C+hXZ7u2B1e2AAGMYknHaPwMrXfx8v59Zrz49vzx9c1VcyZdXlS6zQu+OLA3c7svok4mLX1OuMdqVOLQVAAAAAAAAAAAAAAAAAAAAAAAAAAAAAAcAhGw6ev////89ZGlBmcYlTz6058zXj/H9v879Xx4Zki2KuYWV5vX/sJwOUzVDFr0rfBWbgVMglBaeC2gAT0rTeABySiS6Y5KdEiNWqyiAbxDcqBZPc6lPMIGFTEdiSnSYJWPfUdLNxMUncI3fY1HTTelViYaUty3DqgNmYlzqma6Ho4ufJlFEIMAqOy3MZcRyTVGY/aj6BmpuZmgpCGW5otF60emirGoIAnokM7UmWg7KY3nZA5yUMp9vSe2Sv/vmV+FUs2qamavh5lpSuye9VW9xtpwQOdUOgKV83XRVfECREIIZAxBQN1yDEkIAss8pmuF0gKCMqlpOgXdRgkF5nfFmRGADQxFJbifSyBeAu6jJIZBkK3z1432XoCN435iAGv0zJu5qTwisTnP4leznjnnzNvPv/nfq+PDMkWxVzCyvN6/9gdsIGbV2J5IQycJGG0fRRmoAAAAAAAAAAAAAAAAAAAAAAAAAAAAHZLlY24CEbDoZv////zkFaMDaCjZluvf48e18/Hz/PvlRSZVQq5VETUnH/mN63PCSbDpPxc9GgP+yME4EdRUgAHdE+QgG83cQJhOdpbFBBUmqEyYR6S1vbSVaDD2iBnVm1TW6xcpyeZO47QqcvuqsEZONcTyqgpq276c0AeQPw+2N1WeUtVO23r8pzbjqyEpCK1pe3dW8+Tq1cIhhdLWq2UhcRmUThHL3KwPxsKvMdn++ufyb/natGjlkYf7XToAp2067EshzzwlC47HTS7y1YAk/KHwniVTqOgHCiq0AShTsdYNUWRwIQi5jETFaoBIW+6dJkBkOspYOJQMWa8gVicJihL5KprknnnHKOlZUOYGgiH2dU543rjTci+O/bjGtGgKDZJCScd49ZeT/T/Xjftvzr5+/OVFJlVCrlURNScf+YD/T17k+znBpNPE4KdTbfjZ3GOgBx8wAAAAAAAAAAAAAAAAAAAAAAAAAAAAKL+HNq3uAhGwzM/////8vRVOy6IzkG3kvvJf433+Pt9T3r28JzxNyqiq1u7i7vj/lphnbgAw2OAAmciKPhWKbadaKq9u92vqU5T8xdoqXggBtqCSyOTRTPRrlGDZfKHCOZOAYluqLo09gGFY1YgcyVRbJnLTF4PPcKK3N5HEi6S4srCurM2oTcZDRHVIeRbWarqIYRkZjZj/UIZgmb+zq08tcc/Cvtelwqn8lSI+B3zFfF+WnLMmSQWeYLZAQYUrJsbaoelMCqNq6UYsLJgQJJpDgzSSL3pIaZ7JrN9Mjvi0wnc8uLTU2yoEnhapABPhZW7sShNWpHAsB5S9drX5VTXops1VHdfTszmuUADlUxz9pVXKzRSQkAW311TyPi6uh+YwcSAYA3mEy3X5yCb4GTJjX3YqS6bveld8bAhNhLSXL2RXjlz+/7W5y6+u/x9vqe9e3hOeJuVUVWt3cXd8f8tMM7cAGGxwAAAM5iNY5FN9e595rj4rHSn9n7gZ90UHUIUAB4gAAAAAAAAAAAAAAAAAAAAAAAAAAACxwhGw3//////07amLYYKx1CyUIYnH7+vbvrPz8e9Lvz3VVbW4qVd3e5mTzrHH+jTDKXBBhsfjga8r44IaLYkdJQ+rZDAQg5AhoslgorSDP7iEOqQgC8Wa1vK4uX5bw2qi2DAR4QoJZ0jxjujTGTx8exB+fbjy8u+QcqAk5hjEFsWo1k+hI2mkVKIhrzRaLrii9KaMezaSC8MUATnWtdQowRclsY7c0YQZkR3tPOVDWCMe/wzKhsAOgKriJQUXZMt1NRAogCd8DUL3hQFcjs1AELvaskjuNbi7IUgKa0ReyTo7vVISWu7om1a9gTAJjB3qdzKNBh1UWKYZT5lE8RCyuAXWSjAV5XJdlCH8B6/yZuUoaNjDzbfspWxNpq5LRjyxuDB2wWD8x7/S4MYQtarY6VedtR/G/xfr276z8/HvS7891VW1uKlXd3uZk86xx/y0wylwQYbH44AGLVBSu4knQPj8dS4XCV6z5a4aQVijccGfswLgrMFgAAAAAAAAAAAAAAAAAAAAAAAAAADLP7NF9UnPghGw9//////9HZ4RYkFAmNAWGoUIwkIIn37vL/X7ZNc011Xz1vUm6uuGa83zvMvzxmvv+GmGRyODDYvII0ZF5RuOMW617+bK6bCCxEsUbL/XH4qqC929qSxEKOMs0AQiCjIqdlZXnf9a3Qa+rIGGZLJ0pv1eUoI6IEYl140vVLxuAVV0QhwKALCiEFQzSZFK0oTigAAGgAAVT6W3fLfB7+wBYgKbiLbNn4iBfgc9mVToQWfUIoYQqCACxCgnCty7IA91Ib9rottkOaCHlvsvEgCvy1XTIVkf8H/Z+yrJPWjM4SFacVgjVi7sgoG15HwO+/kK6a1ml4vFFTRncWjvvLVSUT3GSsLdB/x0w8gbgYbWLp1AYf8fXkyPD3yRfNN9KorwTdf+EI+IFfzfn2zKOzn8z79+fF/r9smuaa6r563qTdXXDNeb53mX54zX3/DTDI5HBhsXkEAG40ZlKoe1zphpkBHxSx/08QAAAAAAAAAAAAAAAAAAAAAAAAAAAAAAhBTiEbD/f/////zVxZAhYSDUKJMb21w713rd9us3x3SOtzd3xl/f9Kq+b4tx8fcPZVHZAlTMW1zkcFDx5wIjibxEx/ErGWSow7GLeMc2KHCYZT2apiLWUZ1CaAIlLpa2oPwXPsVbmUqefzThPNOjVk83XSMjuJgjMwPXgNP7/5NhhI4gABNMwABoDnTj5vBO7tc8cWADAhT+OHDuwFmYAdxevu8n//Jhg3m/ea4jvP9S3Kl8fg9+5pAjfzq/yv6rQO5WNdv19sC9Zpuh3xD6Y8+UEbSH79ZcEEE89goK0U1aCshXzrRR0aCjXCoTQr+aCiv/F2LTTQKoK/mtlGguhaygpbwgoLYFQgpqwKtZsCv+ajYG60gGt2jPwyTVnYg/E9tcO9f1/fd9us3x3SOtzd3xl/f9Kq+b4tx8fcADP+eeL5x9Oa892GlTUkvV8Y/6C4cUiuLgFQAAAAAAAAAAAAAAAAAAAAAAAAAAAVoS4hGwu+/////8YAbOhaEyaEw0IwUSIRX6Xjn23NOauOOZLm5eanjVefNceWuglBRA/DrvokhxiGDnEJXMSdgZYU60J1pmWemn6RWPH3slJ1xUJmHpNQFscDqVl0EN151IICc6jQ91jTS2FAGAVUK962pfvnR8osjxo5yTnK2pGerTMj1Zlsvarh0CCF9u0s7lusEqZMrLceDQvVefclXYxL0lu192gd+aDj3YxfjwHkBlCVPdnrCstXFLeQkOwHCNfvVzGNQ4mysyqxtpn7iw2zXpJ5IsOJgC43LQGID+Lv7NXu9hD2PGYwd8eG9VuK1bS9mZlJdUlCywck2BGjPog7O6AdIPywuvRBobtCn/GesZUswIwA2Q/oH5y8c6k05q445kubl5qeNV581x5a6CEzumZCz667olZK6zGv7nuMPS9kAAAAAAAAAAAAAAAAAAAAAAAAAAAAAoRZIHUHIRsOf//////O3ExMJCsFHmJ5+fruNNc7r28fX5q9VWt6a56ydVnjWsue3XUaYZX5BMNkccgEnFpQRRubCR41Kxa2KUcZlx5rWqPJhJM42x0n8243e6zzMZ2Ko3ZEMmPbii8sTtJsfgaLi8TWy2Y7pDyDllE4RZKF/jJN8AmjhSQfaBDiwwe1j9K4KXkUudlD4AQzqWERUQm7PB/6OG1Akbw1efBfC4FKizCdvvyaMNCO22lJw9oZRERBTDVkeDVkPebTBV8TGpowO5ycxupA/UJbQemA4ikH5fALzF3pyP6S8YSVz9jY8jXrsagxInA8T84NkVq+AfgFEenr1G/h6M+bVdMq97fez26MQkqdZ2PsJYANaCXYzrkP6Xn858Rprnde3j6/NXqq1vTXPWTqs8a1lz266jTDK/IJhsjjkOp26z/d2BjfhIxAAAAAAAAAAAAAAAAAAAAAAAAAAAAAAAOAISsU1cWWg2IhzE3N1JTfxp66niMuo+PS8815znecTOPbrj6A5o2j0MYQrKadOtHV6nCkRkLQMs+YKGZgXnlq1VM8P8XtUEgSTIRTsWfQn1rjhA4ELgfseTAxYGM5ZL1OudBNLMhiNzPVbjCvihuzG5AoEizBEtLQLLDiM6tXEUhCHeWQ0y8h0WVrRSAoqPA4vdViGVdNkOk4ukut5W1E6rvKQPvdhKmQuQWhly1ALOgMpFQAkwG8HdIQO5pKYILjB1nFjna1quZCRkNbQvI3vJxDUUaAWNA6M0oZ1nHqq+enhYMF2FTs1BvmVPOrxkH5FfCYwl9tag1nXu0nTnZwZCSKq9JgBY6LhZv/1U05R+hubqSm/jT11PEZdR8el55rznO84mce3XH0BfA5fB7zQT+fnEYgAAAAAAAAAAAAAAAAAAAAAAAAAAAAAAOAIUxsvwv/v/v/zUMpsE2asJDSU2a4IwlNmM9fNanFPr8e+fHn9Hx5m70PH5fXWsrQ3/G+PPtTgIHPQKDwbCjA8U9QYhGulzkuMb66Yt0tkIHSEZXn4FbA1uSqxp1TWQUpmLnjdgEM+gI2QmT4h5CQr15lTWRYpdx9q+GB8g5u17soHtRluB7Ov/DC/m+ePfFElpTJy0oh+uOtnou5sDp7GxXG3Q2ouTcyfeKU80aKc/Dvz3h9bXdAx3zmR3lnvzHsr78sOpC3WsBk0PttKK4x9nkaF/TZOz4p2Wvf1aujrKmh5TfTW5HPx8tnrNyFnQYZgb2u5lntNuLOgAZaGKIsz5rCYcCx16Th0YZMVwS8EgrAxEIJw65tlF6PjKLZRJuuncjj93V2hrWcRIQGfHpdh17JGB/QJcdGDuvZ5x6P8XW7WOVgnjcb3vddf4ejrXzeH1/NIlLI7YJsj5ZOqTtkfH9a1OKgH498+Ovy+PM3eh8+7661laHv8748+1OAg57eQAOegUHg9sz+ABrbR8pD3N91zAAAAAAAAAAAAKiAp44hG3r1AAPczAZ+vNAfk80AAZ7gfUo5QG1cDYv3kAAAHCF7D/f/////z1wgioYJlRTjlK8/bitUvIjK889cqrqvvxVfbHG1+f8dAwaRvg3Gfy93q8QBrQwXZggzvVBoVp4rPu5VOWxa4D7l40TQbg7miWurlOj/o2SsrP+z4e4anbt51lTXCwYN28LexTX8JTwiuncZOrMOVE2g5UiTNsGe1fZKuDHvi+/syldFgUXCuV9Pl7X9k+D6wO1P6TqoA4a8X9Trak9r4h2fb+hxThPzQA+cIfPaDrsXYMNjsJXAu/UF7scYqPWOzZL3SnVfJxNWnYus467K9V0tol5ustyUEwYc008kszd3XmdBatY6NVEdGqd3nnQPyuOUrz4Vql5EZXnnrlVdV9+Kr7Y42vz/joGXZaHG0PV4jRrxOUAAAAAAAAAAAAAAAAAAAAAAAAAAAAAAABwhKw73/////8xcYIp2CiDOrx8fP68/p+PU883v6+eJzXG+pzlzjpec8vOcz6/0wQeD6L7eRCOu3wmjVPA7rpPmss3c6wMyyWfUPfumcVAChiPLKwTWFLNSpKmoghEz3/nzAAY7WxnK4Ghjg1GjOqpMZk4LivOCiNSD8cdHfpiDoL1VxC9LLA4xV9rfnC/bqfeVJJRUqknNcQnqMexjWQRlQMQyMmIFYWMQP4CthoM5CGMlAEHMRBjOo7j+fPBljG2zbUFKmSw+5FRDLq7S+XnGnMR4t5/f+vy8YrMnxdDthyYk+fp8XHt9XW45fvo6Cg+4Licug8/ccOMJi0D8qr1+n687v1PPN7+vnic1xvqc5c46XnPLznM+v9MBRgk42dnnu/0YwFzAWK63sAAFgAAAAAAAAAAAAAAAAAAAAAAAAAAAAOAhTJq/e//////MwV2kiLs15ZjmnZjio+da38ben4+dSeKvX4yvjxvz8+o4+u6/HjV/n3479vrxn788Hnt544AM3R7JVdlo+pzzmYyKyaDE0Hx8aDHoIGfFFsfrlGgW4LEeAewMFYXVOTZLWS76pj42ZasauM1VdNwEG7GBM0Gz2DbpRwribsE8FWVUUUXsz4WfWOOk7YWV3ER86enL0gruIL9j1aARv5lVRoziVeh3cZ0po6qRT6rLuIs9cd0K1FB6n8MtupVjPiVRIh8f6URqR78UDKMvcoixBDuyHUU/5XSCuwAjJG9yJbu+N4a+YLUlntT/GvMZNZZ/a4OWgdFiTSkA06OiZTxtKiDFFbeK2iD5bAD8Wb1rF5bzehXty+yna/LfdXcrjc3llwXPi111IyGDbpuKEZwiADY6WBWus182FGTSCBsEuAx2VL7mVdx9rqH0mxu3Uyikqq8IAACLGvstNHM3EUzRHaRlkfII+QR8fOtb+NvT8fOpvKvX4yvjxvz8+o4+u6/HjV/n3479vrxn788Hnt544ALza9+GAAAAAAA+choAAAND0+VjchIAAAAAAAAAAARjcBMAAAAAAAOAIJVMzUWaxGJvbRNuKzE2WuozreJO/ata5rjzu/XGoDX7+OG869+OGWa2b151niuNPPV8Pw57QeAAKerco2m7qbBxFRB0uGvgny7vs5SxLGZLElc61kaqXx/p08Ki2LvvXbAmJr508JZsJ1G71UZZXMgqk71rxPWA97K4Y0iEgT2tzW5IYpnxA0C3Q7x+lZc/ielapbLYSzDNF3hU8ZiyT3MJTHwC+V6od8rx6LzjjbOFEp0vFUPDjiY38j5inbXigYC2XL/bK2yEbY/vSIFA6ECvbv1zvTT97pwtg9/BreePmQnkcoKFhzM619DkjKSz0RqYrZ+31ufqH00KsPB7edTNrQ6LsxwzE2Y4ZIRKrlaqdeHXHPXM6zOB3nt868ueC3nq+H4c9oPAAG/RnbfkYUCIA6XC9SdmHa+P7WpsizV1TifQ+TQP6rW6Ir0opo1+kde0L1ANgD69xPBQb9wYGjHmPBvRA6zbvfqnj4/H/GS1UeRacE0x0ssDj0XnDG24HkayzhqVDhniI7uvoGdU3lEBbHcgAKoRtj+9IgUDu4tZ0r1zvTT97pwtg8kBAXzITyOUFCxoGoRH+ji75aqdbeJAvqph/QQ3cF544USnOc42/kfMUYyxp7lKqCsbtCBXt3iAAVG/g1vPHJ4gGJXNSZ4z2eiMRyFMbL+H/n/j/krZLjZZqKWgqzEEwlKEVcbCnuyvbZ8ePbr99qgF7gA63g1sXYmDlz9QfpQMjl3fvIZc2aJ/5zqvphU4p0EVITsROGDvpD+vrlWdI2degiG2isgcUMvn5b8etDAU6tfpyw1amIANpoAF8f6QAPr8wGjuPpyhBRpmTAr1Q3/hCkZi++q4feSu6KzJ41KwgQxSTBLLE4y6VDdVOSMQ9y6Uf43YRSDEKmt/aucc9MSDDGV0rFyV9wdc/TLOPwmjOEGM+g2T20VMhGWMtSFHh6Vv1iW4H8Q50Bp2Y1L5mBMAT+Pvv+euu8jCyu5ZnUMHKPepOwR42UR69QR69WR69DK9tnh49uv32qAKgAA1sAZ0AAc4UVZrZazgYQAAAAAABK0CHmR9BDRhAAAAAAAE+D+YzAADgCF7Dvf/////zVmYiNY8EQolb67+q+3OvPOvb9Pr1c9u69upvX7XJKjc31F9XQMTQLP8Nc05uO3W5NDYqc+i4gbbCq3VpdiOMvWFTXqe1a53o6Fc16WrCKhFL4lTNP1tz15U3O7nXWGJPUlpAkJKBuiQEUapAIgAoCwyKk6yrWLSJnM5agyHN/L5cei3W9O0uKWvKFGfTOYJXr9fBewDTs1EU/nx5DFnbwbSInBQmIzxPNlDUa4QFNlFCqY0eNWSMEqoxNJUQ0ypFBkVW1JQ+XHi2mN71ZIDaQ+jr+f/08MK68YjgoULMxAGkYYHOWH1dMaDbfyz4Bmv30dk1PrSFF3/P8fTf/vdj5B84fM+b7hNCKzH8rcr6r7a58869v0+vVz27r26m9ftckqNzfUX1dBtjSjld2ZS5fPFlgwFO4FgAAAAAEAAAAAAAAAAAAAAAAAAAAAAAABwIRsVLRUSzEJCEKoXVnvOpfEv7f7/ni9aEZ9nOcVrJN3up8dQRIVzCd8nKjZnvxlK5uY39YCDEe/W0/k3xM8EDnel4wk5stNQHnBRYkLFD5TPZmCGCnDWzPcV6SiJV2XJTWsvVqpvWFgs2hNG8aKtQVSW5BLaCHOCd12+h2lLotsWG6/esDkaaDASCxEwYVyIHpllfBSpkTrOsdCwXLZxoaj73a/Rw6xvZk9n9uyqPt5+qnlw7frsYkO8arIYITdhn5+06y29QAPivayqmTaqTNlzQTO1+fZtJUNg9HgCNUCTc+rU9LFQrFtXg1ZCM8jETQiOVLOF8H0DaT79YZzxY4COk64z7sO713+AJJSuGDAfo/dw78TzkNx+2c2q5DWtRSiKBn9Dqz3nUviX9v9/zxetCM+znOK1km73U+OoCPhlTT98ohNAHsBcys8cSYAAEGMAAAAAAAAAAAAAAAAAAAAAAAAcIRsP5b/////IWVUsxCQlSv6yZvrVd+b/X/p/nuvM1SUfPOXrJArc4r7j9WTm5XuptzSShd6p48qsRNY5wxhXVZ9WiwrPhYBEBQlsjxTArNqUMyd6arHPOy+wbozqidZYO+gllrnkIWNODWK4Cq8GZlci3zaLJb3nv/D2MbgPeluEDb0dNiAA3DzfLVbYB2vUf+EAiI1r33op4uijyU6pTRcIaMsp5N6gXeHx2WjEz+O2so8q/F69CLwRxYZl1VZU6NU8H9tUVdaXldm76bV7i17Aps/tani63hRG2wo3TT7VSzJypMFF+iRlHFTm3k6kgUbZFyMmROU/sdCzJkThX5oVYcEaAoaNqiSk02oRhFRMZrsveKh2zWcl0mL2QpmNxSS5bjN7qFgYB9/AL6fYkJaPwP6yZv8fn2/P63/3//s/57rzNUlHzzl6yQK3OK+4Dm8vieTz64061CpKlI/I+rB5gJtOEoAAAAAAAAAAAAAAAAAAAAAAAAAAABwhKw1f/////8naUPQoGhaEwkbYXeVn116zBUr2njo699d+a3ruxXCOOJ/+g6nIYKfqz9pyh+Z4g/YS0/bMJJwF4/Vs91rbf/6DH4f3KVAj11dzGHz9v4Pk0lIwzjGSE4Ya0zudQiKY2ftx8vXnN/0aAVR2xBRO2PHf+3x/yAA6nd3Y1gtdML/K4/K+Ttg3PeiUkoEGpycPdjTGhgJykUgCyb7LeNBUZ/WqUZ+rv+Pr1vVUs1oa7iit8FiTd7sVly5rXty7PwDYP1UF3KuKSeH1a9YCufsnaHccatDtFBQUUILxtZq0hy7iAVxUFksH21gLirPb4SSGnfN0tCyIporBVW+mmocgtDw77d813gxx37r89+1FdSu5jJX6m+skZs7AHkp04k8CQWdwUKDAgS2DOoJO0H8kBc7rOvr1mCpXtPHR176781vXdiuEccT/9AOn78IAC23P9Yp1mrZgcsFXNC/va8mEAWAAAAAAAAAAAAAAAAAAAAAAAAAAAANSbOA1Ca9vOLDlb1bF4CFMNv4J/////8tZK7RNmuxNmOxNmOaMES33OOH1Xt3r2505nHPAe/xvNXu4Pfzlaus1Ujz1bgAhz00gDj1jirqSRsZ9u8IDB8bPLo20Y9TUgQUqqIek3rGvTK41hdFEJJ6tRxtakUztqbXvxYnTkcC0d+elgX7pyqgnReA8Y9Llv3NsvSb+auxI+RtpRhkkk72WYaqT4EQtwe39i3OzgaLvNqoen4GfgCU4ybnLBFPDAjsAgWphqhYcb76t/dY2GQ3skz4CoAD78AQMpTozahCC8QT1ifqA5k7k7xyz+5gXc1WcHuEQ+sdq3yO0x+kOjP7CSUlG8AVn5Db4Nq52k5omd32HrpBr1ULH7fZcr2c6YsRTpuXXVGOw6DrxFLco8OFQNXu6/W7wWMsLkSCkQgrISblgAjW2UZwwOhZJoJ1egKduiBBtS0EbtE2h7hD2yHtvuccPqvbvXt78a5nHPAe/xvNXu4Pfzlaus1Ujz1bgAhz00gDjfYAD6pBYcMAAADCLUdeiC5o1eYAAAAAAAAAADf4Z5+72iOo0AAAAAAAAAAADgCF7D3//////ytoZ6jQ0DQ5ie+tVXOdfP1mceOnMVfXaUa65m0R7ffnUFcTcrwIbI/cuheLLNk7hsUV1i7xcrHCzjzkA2WujTlBmsqsRAanUEbEAKQY/3Oz5f7FsxXb4ZeRHZWI7cHuYiIyugYnjBFtdk/Hr8IJlNCjKPhwL/GgH413BTgctI3wmMra0h2zSJ3SPl6p9sN2EzDoIrocIH46A0g7D+/d9EB99hl63oZJeW/rY+Gq3NvLrrQK52ISC3YRffAE9+CFz6gnUgSocBJ6Wh597+76BCtAzsLl+Pz/brF650frvX1ODb9UFyDfbW2Y+d6rind3SBJlwRKSDQlkQAGTR0b+K/vWkADospWzD8731Wq5zr5+szjx05ir67SjXXM2iPb786gAwGbFAhLVUifz9S+KB4YAAAAAAAAAAAAAAAAAAAAAAAAAAAAAAAHAhGxSdrY9iYqGYiEMrnNe854upXOry9+d5LySM4wKricfXP/lYuiDZ9NuUIHq/qe3nk1CaEXbqqhLiqoycsONHTRIKa6rVQm7pBjXGyS98lWDQAqhDgWLRkte66hOchUkznm6hvY0xziDV4A8ggIVjWJGMEDAvhic26RwYhC8MZIYvZoqUmNHBt+TeVd0diaxoQy8l4GXNdBeSnVWFc6+t8EQMMk0nLG2vmVVOWGN38yxJC4YyBro66/+39VVeqsa6STOga5ha+Nc5Z9Q1T6a/nOvty/a/Ul1YCquFlJNFDsuE3wqz7aK1zvWnRXdVqud2HL44aQecYzXxiX/1Q+HuuJrwrflNqmLVUk5QPyuc17zni6lc6vL353kvJIzjAquJx9c/+Vgv2ep5z2f7lu9JzGkZJAAAAAAAAAAAAAAAAAAAAAAAAAAAAAgjPXLhPFKG/Prx24AhGw8f/////8hbISlRE1nrg7vfDd89bsrLVFrbXHU1rnz7fQ1kSxobXiEmcLJKo2+7tclRc6Z1LHuDh9C9AfzLSrnHVYh+by6wORzXucFGkLoRttHU8pezl5EdNAzSJJUqqjkJGysAsqqFR0tqFR5abwTWpi/GSeq/9LK9weY4bxen/BrsLkOi7YI8fERsnoq+RfJINg+xfkP5+ikjMhyXDVhcgBXkAYd4n3egq4SlVvl/avjU6EGt1sK7ol0wSrHGmCktNBJJN+hi1VWZ/3fTfms/Hf5XUh1KaOvhrLRReezyEx0FU66IwVYhVzUf6rXL/NQfNdmqxjoWHHqssyVc0MvPJf/IlNBp0I+P2rSFnYo/C1l9+/x3e+G7563ZWWqLW2uOprXPn2+gAPfHRcQkwMrAJc4w3Mta03Kr8ff7d0KDCEtC9TEGwmQwkLLAAAAAAAAAAAAAAAAAAAAAAAAAAAEZ1p1/T1X4IRsPof/////G2uBsxIGJPd7d9P0nnE3cG9UhS1yb9tVxKv40LfoEsij8MTweA0nkMREJyFCKSee0B7q30R3dyf3E8JUIGQcCGqsR0XvRuixwzqbBLWeGK9fXaP3z6hSrzbJ8MPLEi2XNXgCqMkEtIwPn7GSpK6a4cDITF2OARSRVlglpELDRe5OuSYQeDvGOc85XJXbDwmMn2gQE+7ToUwM9XJp6BIOQfCgXuehbMxRR3AQ/fC8fqZX4SAj9jtuig3n3GQywoS0RSTB3ypz/sO3ueV6vU2vi9GsD7EmQbpFQSvfuhl60iUBTgKdBgGBpB4URcq0nCUPaokpNIk7MQdgAzGX/e9JN1IEuPgvGNtZ/Enu+PGde/tmJu4N6pClrk37ariVfxoLwUZ3Bekcc3fcaGqEMHjnDz5kS8pTbn9iCoS9YpG4aP/qLfarFEGVYVAAAAAAAAAAAAAAAAAAAAAAAAAACyM4YasjgIRsKhr////9G2qCNFGqvvn4549e3dV14+PDWVNUlJbLkUuaa/wJPtEgJ6pI2pJOoOo5JBaiMeB1b9p2oSgFJ4QtiiI4yFUwnA9UEHickuILfbiucSkD0dGKIpoeDtiGNh1I4JNLmvOfgtfVivQIu77lXMCc2J2QXlA2RoW8n1u80ympiTUw5iV6WrPlgZGhKgus03XQc2NAWYwEjwTI4EQ0kNkVreQqNGbDdW7FoRwWGIUMUpB6GoDtEuDmEfyzVNmKAUG9DBAdIGiJwCuwFb2fASwtIDlQ4APgJZQgHmDwiuAFsUhui2AlmBA8ID4EZw38AvkV4Ny0uP6QNkQ8iHMCDNrZAQjqaMU7u7u8t6QSpSGOtqBHx8+Z4+PnXtXfnPHx4aypqkpLZcilzTX6iU6eTimyXK48t0Eai25AKRuu0A9aoM+xhHTULS0gxSoA2PBTHEpgOj6bAnR4EyGqAKgAAAAAAAAAAAAAAAAAAAAAAAAAADX/brTDJwCEbDyC/////x1pgqDszCSJiSeKvn2yim3Wed3K2vNZplWgcX+PIn+PUhtuTpp6Kr6q/4dn5n3VSHqpABphJRbFmE79xun7dnx9uewPMWowXa45Sk0G5ZJxxoLkLAx67fViAzXn7eGeZ4hbKSjkQZ6BbWj90T+DZ+fI0gkUFW0cTjeMG6r58bP7Tzvdls5w/t27sdG5bhTeUt9Ld0dln0arZl0k4ECIwWLjgD1MKIoFTQOB6h61hpGrgvYX57rlRpZX/RXIZ6ioM8LFVzDIgjWvoxLIoGac8tmEWv9O30Wvj3+mBvrq3UNF0yKS8FqZZ2WHiQEJMsBqgMruIi+ZS2RZZxAAIzk9VFgoTOKSu/zGoBW1yeVHW0fgSe/x28cK14626zzu5W15rNMq0Di/x5BYGQKXVSaYgglRoytbx7CVpRG21qbzbLuPy51iV5woD81EGAxtjhkADdIBAAAAAAAAAAAAAAAAAAAAAAAAAAEaeIfaPIRsOgf/////H2uDWdgo8yNfP1Xr2nPj7+tcrcZfOrnOs1Wpl1jib04fqJTLRED1onQW3VYjEhkskTb1Y0EnMhHM0vmbTz1Rm5Kr9aPUZ/EocOxqgclGXpkIlFwxBTUC9GTqzvU6+GOvKfonelNNbDTulIq3h7zeMod8dDjKj9QIckYTVV9u9ml7f19kAXvdD60d1ybL0jFvgP5qr1iZfncvhuiq/lZKFYge8JKJ1qLDfPD2r939zKDPc5qGya9VXeVw71UAUVM1VEtJqYgvqUWBk0cORkICRnRuWxbKV//hTCL18Ei/le6O5pUIWFWA6AFBludTFTX30Dp+dxa3zOCTAALofrRow6FJSdZ4RQSKFWggxrLFTF1VVXnXP9K25SnLnAGZyp1jvo+2j8DW9d7dXmvWuVuMvnVznWarUy6xxN6cP1AAwd9WurBoP0Uu05SikTBLFGZ50DD/znttEOdynP4erVlZLAqcMIG3ARzgqAAAAAAAAAAAAAAAAAAAAAAAAAACVuaaXIRsPwr/////H3hho8RGjw6zeefn25j274q63XC665khHCVr7iS5dVq0iB9ZSZ+lEY88hJXaVmsCOiojk4QomQj4P8V4JGN6uEvGPKON3xN0VZgBvvmZ06WUhPsCipFPR8VU8zarQBePrvJqWR282Ywh6O2+P81biz38r2LwZBMebuH91/V6RzlmCVQ6u+7/XPexi4dOUYKqJtPpi/qaohEZPsY3AnAHEzXOY9oOfhkq6zOk5iLTVF5IKdHtP2HOQM9J5+iKB2IDE+fRsm35sbxzOt/bVXqn1ZooOvH29zZDb7tJgOWw/Ojlve10hbLUedjTimC55HFle8TBlsri5rLCW9uvtgrPTyF5wGBKlrp+i9lGV2a+I5qLGMJf3/qAZ4lEfbR+A0esvWecvnmPbvirrdcLrrmSEcJWvuAMZfsViSUWyY0mlknw6IjDIjGrOceQG+LkRZGnSfjqO4EAGfs+WKijpjcEfb+gAAAAAAAAAAAAAAAAAAAAAAAAAAAzwzJxhXiEbDUb/////y9to9iYSRMbf49fE/Tyzn648bSS5lZqV7eNXLXl7vpxn3DcpEwqxjykx4PVtIwU941HA9KWsfo4CfgSwfKGKKdG8MUkCXBQ9owuzzGswAo2vLfFCdYPo1O+z3oMtRa3zBtGNCHjE+yKOB0rz/Uc9OrDbJxeYYQ3uXIfuhucfLs31j5dtCGYaExVNjxFVrCwIMI4kwe0AtrMEDISCTgJGhwch6jYZdjC5jUswrAACgbj5YF3aKZgAKIEgCTO7OAV0hE1oBDQqKJNc2t9drjWeypfUwDp7GiPeXAGQEcQN1CEC3d7hxhRbB7aVdQgcARBXEen0CJM45KFVHn76jg6VRPtAIW4NtLPaXto/A449fH56q81fHjaSXMrNSvbxq5a8vd9OM+4ADZRBiv/XlPN2yawiLzW2O6ULlKhJqpUQPIFROKAjvzcWYAAAAAAAAAAAAAAAAAAAAAAAAAAAAAOGTj3rCXAhGwwE/////8vaYRY6EwkIxEUYl8/rvx0n2vquY18euOW7trW0S5trV1fX3EKaRDrFJEpDIIPgkL7qEi1JFkAittBhh1yCMsDwvrw+tl8PVtSiFyjghSoDhLXL+3o8eZIBNYawETMj++TCLI8hON9jOXN+8M04Zj0PjeSDaJeOOFWQHx4ilGz0OMyETRpIoIqgD5R04OPTmG7JyP9oMMGzn2FoaqTO/v8KdmagkRBoSLYsQmTPQIoEGym0UAO8roggSAnWO+0gOIEnU94ZxDyj5QWTADuu69/HF6P/3bcg+cGdS9baz0CNdyNWfJ5LQ+5Y98jNbUe2hZSC9XvYHW3CyGNYBlYhjKpABiMj/95yAMG3S0WWUvaz+I+O934fj3/HiuY18euOW7trW0S5trV1fX3AAVmWfiZAbQxuPvAt9x8pjDDFU8zcprb42oV8A+C/OADr5SFEgAAAAAAAAAAAAAAAAAAAAAAAAAB2ZqRUryEbDx3/////zlvo6GYSGUKFETr48e93rmuts/f7b8+PON8SpVsnxdc6uN6r/yCI1PrMlQYQjwOZqnBApDLUpy3PbIguPg0TYEesY7GqzhIpFClsxztxVyaixWmYuTEWoHHMs6taex9ApCQQIhynqkrj3t1TQfUrI2LKmtTgL4ILMiy6sZBRTayOV08RPpifl1kkICcwHh4ta3s1f2Ldv4+OmeVvGSbou7qnvf9ursHLq4rEWOxncMCJBAHYRxgprdP95/w64zzyASOibD9Zp7Q4bywVrRwPD8TgAsL2kOnR0K6PDLt6/izsH4AJ71evV2Srv2PjXgMWp7ajQCHh3wC6PXTWIIlgEMABgBR/aAFPtzzX+laTlrH4nXx4nzxrnn42z9/tvz4843xKlWyfF1zq43qv/IABk4zHlgkAV1kyxM7F5sTN82UhQRJAEbRc0h/eANYAAAAAAAAAAAAAAAAAAAAAAAAAAATjo4ZqT+fAIRsP6//////MXKBIdgwFBqJFPH375rn6pnxuvV6ypz8X2vbXPV8dZzOjx7P+4GHNxuQ8BasfN8vGPdlvJqYfo7owURPuKrRnhz2hXl0Z9Z7Xs4OpFppm/n5KCNvxA+IyjiiBIHCzRXgUKJAIohAuDmQuNxfCIMvrG+O6orv0sCrDFnzBXecxvGN/cGfv6tdsPbsLmgEogJqK2bbjUpYMio34KExh9C42A4Yx8J6agYNviz5pcVzjvbZZ2VESp78ud4BO/s31RFa1ArY9qrKlKoNsas8jzeyCuzVxuk2urAb+76B1PDz26H3Lp+ivsNAURHAHvb8p2AOCObpmFPHRPgUm7UuP8coLJI6bf393d7EGGFCJbzEqP43j7981nt46z43Xq9ZU5+L7Xtrnq+Os5nR49n/cDd7H8F439E1rXGf2/g6MayUa18+UAAAAAAAAAAAAAAAAAAAAAAAAIgAAAAOut1da8CEbC3//////y10dEBZpifP69+qt7V31e3Hd933eqXkleanm91NbjX/cAvNnJFWNzue25kCuaG0OcYOyUYo+1JlUdA2brVn/yDo7rny6CGqaWTy40pS0oREV0uB+z5CIxImtVwRvQjrxVDbK6hOgbNXgot71MlEGrh2NsmO0b5L5Yrq7T2HJxwfa4ML7ijf5MDp8mtM9jwsprVTLViLjfiYb7ZcTq94Ie4y6kCPUJZAnpiHO7bSCV+CAATIAVzTM25IBsAYTEAIGqHgtrkVDgT4jda3FSQBJE1QqqYgAAAiSE7gABCIiStg6mdwPSD3hDHhbBUtYdRIzE7nRkjvERM9gjEUUCuUyzFUbzrIGKKMgidpARsFtaUKVYQjErrNHHiJGcI+KAiGibf1u2DR0nPbrDWjAMiY5/Hx+v9dVb2rvq9uO77vu9UvJK81PN7qa3Gv+4V87/POXyYwLSOpOC4BKJ/EAAAAAAAAAAAAAAAAAAAAAAAAAAAAACPCyruAhGw/v/////8bdGRQUe/+PqcfavrLxrn69c8bJlpjjfmTXXvu+Dqf+QekwG+wzOGjPZcckhGOGCmZCTqgYW+iZAIUaHwIiUTfeWm3UEAh1oosNOzOCLxt4kSHe6bVw1cSEGQBRBdq3g4BzuGnwNQtLWfZyLbCAoa8c1IaBNFoACWeAK9RRcVU/v1ShL5tzCbYZQVYw4d0y6cFgBdUQnFId2GABlIecmhRUVapZ+rNp+QIXufi32DjS0N0vXA63ZOB/SAaUA/XNfhIRR3mh41J6vTItKuacaDBi3cKW9uIKg4o7hAGBh1oBhysNrjGgDE2AZ3eN09uy5gsf88/KchdzBsWWtd716pgLBgst7hTc9M99liNNpPjn4xh3d1VDN+02vKNlo+IL/4+px9r85eNc/XrnjZMtMcb8ya6993wdT/yDE5ut4L4/yunVVfLsM3NKAbAmAAAAAAAAAAAAAAAAAAAAAAAAAAJgAE3S9CY3V8AhGw3v/////8ZcWeglEhjE9+Z9vjnz7/G9c6z18dyb6587qXVa617c+u51Jxf/k0wzwAAYb4/RGpi0+7bPkcjWOJRTa1XtsOf6EgHCo5yCLBCdcHKWJBeTjCQKrCw/Uew3/AfztpM5QclLfXm2cKCRp7wg4+HkNXkVDGvX/vj2ffKScgIbod1rud73uhoXNpnIzgYF3BHtwCM5aFkjmt1le+Q6Brc0VyNBcGBjBjmxkrv37vxTs7d2tosxmGplcjdxRHI4RIYIaIcCAYl1EtLGEyuBOICpp5BgKKTac1JSOu07qapMb7Y+HXcfwJZ3OXtbR2e3xtr348e87Bn7qa6Vwuim6EVcj/eRANnaaY0bsASY9mV+eDpXejOiDCgPx6iArHfGPGvhBPTR7W3T4yVD8b+3U+3x8/j3+N651nr47k31z53Uuq11r259dzqTi//JphngAAw3x+iGXoc/2/5lSZh8Dq04ikIpgAAAAAAAAAAAAAAAAAAAAAAAAAAAAB9o9UZS4CEbD23/////yNvZUBYKHYKHMTrv1z9ft7fr/r+Pdqm5eWitburce1577vUddew9PJoaTt6cnwQJG7CJSdD3L6lE2rjkDQEBWeLqITwmiJwhDh7tUNKsyPod27hhTYBCcoIWOFSBU9D34At170A6Z5QMACAInRxr8l9T4aqbUIlg5Aqxkuq18eiTIRudyz10gJUnUDJ6aRKXNfgZqVN6ba0BzcBhTxknCkVzAG+whZ07eCui6qSs+F47goB8xpVYp258v5cqaHjSsHEtA/1DTHFKnHobt4YbQH7qUDBblipgU1o3Ky90D0GDw/4Yars6k9qCUdrDP7K759d+NfzteaswfwSPM3z4WJBXz5w33L23stkiv3Q0tlb4uADcdh0AyQSNqH43Xf9ePr51+v2v3apuXlorW7q3Htee+71HXXsACczqDd2s6Rwo4aEJLFdh7XrGyQSgVAAAAAAAAAAAAAAAAAAAAAAAAAAAAAABwCEbD3f/////ytuSTDQrCES9vEmfHftl+LzJrmVRdalY/W69b11Elj0wjFMSjp7W1bP9z6rLBoGZI3scTGhyxP0ez4byLB/sJB1DGORDRs/ux4/UjTYPSP5FIc6fTbEOpMrOOURu6vxViz+avm/YHguC4uiCtNcsIvDgSzob7o/7b/2Y/zXwygKOZgtRvYexNBWVH6tyrym1Z3bFnQpLdtIKp9gYsNQgXGsUVbKy179e5W69jmwMRgsUjEKBsxkKCaAjwQGKtezrqAChSTAVrr19a/74vSRMkvsrPYGOX/7XFcV0LoTLHeb/aFL7roWUqx6AbVfUU9y1wdkyuisiI0iwFon6P08WtZk1vUeklbIxT+Re+6k39d+2X4vMmuZVF1qVj9br1vXUSWABn4Wa1/6b4IyAfaE6+a33PAQfnAAAAAAAAAAAAAAAAAAAAAAAAAAAAAAAcCEbD/fv////xtuaSDYaGc11WUlay81SrruquJXDm+ChE6gJsNWfRaLNk5P5GZaZLgySMqpk93jHdJBuL+SvHIKGX6sljofTD49P32St1CNE0LYdW5NKRY+WRqAzmhNsqmAknzrJYvuAWvs5EZLsqkenrQSJr8XnAG65RARhQC/ru3XD+f/9JHZkq2EJNfiVcui+Y6f8ifcjVvBn16OBT6znlWAxhVP/PCvvIsZqr0BFA17XdGQANhSnGbzUpTY43VYwr0pNbhSttkPCzgQCTs0jRqK9VSqYcKN8cLAHQ5u7SrsnvurgQASt+airju7e1UJ5G7pcaxM2ZhC7VTQLIgGZha/BwrO7D5uarcHhnYZ/O1Yp/Zc6bdHsqR1a+q3ulStR3d0jeCR3jbU5R65rqspK1l5qlXXdVcSuHN8FCJ1AAM/5z3/e8aykfDeHjMXAzebIVZIswi4etF6UJ1PewDgYJBUAAAAAAAAAAAAAAAAAAAAAAAAAAAADgCEbD/tf////xlrorHgTEcLBUKGMaDAAAXgANXkmbueb+ATg8XJcNzGBRyBpduIITuhktzWJ5mITK67FyhCJqrkagcIrYVlz/PI4GFE2mc/ee8SIA7kbXW+D3lahXZRslvEKFiQwAge5Zpv1hiVVQYzNXYzVujNNMlYD18SUJ+2QTg/vrlvBi4THmpD3LMDk4TPmS+LQBgFPf2qdLMjHTjNL/2aRlrrSro7OVMWo27B3M2LHvKrOMYxus8cqzpmWFhUr8juIOPu+dzxiopcgKsS2LKBQzXS709D/1h6Xvbmmhl+eEK1lTao2Xmzopl67XBUs6ILuVq3x0LlXE+53vVamn4XjX5XkspPlcqSz3jxKYUsyHKEknd4cEJrN3jLcPgAAF4ADV5Jm7nm/gADdrsuhK5KRaMg43rEtkffgfSy7OisvER0COChsQxlHTQrpJmektk2wCAvB8XwerUHtRjM0AAAUmAAAAAAAAAAAAAAAAAAAAAAAAOAhGw8tr////8ZbHOhWIokcAAAAErXsvF4zhxoZX4wQxmCoBBJRySFk8NkCcasQAwik0uHk5H3CgZL8cM8EHAsxOwHeu7L1vZbpU1lNzJy7jKb0NXfH2qhlnCb6PDqSNqI0RanTK/wvf8avpMMsABa+jebodTnJt0lNRKBOKA4g/pBDMFQjJbtoTSNSzNTNwaN321UxkuJr/ZACW7VJdKKosrtFY8fKAnINis7Nm+II98krVggJA+Nque/aP9PWCHGjBlh0BiKvliSOhN7yhVSJcih840NYpvEk5R/4KMMJz4a3XuPeADXF54b+L2RN4tvkmnLY3RD2GLa9lD+y8cZbVEPQAAAAla9l4vGcONAAe67FKgHaTyuFJYOjUY5crNt41TDcDHl3RkI0c7y1bQAajBS2iNTi+Cvy79TMS8tgAAAAAAAAAAAAAAAAAAAAAAAAAAAKByEbD7//////x9tQ7BS7xft+n61/Xj8fb8e/f3358cXXj2+bq9c1U4Z8a3VcW4Ep2yGYJsHdHUdmnJ9ByFEYXFZAwQpKfTIYJf3goaMsKlWUQENOsKbCSBOIV4X4TCFz3GcX/vqzo8ePyb1X99wc6aHDxIRBb6ftCHJUpD4AhcRQm/SEM0hjMe2/f9PbGfsj0fj3u7p8ubX+iKcQAMWEMnYqR2liMwYYbH2n3gH5H1ZRrYWAKEPB8QUIAP5/Z2IGA8PD3dw+YAAK4AYkD1u64yyrw/T929RT+T2ZmMPKWkAe4AQp3td1th4GSop0MwEl0dUCat0IYybYgDyrt3akzdS5dePtR/G8X7ePNf14/H2/Hv399+fHF149vm6vXNVOGfGt1XFuAAGznNkkEGiJvJ0baiVb8zM7SdLZmNYd+H8lvgAsgumAAAAAAAAAAAAAAAAAAAAAAAAAAABwIRsPNv/////J3BiqOEMNCEV3x7V9vPy4+/2r777vzXeZ+Pt1VarJeR5USuLCGZZ7xAKLBJ7SXfTk7S5NLLq0l9Y9j9ebxQiKOVVKW0hAUC0YWZAXISSWvxI8UPxeIOA1BEBZ7qJW0cOqhz+JtCZkgxt/uEUD9IKTr48o+hJroIp97LkHJxyTKMuxUsTDF703wHoTFCM5cJR1uHdzjrOm3XHWpOr0SjKTy+etY06dutzhjbC5IY7N5aoV3cB5SMN2ogQW6Ykhkv0a92zp2EyepUUZ6unCXqmKFxX5zBeocv2n9eYeSia2eVAxwm3zy/6t/A2hoYA6irYB1WbLXyyN3qhx1wnAPhhvm3gvPoXdDFZuSEKa520mTej5LWPEUPpjQP1Zd09hmgHsPLzwuEmIrKfzO+Pb+NeflwV99935rvM/H26qtVkvI8qJXFhK9MiEvA8smimkySWXVQ3i9p3fC7hZye3ATuAAAAAAAAAAAAAAAAAAAAAAAAAAAADgIRsO+9/////IWdkWaUMSBIJhoIxPt99c+vb5rj6/bq8quvP28+vO73qkqq4rzrm6kvgShAIz0PAxMICKM8S8CQCWgPRZbUCkylLK4ZOuAeAPU9lCAAJ4Fa7hoBxEPRlPS0eAXDnWsrluAEAP4p2/HSz43oIgHhIHQSDClQo3h4rtlAd0TDoOszzrR0fSO7Tky7HGYb1GWv0H1rhTu3fcOTt0Muo7h4PjXnhz9KaRr5Sb+XqTWefb8jJOPR6mRCtsZArwsmAAwzYADt6UgLfbhSROth11Tz+zSuZuT19h4DSl94GRYT0VaO11VNWwy7/dcV1SJEEONTSRjlMMAcIgtUBgBNAy7u04rfLQj4gS+CTQNzqIxAbkeVq7UtM7HU6nlaWxeB3GEEookBAzopLU4CGgWOlFcvQP7f0F/PvgS/B/ZAl+lbrlJARWN0j59vrjn17fOn1+3X181XXn7efXnd71SVVcV51zdSXwFcfuIjz1QhohNyoF/oOPG+tJGoykUOr4ONADD+kwAAAAAAAAAAAAAAAAAAAAAAAAAAADgCEbD/g/////ylpVVBYtCY8BULCQhiePw7V69uu3nvz8+e93mtc+2VlSrVOOuVnX/IrgvDTi6swkbuTJcqfMxbb3y7NFdmiCl1cZJU4+4Y7exsx8BWJLeuQ+rPZnUeXuLtBLk/B/V0NvRrQwu38HgruLlEJ1oERGztALp28EQjEGJAgxYP+JUbu4Lfq2hBr5DOKZ/n4+ZOUTxBiyECuAAa7uAgstcgAq1gAGN0ogY3OomKSKphTJmN8BFj89Wjy2SH/dNwVfPx/VaXwnOX9eWSjD4c0sz8ClqptooWlT1VRYiN2jKkyHOU++tcfZ0lTqgAGogANbfNLNZmYIbz12aHaCFdbfO6fBAgxTmPaTfilZOUxEIbv+VTjPc57QGUzDx0NOfig2Gg2tDTSgisZ/OQXj8O1evOnzxx5+fPe7zWufbKypVqnHXKzr/kK3r5R7lIrEZ7z2XJ7vsHtMT1lAAAAAAAAAAAAAAAAAAAAAAAAAAAAABvO+PfQ7TyErD/3/////ylmZtDYlBYkEUwjda9+/v9o639czWW97yJ59W3dSUeQuf9xJgdn+n9vk1yiFDgRKcLe6bM9nxCIA8stES30AYXzeQpx1uiTKzAttmhRPA5qK5iwkQGd5HMDPPYch1XDdJG5lo21fhA6Y2mdu2mCh7VhYkk1p5ierwpYYrrrFAdHDXl9uX2KaRJkY2M1vrKfSY29TrLqKztOV7DAHdYAiwWHKuQ3CR5Id38ksQMYMAnu7TMh36mR7JYn097RIPvM1TIBWLFmRbVt0/rbxLILBFK3vJFqiaeCM93h9aeTfzalDV+KSkI5KzKA/UwH3/LnKQgEVi1wK7L9/bb1+N/XsrKM9XtPr7L3qN0L17Tp4IbM3mOvwiNdrvmQcY7X6bEvE83PwgN2DNheuSUsjGP4iC6179/f7Qv65mst73kTz6tu6ko8hc/7gAEEfFpKiSpKRRQmgZQ1Ah7jfLT0QEgAAAAAAAAAAAAAAAAAAAAAAAAAABqMj/n2UNcAhTNj//P+uBPBJWWcKixhIRN+3t18bXmpWo1uPH+nxvf17+3c89f/xfHx8fb6e/W+/bX/bz/PO/Pz36zrpHPyuD/z24AEufgXAcT85Xt5FqzfUT2J6WERcQA2+Qe6Mr7BNtVDectvHUacdzgybSxHzrF9EFru01lJVK87tysgOTPFG01yM3+nx9LYzbrKnSasUx5zvl4+noQD3sY4XHHlqm5frRaLM1/n8D++Evcn5FDA9QzFem0K/mL7LN3VvcXgijhmpnd8djJ+PGH3r3/qFN33ZiNb8uY4nG9qzBzGRMCoxy4C8q1J+323pCbPROeH0gdZEKKFU6YNxhQAM56QyGX7Vga5lDPxp6lgdpi3UQCL0TKgZUHnt3+V6G7G5fvB/XSPgHf/6f6vUYCYASoC7GY8B3gIr9m24GsyWafDsp4/DUQSAwVTkMZMoIJwzOgnbf5pkwfIvlyfrTjfA1aD1ZdZbPLU4pPF2LMwb+hGAR58NJDBke2JjmhhI6sALMp9D5kjGN4HjiXSP1NPehuxyYSfw/8beNpbFf1O8qETxNlgYeVuG1qb2jKwCTR09SYoQLgUuNkmQ924c69uuC9rzUrUa3Hj8fit/Xv7dzz1/9fb2+vt9Pfrfftr/t+Om/Pzz7510jn5XB/57eACXPwLgOI7lGfAaj4kAAAAAAAAAAA33rGiPavuGQqLGqQalqwBNz43dqjw6tBdlXnDGBxlT7kBN1bbKFlwRYA3e9BRfzrX2a9yAXjq4KAA7txup4nTaYAGhjt2YAGd3mg1On4OzbJU5ri4pMjP5TyfN0RboA4zjMZzUl+zpj7/SR4TvrHAhTNL////+Cf/IUUQ8mbNa7e22b9V5le324V97+3Hxd9N5zrr+j7/bzp813z5z839fnrV8d9+bQOf3/ngy/UYaEq7j1lcF9PN01tEHfvLrzi8QYbhvphECWC4a/8d9VkHTbrjE6geQxwW6RRs0FWZWpvTzt282ilw3qcY+cB0O3aH/Y30LTxtee359m8o9hAPT1k9r4TKTN20t4T3XlqSX1xYr7a7OQNuRIybvdEwYrqXtbF3xJCSaFbhzJGHsW5eGQo/X8VSQMmEHKF9a2Woe7BlXrKQ2ltvpQXkBC7pdxzmhUOI8M8UvvYeiMIzJ+A95c7+WEaDpzYn4K1SKCzVIcqRbODaUsclPrMUxjo9QQ5taZPFqYjmkr2/UoFtk7In/bY/+WCQKPHZIPb3yVJ/Yurh1VZe3U5O4fheUGP8F5chcr07m+tfkY5iGyvuvWJ1rTspyjwUnNkO1UmSLSyjcqsakbBg0gxHyIjG2im0TantXmV7fbhX3v7cfF303nOuv6Pv9vOnzXe+s/r+uvz1q+O+/NjbTNrlwR5IQAAAAAAAAAAHC+7q/8Zpu3kYowKHGjqWW+/cQD0C2FgQuAKgABy3lDoJDoIzAHQlMeJcBPRntOB8K+GAOdpcvRDx3K8zqhxvi3nv+9DwPds/Ef2L48B430nzPqnvW0Dpek+3cJxQPtOHO07ymADghTDb/S//////IwS2kTqE33CssqMWixU2akSixQufPfxrt68/Ptr42AACqkZJkilWG6otkv/ApDVH4Znx//m3ChxJHx2rPhbQMz4PcCbDlkKEKcR05TcZzC82buz30B2cGxInTpdRPuRFIGc74GsDbt/y7JIFF/LUTWzEUBl3ZrTGQqL4A6RxbPcCMApRkjzwlRHIzRLGJBeGhhR2uKgGAxybJJwwpLFZU55YzoETWJT2ms0vaSXkIi+ywHAZQ1smD676tluNNAOFeMqOX6LyVSeSb1QdFdMBXs6sZW/N+F+l8vyeTnClOrcg3WnqQbtcNmPpNV5Z938yC04SuvVegNhDjoPPFB1Fe4EAVUKJIrLRDAE4SrLMIMTFEhIjJUqpplKb3/ALGjDcyA7c2Uxo3M8rZDqC1aI7g260IrqnklZist1tQQlM83DQrpKtEKZykWI7SJ1CbI+QT8ZD2589/Gu3rz8+2vv2AACqkZJkilWBdQAAs4XL/qiAAAMjR+LcarB3J/aAAAAAAAAAAAHIge/+fSHaFDQgAAAAAAAAAAHAhTNq//////I2VZIdcrQWNquLTF9rrPO5Wa+928cWMtuX6voZZHPaRwRz1c8cnPdhyA1/zv2jcmr97wh0K2bu+n31q5HN8azX3xEoUgUj8gCn9O99p4lEAB/2T4TmfgZ1gSya3xf6MgyiMIem2n6RzZRIGw2FKj++k2sPNHNoTVGlWhjXfF+lsNGKBhvcqgpyvW5VeOq6v0HXnK329vbA4c4dkMuSxud2qyU0O7KuNZ03HrHlsj9Hlzzuit+gqnG5zdOJGy9BsMjsF4sFjr+YEDaMywtv2dZuixH/gi28Qb4mrdZxlguKOqJPda14gWU7gYBXQCE0lbioCH1DjuBPraPzablOyVXvrC51K/OqOqcdvSlt5pi7/L9ct7HE1UvNKWfwhUEVKr8upMq7hFahTJI8xjuP4lXvXf4CIN13K8RjWv6uLGOJfhtTQF8mFzxbdOYhJdl9jRDl6I+Mh7ZD25us87lZr73bxxYy25fq+hlkc9pHBHPVzxyc92HIBva5FI904AAAAAAAAAAAfqvms6mTSNzIgAAAAAAAAABz2+xeMGAAAAAAAByFMmt/3///9/8tZHvTcrgzbrhihs10pQv46y7rjB5f49/ONVA3z1u9Aer17/UAQ57eAAOer8bBz07E8OnNu4kEWe2aEJ0uSGpNqp5ReqJcBA0iz5NWJoNBvcIyuVhfZWdHOthdMoauyhpKXNMO9A61f4k1L0DrRlacAj9K/GlTAotuQQ0U7kuihnEnXxG2Y0Uwm8qdC3pDRipubdYoqNxNsFChw4ai11YYt+vpJlkpFkEvnQO0Y2t5WYMEAPOJfQbZlEJkyBYg2bl0lJamLNt+maSmUrGGR29fq8OpDAFe7HsdWxmQ2zZO4AntMUZP2/b1ygAq/UetEt6lujwCfR3jIkyD5aZ0GHE9MfP6dMGqO2Gs6HOICJCDeYZjPbh8UO+4Hv2e8vjTAznzzM6lCGXYSMFd2P0FdftJ7HiVIJmNS2RmQU8X/07yP6f8+7sEPBHHGT4qlj80wR8P2EPb9NZd1xg8v8e/nGqgb563egPVeff6gCHPbwABz1fjYOenYnh7S0QAAAAAEvWgAAA+30vloIgAAAAAAAAAABWIWaTa3wAAAAAADgCFMzP//4X//4EvZZpjV7ZZ02a7Y3tzmtZ1uTL6z2rOtP+77v9/68V1xruRp/X+fz8cPm9ZXlAc9oAA6R+AdoZhzVhcwUlKIbh1lDnqMjrTVLOuiZky0rJ/piO01OSS0nwfMSZHGFQUXs8ynlK0rZPJRacWHtjL0rjV4jVEzI7Fy7BfpuhmLuKErpF5JLu09ldfWpqN73hST6TUzB7B6W3UI56r03cDuPnczyCjoI3yagnH79zbsc9WnO6L383oKqBovGl7L6OE30/gpP+aR0vTNcYoaON5JTmvi6hg4uZ/l0aDyps1aezxlW6fR44SDE/g0kODskgJxueTpK/ulwB6Xy74DOtqdinj3Lu1hQKS3unystaS3gt12U4UU9z11TB1fPq5bFqDpe1B6SiT3cU9Attg8OmZS4+jtgnSSHt9uc1rOtyZfWe1Z1p/3fd/v/XiuuNdyNP6/z+fjh83rK8oDntAAHf/nwAAAAAAAAAAAHl3gG7RnMRAAAAAAAAAAAXX4e8AOIXsPv//////NWaCoSBohhI0RpmufblBruvO5c8e3n5ubvKa48V7d39d631/yGaV0yCQKbNX3r1q8pdGRGD4ng/LivYtHaVTRVIsodQgoLCCgvk/10XtbLuu+SSY0VlelR8KYK4kmCmiu5Dc+FH7Frl3iiCqg00za7ww9bzzr8McZicHAAAHd8PJ2ynj+/mm00t3e1mGzEV63wJgsrhKgoKK42gppTududNRUR+5fqtx4nzlwZv0uXFF1Vu/xvO7Ydv2/FXZhZsCqQV+tBUUR13d1zpvguDvYtzULwuloguIIFBVnkwmWAiBx1UnCV00Y7Ef0Jmt+eUGu687lzx7efm5u8prjxXt3f13rfX/Ie2M2WopVN7yvF+z9pNFpgAAAAAAAAAAAAAAAAAAAAAAAAAAAACirUargISsO4F/////GXGiIVRIVhIYxgAADTbz3Ret44jqpPvBre5/td3PJcb0F21+w8Dg50xpGBTqUL54FujmDItBnyRdA9ucwQPxfraIsadjHmhpasUUCIdcaco22Zo8bC+0u0UGpdCbDTbZ36OGZ3F3ECyKCOCFUnAorGpmkgIWoUVIuCbz/eJv2JrBL3wRx6gAZ7JWzda4//fuGmWWc6YKr60FdvoW9/ap7iEsjYqhx8+13s0dFWNOy/FaH6ZLIjTBTFdbjr0EHdqNkEofmk0CJC+hNkdq5SG262W75or16nRBqqfIozzkyRS1U+mSEC3W8VJsLB+dZg5Okzbp0euD41ihNQW6jphCcZa2GPgAABpt57ovW8cR1Un3gTscTUyXGs9MtaD9WCQdvYz2CEbugl7SJ10zVMiTZmLtV57aYCkTFt4QCKAAAAAAAAAAAAAAAAAAAAAAAAAAMWeGLMwKEZxi4IUzYn/3/g/nfxVpsUvqnft+r9s1Ly5OP65/t5u6nGY/+O/8+2ea3k1r/p7/j9db73uuuFz3Xk8gPZeIW3HMQ17ONB/XHaIHkjt83b4YafU0ORHQqmguzWFusCFUItnw0WbHojchVRqaukWoD9fRHVPOYC45v5/hCds+havgYMH+j5x6a/1O7MkWMDUliC5dyeDinOpReguv2gRitEPekg0KT57bmy/QqFJsRzfyQ7d2peV9k2YGiQ8ljeo7V5+/p0OG0kd44lyx1W+cNocHMfWms6hX/U/e9D+Rbt0nQCMtd4VkCUSTZ/ky+SSH5vLHPfN0Vxl5/kfnsU+fz18pJ5Nx/sy2L/aO4ZKSqzugpOocs8/9dydktb3170iqBBu9O4AlulKWMHCxe353W8QamN5rosBEIo2amS0RcXyt+pcebj2mVGWIX2W/ePdWZG9T3tpi7AVIfvwiInoX2DHhbpC66gBgDO8c7i/f8ycdJayCCWkQnwN+TCdQUnSnzGeyZh3QYgUG7PwFujJuRUSCBi1IOOsgE04gRV1gR5eq8iEmoSQDT8W0DUILATkyInwMmGt0O6agFFvo7rZ/H97Y5PqMnMwQtmQiAmZaswlQBIHFcN2B7Ul43WFYCyESWIvBPqXcn5sU1tFWmI9W6bNHeYlbw57XmpeXJx/X4+PN3U4zH/9n9/i/ZW8mtf/X9a/XXPO911wue68ngB8Dt3GvnYJ/JaPC3PnqyrBajGeCa4bJjtEAAAAAAAH+mv+JxnPhIHiFH1yDRX6HXXzFX+Y9Zfm0hZFK70qu8m2Q7br2SFMWB220OCtGKkejMvISVJR9tdfwIti5yHbIleKjcshJ139+Gv8+GDRbDDca94J5R/LYd/vgWeje9biE8jQ2UH6Caer59a4mZlIjZswExkiEgn1zLN3D+Uceh4fHkSzjetl7y00G56205vaiC+YERA7kejkwvSJ9VAT0nHpSYCc7gADghewhwf////82nGJAWEhDIQX2+PXHnHrufv1Ouefb17b1z4nisi6uq3xUuda+BZinkNy44X8rV6qxmBDNX1nboBc9zZ9C9VZCj3b+PFE4cYqM8+WPTwQIAAxByg1jQYwPvj34fHp9efJubCKee4Pa3eTB2WSXXvCgJkCK6CNzWoTNy52ZWSpN0n1eH2SyDJYTXvlgpq9aUSoEl62dCljImbWfjiytGHp+eclMzKEmE09jO59yoc3SCasx790VZo1JVq3wwGuCXBxIujf8MROSvlSGlVZCuklm+4/ZV2y/Lj0VilDL8Zxg5X/bEsRn9/fQPj4+KM/tc68ffzmV1V8Trnn29e29c+J4rIurqt8VLnWvgS+TlsDc4d7367rNvlHFwAAAAAAAAAAAAAAAAAAAAAAAAAAAAAAchGwgA/////8g1oCwqIxEOpH7XXv/7d+/jv29vZPfd9fN9c7cVMrWZKzo41x1/1DUhMhyogXuQkRm4BVxCgRIXGaZGlJpajcMbUtNRqgAhJTrVzW3jJUgGaKgEpjStMaChi1jw4x02LEk6mMM1tjLydPBT/C79pTXDZUHyqmeX1k/GmLAoJ5TQMbsOuvTGCTnIkuh3C4XEiFIsSTILtSRjMBNXg4k9Y7qgClt3Z6pHs/yO7p5pqcQYLe12YG3f/kEENuuZHADZicQwCzR0aFbqNely7XQUlU8JqwoFDVO8OpP5rbNlKJQQol/wmqq1Z2a5/VQV3d75X/ikaruWx85Coz3Zivq+r+XAAGWJAApMJupCpmZUfxse/H7+/BU9k9931831ztxUytZkrOjjXHX/UNb5r4/t85DmtbX2o09ra9I5h8cb2jpQAAAAAAAAAAAAAAAAAAAAAAAAAAAAWyS3uhp3ycAhGwlz/////8ndGFQ2EiVEgzCQnsFPn6c3zq81K74ZeLguqKjj2/mgYzk8ZN8UnkdITzkVTl8ZIEIhNncIzUV48b+MecNI9nkwMzVWhf92/S6ZGB46WfNOCGnGToeHdDc5wlIsNLKv8jNc3tC3HTZkTRnT+4o5jb16DU9mriwCzHall8C0uCEiT959xMHqhijRaAhQbUUwvrbDG9LJWvVu7XFFYwJ8WZiE6cWYEzkCNH/y+kAHod/SsjuNpksO+CyZtYjNDVhVxXsNdct0LrIqTcboVnipqtTVFVBMdFT7yzbHgSh6rK2QUmcCKBR0qnXbJXSmi65Jx0R9k4xcc32ISkfsa39A9VuBchSzsOoOkwO3AWgP87uBRicfWkLr4yNSM0SYBtR/E9qis9fTm+dXmpXfDLxcF1RUce380PNCcAGmeOg9boNDSomzhCVCM+FG9xIHryTdxeF80KLhpyYqIgAAAAAAAAAAAAAAAAAAAAAAAAFstN5fYprTIUrPseAhGwnz/////01cmYh4EwRI+PNEfb6IDw81V7eeS+Nd8mWa/3oAbfMgEOCJJbipd6fKyZCE9NhLFJTX8AgOnUup6gbagRBWlY2apSFjCCHd5NcZ4OjAnuuOLkIFdzriva5MCicIHQuqPutbKI0kuvXHsmTx7K3Z2/2fWAu8kt+n6SJcGEihdVaNTOIVJU92Mkg9lbMECJnB0TGIT0B4/Hy9n9n4+LwRQwsBGRnEFdOjgwBE7BYvjfC7u6UQvMohANVFAQ1OVYIrupv9nXJhRBdWhti6rjWbXV1jvC9n6VTpcXf4KNTDKXJAkOqaQ5KLwIAJ/o/oEK5zk3LbmmdJLOpkIGghnpMtgMG6a2b0NXx5BqigTYoRodIkjdXVKZCmKAejx3Z9hhlMHHwYvFTxH3nLjrlotGgG1IYdpRH6fggPDzVXt55L413yZZr/exbg6Dq3ryLQAGE+AilG7FLOulQbMz5VGoTsIczuFfw6wRgfaxTszoQACAAAAAAAAAAAAFOgAAAAAAAAAAAFsJW6Ua356vfjhyEbCf3/////yoBuLGgKDYSnYSiMb4duo74VOb1lOt1r1n6++pr+fn1jmqvrX+1jT+SyXBMiSGmX2zKAimOSoAzdrAhFyJE+cI2TeM+eEJkslCFpLdBAFEjLg2KWRa0AQjHJEJMWtyAZZEbCITZPeTp3iCZhJYNHSmEnACRjwrFRKorfiEpMQlCJOwKwD9/x6HHObIXjNGMttchvS1IwBHQYlQNOOylnwgddgMguda2mKjEois+S30fg+ghNx3d4QXde8lsMF+IA+vf7M3qCt9wKgMAJc8gE7HNNwv6UTP8PnjntXREgGc6rYW1mL6O0AAAAYrWLFWqO74c894685m7rpezfGMNbrcLDN+PqyqAohAeWR9lszOVyqDKNsKIprlnt6ZiwV0d/8vDthrQYoeqP8QGpKurlrTQamdXURoBtSjHw7dR3wqc3rKdbrXrP199TX8/PrHNVfWv9rGvSeQJqVLwg22YBZr7FmATbIPj4ujlL1aNSvkzqPDJfWg/0+P8cUQXAvMLiQAAAAAAAAAAAAAqAAAAAABUAO80LlhDCvi4hGwv1/////8rcUNI0MoUJAkEQ319vv9qnr/Pz9fITevbd1jf17/We3W6+d71WfH+egBQlxEmqIRAeuW5EInJaEm5ltbJAi4gWXO0OXYnehdoR53heKxSAWmCEoKPJnfs10tcmtf6o5ajB81MQ+l8nC9iVkenLWW4vwy3Bgb8W83t47f/vfTwKXoTC5BWpTPj8DouN3v17Xh0/FxWDZxCqTH/OwHDQY1SZ/rHMmg3Jud1ZVckuMxMx0IgBGVpz4AAA6RBfEeuag2sb20+R8xGGAHg2TxZ/aYKAJ3OYTiLpB4OlB0vo1tUeZ/1NioItvUh2MFVV27o1NyU8hEscyWxKJTSW8AaHK/lAFHg/JTMwuV3drIo5A4F+MpVkdtYNclQn7WPxP9/t9/tUn1/b/PyE3r23dY39e/1nt1uvne9Vnx/noAM6GlWSuRUSFwCgBogDHoe6VwPXS1Ui3bQAAAAAAAAAAAAAAAAAAAAAAAAAAAHj/OM9/NuUreuv+FuAIRsP/f/////G3BEOJDGJBwIyp8+15f6frl+vbLfpxoS/T9ffjXWszxnjVb/X/eBtMmTOE+LYsjoJZGcn773rdUkjf4VldOXcnhJ3+IkQsPr6mNQEesxwHKlaiqrb5D6nZyHpZn2KQyu3IHd2ZMJCRHx8Jw8b5Nu2fPdfbtaw8Adm0I/u3dmy2G/ez8x6VnzA7Dktmg2c3w0YTjTODp9VtX1UmoKDDMY2dA7L6tudBfz8fY7433gVbSmSsEeU6svvkqNs21TJ0tpj9nAWSEj9rxKeeVKTl2v1rgEJOJ/HcZLM7A1xQRtVdfemzSVOL3cTFk0pgklrRRn1yERKgSSFR8v370frYMVvVcvKAwHaYqIOCpecsENXHTRlG2tSD1Pn2vL/T9f2/f17Zb9ONCX6fr78a61meM8arf6/7wClCUjy7EnKayH4zbKksXiuNBYcR01lrqkSqFcxuCvyYwAAAAAAAAAAAAAAAAAAAAAAAAANARQWQfx9FvftLw0cIRsP/f/////OXFDqJFwFBmNTV91X8583UXMrzPE45n457nX08N/Pn117df7BHd0EVuDbfgzW1kkqxgIfEfI15pMCCEgdEAcTe02fKdvWC4EVvgxyWpV0HfK9D/P4+1n68mUdVr0dVqa/+O2IMD29wdBlEq1tBoCjo9sjmIVBK/jN4//de5/t9EIkFW3FSqmXn1+EpcvqOHuAO27CrHutgDGjw4gA0z6n3A8PcARGE/38+GI24DDcDAkPbfE1vrUVgAmuhai9Ih34aFgFjrTvZxD754WnxCAgGmnp3uCjVdGkJpxrAKLv6W+ga3eBLosAVGHrrmJ/p5cAXUp100tSY47JxVD8amr7qv5/K6i5leZ4nHM/HPc6+nhv58+uvbr/YFeftn6ekkC/d6oQAAAAAAAAAAAAAAAAAAAAAAAAAAAACuW0747Tl2ivdXghGw3//////8tc2UjDG+38+vb34+fr3+ua014vbWPb1XtnNfeXN95zeuOvx5FoHs26de7OwMqBjd8EaFmswLxvSKChrw+gIXxKgm17OK1nkX8MVm3/der061UQ6nJD2K2bVfRaMvdCXVbIACdOdC4AI0eJ6q2JHieJusY1HOhnPEHlCLWgE+SHT8+qLf6UFvzAwlUDVRT0quv1/3K5bIQyhAV4NYiDIAQgAgQDQogvFQKbs0hceYvEWB60fT5D7PqdAx5WkMdIWlpT5EPqWzQD44Ej96FDg1JBs9hvsQ8TUyDKE24QQSvZ8R0ZqPdz1T0j/Dasinomx5UiB19E8r8CmoHMGdMchMdrSrtX9Haz4ceVe7j/+dv+6Edx0DoEA6f092HAtLWU/ob9vXt78fP17/XNaa8XtrHt6r2zmvvLm+85vXHX48gGXftzjdRzQsZHXxnaVn8ACQAAAAAAAAAAAAAAAAAAAAAAAAAAAAADgCEbDV//////ztzY6CgKPb1e6vOvf+flaaznPbxn14kX3541ffdS5ft5sToHmEEv5wYYvzZQAuON9lmczE0tNNk0Fu4EnNHnJn4DHSoa06sEOPXBmYIvdpnG+zc/UMazEQWHej2YOGLHftqqexGG5GNXEfqnApyK3WrkMADzKAdcoG1VDNXPAOamgm3XXsKv+cgd8pSObNRQPEHu72rot8H/UGm/YqAYcQa5JOO2zxuGUxiwdj0VpewcwWlevWSZhioH8A287u8hiOstoIsI5TUi2oxjBo4zxwywfF3kpNLFhlhjnUrFRzSYqiPVwwYExQqZF6k4iTwHbtlg1XK6OpnMKN8eUd9daqClu7u+IUFBVyd52CH9KpzrWZ17/z8rTWc57eM+vEi+/PGr77qXL9vNhyvGyaIUdKCafcAAAAAAAAAAAAAAAAAAAAAAAAAAAAAAAOAgoxsUWV0R1IsxjWZfOt8c+Y70t4+FSYur88PcnFVx54GAeqxWuBakxR91DV8lKP7ptc//J+rZI9AZ+r8HGvOdzlv8Rkv2eWhoUHno6AVNKDQwWlFIA7I5ADTyUVe4a8W5Xh4q6FZ55JXLHiVtrj8rbGv4M3d9qmenFHEyldDMuZMdjOePot3idN4bfhYb76e2yjgeaJx5cQ3SwUFxvBWp5Opontd4nZeNyxMnkiymFv2zNTQz1Ld3yDgsqCYiEFFs7gSxKLeJefVwsvbhmpobimIIXIYF7ab2NDZ0KnTw50PjTU7s3QNX537eXIDteq624UhWKohGEooCoUWY0q6la7s1Rmla3Lipea64r1KnFVx56GETXU9kWpsOPujkBX4IAHEXYY+460gcDpKIYcndAAQCssMfTFBu/X8kAYeP2smW5uUIAJpr05PRwDkCJ303Or9uT1n/mzfErA85hXiva0579bKXkSLS/AGfJ1+mIXRTa44F8mo9fiaC4s0z3/KYRBJrj3y/NE/KZcdCmkarK1PJ1NX9D3mbMzZmgyemplJH3TN8hnqW7vkmCwsEcQg522dwoYlFvE+e/wsvbhmpobj1ZBC5DAvba9jQ2eFTp4c6HxpqRm5Gr9K7PUwB2vVdbcOAIKgrEURDCI5nW6568W1zKl1XFHHd1dVqutcV3qZqVJ/7Af4uHnLchcjGpETkLDHMpDzK4beVWmWnectOkdydXNcunFMDD7VtKmevNMhExhIMNsmoRSg77TPdo02basA2xnOWcXjdB8NlLcVr/uquQGckwfDKlUvIEa43lNbq1XSU87schqitDJkMAIBz1vmuUIr8n601agJbH1pMtSjZDAP6oAAD87f4lMf6LVBzH+DID6v34E9euzx9e44T0IW42I1P6fr4E+zbPWKzjDO1xg7Y+ocEZza3DLpmyyzWDL5gskN9a71LUyflbUz41XHtu0Ad89SWy3fi8AmxB31f4ciq8Q+Pjj27MI3ddGyxMypKyJ5ieahJOt2LXvemguiOlE1CN6ZjcbydOC0HL+07LxI3hYlEl2qI2WkZiCGeoZ3HWEMgIZFUqZWEKFUmF0/AotHZRIcYgoJKHQ+clw36b92RojJBZ/52cGgCBlUMNIMT9VGjQL7+A97/B+QzuKNll+bOsODwf1vqyOPqWXP0/K+ULhgUkM8BDbxufas9gp38XhzRjECFzpLhLg/82PDj0DJTx89dyJRTNeYRzrKSyZoCYCtkdHitj/j+zHN1U8fFL0ugY+VlYlot/XUMS0YJBhSQz+MyBzbANxcCz7xQV6NuP+LpKqhYqqNo4hJ8HaSjnIBl6IJhaTK68CAyb5bXIIfzXsf0a3YTiLA87HJ23TceLISRbawcIUxs/lv6v/p7yVlLqE6SVuqkuVFZG5USP71Ne0B3r9+OK+31z1oSpXjzmdUg+v20gqA6W9a+W2etQKzhAZr3NaObOt5ZiclUCCgwrpA0k0nIY+bK/i2ifCKd4eTaV6fp48/0oro5vRx5tLhpJ6rWHte36/WOgPkzR2uCZO2pt+yGuIG6j5T0VawziuKL15VGqveEDq1+nE+Ntl3tgUAuZtIUNMa7eTvVhGqMhpR+zamJY1OVhkoIc7AycWOdwckVMC7QkRByDHrcGdzERgl0Fqkgmm9yEjA6q6EXXCHkicQRqUA0fMQ3cpEtFlU9ipGa9m2tVawvQrUtU2Ne8KNi7E/GbzXfh9gXvHTCGc92MNVNyjjxqCK+Ea1fozGsuqxH56aEeF0tnORLVY2TIPZPQ/HAZMBw+26KQnIRvW7NlCy/4+6kHw+KexPTb89utjBbJPtQnSKsn5ZHy40GP71Ne0B3r9+OPHf1z1og7zzmdUg9a8ceQCA56h/8HtwAAAEkVXwgodzbnMEQAAAO21odXox/qOoADoGpXF9h6nj3tAAHrrKplbSqYvMQJxzAAAAAAAAAAP/KCAGMjCR2sAKLMx8tFnZq75/8f7BSURwhTGz+T//////L1CWoTqI3abNDZrhExI3aax+3Drp9b1+N9c/L448t8D3/PW/x520T888/XnQCc99IBHPf1wUD/SSdgFDygjZ58RN6WKlUT/rAmZ/159mcsCBqS8GF6cZrCqtX0yq7JYVlHVh4AoKGpkce2HxvcjLubBV02Mf7T/BVuYskr1JMxnInvGx+NWrC8LpRI4AH/9c9VA9e7TAoC5UlWc1g8bAremd4r+l3GJ9ft8vSG3T3TTo6cChGp/FoV0ot7GXpaViyNZweH2/Qwg25vIW1ZBXbC5pCxRiNBmLAqxKocdaaZsKSRZ1cE+VyhbAv08eHYLgCnf8RNLHGlnliKDH3PJzqlI6j+zRTafeOXYWAaWa7lJEkrqcH2LBy47yP1uhNHRvtQuI8Y2SdhPzO4cRLTHgGutXsACNIrpOM2hNRrlc1vz4QONiXfahOoTBHyiPkEfH7cOun1vX431z8vjjy3wPf89b/HnbRPzzz9edAJz30gEc9/XBQOyAAALh7Li2EUAAAAAAAAAAAMar2siwhAAAAAAAAAAADf44AAABwIXsNv//////P1RJMEQoMQry/HtllXVqzg39b1vt7cvvrXjxePbcvoNN8yp+mxPwnHzkIUkmQZGldKLz/Glw3cVCbNNDMmaRUanp0mBfCpb8pedVvBo1tfZWM7vRqvZytFsisWj0k0vfhvaZx9z7su5VcGdL5rvRexfeyO98dJ43EN2gnd2Zo61p3W4FVkZUtDFdD6KYxeYDIYSFxRoOBCdYXCBvX3N3id7LgoFL14zJo1ThFsZmDzESvGysVnlZfP4nwJsEjj5MDh8Z0Fw8jUMxghrOAyBSI0x7n7Rw8PjCtC/MKqQmFBKQCPaAuAAAYZctD7PIn3QPytbu6yyrq1Zwb+t6329uX31rx4vHtuX0B4PfNHy9V1uCTeJAAAAAAAAAAAAAAAAAAAAAAAAAAAAAAADghGw63/////8taYWmFePjlU48cTu9ZnFXnno/M+Od/Wuvzyy+qy/axOhv6rtlQ47D/7wJydrSnVJKOPs1wm2rwyO6nYP5VQhhciyENSiC5mkw1LLjFOgrmqzpjYu2WLupyOx3TTJSg6I4sl9tIfODnBVvjutfuUxprD7E75tfClVvnuhVO75+caaHffbmC7X7r5L3u1gqIECA1lKCBlEFCdBAGY8DCAoDe3PvM8b+b6Zd3xxpd5ttW2lj4hZOZ4RfUw8d7ry9CJWAnzgYokCjaVzLKWxoV2Znuney7cze8MVdxbEyIjaW9D12b0Kzu6t0XdyOXncDBQwNUceWsqjH5VVrlWe3jid3rM4q889H5nxzv611+eWX1WX7WAAXr6X7i984LbWiX346LRmCgFgACoAAAAAAAAAAAAAAAAAAAAAAAAAA4IRsN4L/v///GWiisSiJQxgAABq7b9vVcXx7804uq4uxaGJJyWkwEIrD2WTI8iiYQydDQ1O8exSvxfGVuoVDgd7p5HdLBLq69g0u265ZSjbukA6SrJktJFY4lrnO21lrOxrztNhkcjlMa1UknIRRbEp/TdmkhyGoVZs08QyzAF2sFo/NQUFqxPCaphSxpNkU7Q0FU1lCCsxBQU6ncb8FxFfGrQUFNO+Egp5nXDynAU1FaCmogq0FZiXCCgpqIKaGgppxQUsaasCivzXYhWI01V/miqIazap7FuNrBR07Cp6rjQUVza9FhmCXadKBqJ9F9Swoy2KY9AAAA6tv29VxfHvzTi6ri7AM6CGRwxFKsF5OFndbnMkh1ae+JdRu9NcTnWguUBoG1r0nH4Ncd3F9cagN7kjw0i9kBKJ9fwpNgL3ra4ANC1QAAAAAAAAAAAAAAAAAAAAAcIRsMWiTnf//GWmiMlLAH3+x0yY4vK6i7kuZSZrKy04EmTKKw93K6jjPNGVIpFNH8aN1l1UmtZCNIEhccBy8fE+26mutwM0knCGxX9qHbXYThVYggAIXsZMirc2IWAjY0Y0CNTkThxiOHzl888KtJnjV3Cy6coyjcDRB6VQUNO90HIL4PdxoulymqIWBSFBnkgTfEgqfoPn8VGq8AbZhTXUC85QZTNHCtSbuy3DQe9f2IG5fSckeEYcuap8yreJTr6SNf6gtjeIwvxSoEVG9ids7U1chpmWrIk2eygQyMWAvEEzW0wN2XEWTA9rrbhZmWHYR1Iy0Qs0IEYAAOu5LzzlVfV3JcykzWVlpwAnJJsqzZPzNmUCEOeRxuDbSLj1/torrltv8gtEn6jKFFfMpQ3QqUGWzoHBWSwo4hDZZ5yQowlqsni470T1tTqb+PuPM20oQqz0lbjDR5saIeu04mTBfQ/VeMr+Zp77/sZbC6NgFAAAAAAAAAAACAAABVUWchGwxDivn//8Za2VAkqGtmtoqT27iruvaSVOeJUy21r4FxXdVsYj6kKdTxXH2C59kpIehx+3wOkdyzgspU0EN7i5/YAg5bmqtQYOkLgEAy4WVGpJSdVrS5Uy2wquOGKeoZ2+92nz18xZzq5lLM8xKzu5OAABnSppBG3cbeLG5nWt7iy70TOgfeVZxqAMxA2u88ZHdSFsQFtzfQ6mvheEw6WpUvv/uos7zMEM4pKWl/xPgBhbkOjmOz053YGUR47gGXuJ2GNmoBeM7gPyM5RSeiL0h7tInCGaXeoPqX3yGFM8kdmeEXc0rlNWbL0mlYvZDAt1qXaN9UZayFAlQNQ1sEVxlazVXdS/Mqc8SpltrXwAhZI1CxY3TROJNIGGT04aYOZIjZ9oa1ZN7bCQANsCPi+g+eiET0LFR92HJjBUuv+Nx5JjPq0AB3TFhO9ophnST74EZ7Mv7clr+OM5y0s+hSdi78E1ugAAAAAAAACQAAAAACICmISZstauXNwCEbDHP7////yFlZFDQdEYyFYihQr1PvXz1z8c1WXaqtv23jWje7OOdMvi+ND1egkKC9TdWdUkIksgmHKpF2Sl/c0R8RH9HN3bZ5VuanYePbjwFjl5ZdorG4XYQ/KeDSHUASajXqv4y9EoRBAokSW675yPzFlyrZ/G69sMc8yUJ6NGmAYYM99LsTZwsKgJa0k6vfXouTPv2Azw1bOikbOztua7xuRhvFcpYMYxllld9J8qZ0ycHfRpf7gN/VtjOPb2uyRnJu157/pF9Dsg7XuLJfiYMSulmezvYZuE+YCcBTwYjAAE6r5KEdiKhUeGknc0cyBuXESYrHRBNecUF1c8PVVY4Ahb6urCRaP6cyVAWgZL8IFopZXt0sDDhkzjM8MlcCt8ewkLQqR21uX89PXtVZdpu2/beNaN7s450y+L40DHuUpt2i/Zn4xE8AgW3Z5NHgBQ/ukGa8rcYBQAA9uXzWXANIAAAAAAAAAAAAAAAAAAAAAAAAAADgIRsPAn/////GW9lJMAAAXhrd1qqwDprjoSnA3FJj919jZ1WQMIi2FdUYnNRktGnV/QnwP4X4xUMy0/C1ZMjLXQbMWxr/GTqb0hJgSvIX5+0t1b119z22ubWyYO7zvIBCyBghO5CFvdhIQmm6QCUCPr+AFg4u7A/9aaq1+JaJftQWqNh5TACwu8RyPB8XrvCa/aUuK/JYQXjrFUvKLFFf+LZgd+1Jc0S4qWutsXkCgtmeimnsSd9ywtWZfhUMDQoaZU8Jqzsvtru78La9Vb41ozUOWeGY9D2usZTFqRD0EDcKCmn5kFDGqj4adA7XR4JHd/M6dp5M4y1MI/hAAAF4a3daqsA6a46AY3jrOyq9kwN2TyOQmVFXJ5ed1Xba510Gn3FZyz3uvDRwJ2nb+GgzjNLQ6H2Gi0SAqAAAAAAAAAAAAAAAAAAAAAAAAAAA4CEbDDDk7///xlsVCKYKNADz4vHHN3nt8+1TUptqbqW2vqW0wykAQYbAHASmj/JqTJ4NVzMe5Znw/8AlON9mWEqr6LExFi1BxPuvH4ObS3hbZHOnu3LPbPKZaXT4UYeeWstpxVz4FmOddqt3EUKOsDYvAH5afq83jxyL1gpdqID5FjUicLwyq/Bc2MRX9rAxSMLc/Xy3frNvSqyWxRiFeIVx9s424ldnO2jD91LAtRnKlQOgqHMqaeLAsBNE8n6xD0arTvFSmdJ+i/osUsjAX5ujb9MuTpDDAxWAfGXzdddNUAKMcxdzm7uHKl1eWGQCXF35IAMRYug74RlrUzCPIAefF4JV+3zOpqU21N1LbX1LaYZRAIMNgDgAhduUSY1fbyUSnnQZPPxOpSWqXql4VlcicXN6DpSzUR33nP4uy4NZD9xUHt843rd0stqf+qWumY+Ys/cUaQ3LDuKZAoFoAAAAAAAAAAAAAAAAAAAAAAAA4CEbDfv/////z9sYingKFgRhRj+ft7Z9evnyv2/Mn1ud8vrxxv47nrV3reVxqVLnsDThd1xI/mkmlqCdUo99SdCyHgJfE1vSQcbP6otF7Z0fLhPO8rDIQWfUvKy2aSjJAoryv32m+Tv6gV17X9/BXxkdd9GoagQr4zDd+HIqOBmQltmNfr+APq6iH4P8AYD18X27+Q2kPcfYYd4z4ARD0hgLbQmIQtnUwi/Tn/RWTJO7cuhEMWOhMWD49DOoIKgeH/gPxPx9jG1sPP/IK6i4e/wAP6cBmSUfh4ARXgI0B8P4BsPsQZ/h8g+NZgHUAtGA9Xf49ZhMYmfd5mz6OvGnYdQivg/mKDxBgeH4PUze3L8BHMRctP2ZTD8L459s+vXzXtft+ZPrc75fXjjfx3PWrvW8rjUqXPYAHPFpiNPSViulNC0ypwwZ6T1nxLAqJ0ACQAAAAAAAAAAAAAAAAAAAAAAAAAADgCEbDrX/////z1whDSMTz6+vX+PfxrF/fD34rdfevU9vfWU++Zm3tdVrgDV1wZAE2hvyhGBFcrzneuS4PZ2U68pir2SqBb3GwxbHGqDh2CAJNgkoI3wTUGWHS+K5yBF1ID0QgM/yjhm+OpSF5yEJzS0gKkLGPswry8ozkDOdlrIBEG+Fb6pCKLWEkdnyoAYK0F+FNEUgF71VwwKrLGyq5pVzkRMpjG/UK1zpdMY3i4kKRtmXsuwl32Y5c14bayXcDUWLhInLXOdNyNIqWsSwy/W+pMhsllCDtyauE0qtic9WCYUvLdhIVHlo8wP/S12JF+/Fn2y14vxblRKVIz0vTK9Fk59AqlJntotOkTlKiTqp9PeF84og0GYWNPpdA6XSoVdNgqdcDBLGC5XjDWxZIFR5EkFPesnMtLFfADcIAwh90/TPm+aAYfoxPWg/leZJ7e+VVX98Pfit1969T299ZT75mbe11WuAAMa2Osvmk277RVtRznyi7TAlfByxi0EWDkAAAAAAAAAAAAAAAAAAAAAAAAAAAAAAcCEbD7//////zVwZsBZhiV7b9fj7b454jnX1+nVY1fPEyZrfGSueOtDX+WmGQBxzDbPAADk49C6nIDdfpWmNyAEaTyUw0Fbb4GSMj4owrXNUsBkiIwg8lZCq4pT2/VXDCbQ3aiRiAQRQFZnefh3avC3OwIkZI/jVpprEIsOHbdjlUWNtQWTOWo5E7QaiyMNrPe6U1POb2ENAKWFgXLnUiVZeXnVlPZKYBBTqEARMMXKFM39VOr0XsWezwZERruMRHVaw2UHKbq5qM+eear2VZaJbyvlvJVUIoqiEeIoGl2Km0xlhEtQJUlCqIhHI7Kuq/xfLbpImFSVhndnQrHJVGhYrnADQSXwnLtE2CaBdTVmKKzemBEZxU2Z0eCTBTZsQtrRgeRWhqCcTvOKiVCvsWJVKcD/9/JOeLHK3X43DOaow/Or236/H23xzxHOvr9Oqxq+eJkzW+Mlc8daGv8tMMkDjmG2eAESM1Yjy95th3fCnMNFAAZgAAAAAAAAAAAAAAAAAAAAAAAAAAAAAcCEbD/X7////zVrpDUQZifz3XNeft9/Xt3Xl6mjLmVqYlOGXovF/DTDNIAJhsAAAYjyGojZyRIYqJXlO7hy0HNEIcRWmBjtaB6WRP7m6OvgOVo4DKqRxBhLv23jvnxVWuWXKopYkKxRDmmxDLWqK2TZImeXElKU8Hkenr6qV9Wzr2TlLp7rapIpoUppuNuCQ5nRRJezXVk/dquQe6enbbYoDGhMcoPhJhpfc7lFeNiUiDOhHSNb1vLinbLe+FTyCzIyFIVdbgAO9rogzY4zIzABmIGbI4jX3Vkb4YCQDUzYszTIAIDX4syAAU4s01LILYg+DsgUsZhhg9eAsx3zEDIFOOOKPXhIyU4sBOaU+aaAJ8HcENmKIKXWd3Ggrv331rZbP+V+tZw7U7hQV/4vLW8qMGDaBNWWDKYdv57rmvPPHr27ry9TRlzK1MSnDL0Xi/hphmkAEw2AAAAJTDKjIbybbHtM5/9lCTtPO3JQKHHDEAPJ3OnJPZ1TeAe7v6vcUXswgAAAAAAAAAAAAAAAAAAAAAAAAAAAcIRsNt//////H22EMpGvt+r3i3j41vxONxvqm9XkqI4vql1etcBHsVA5rvWQpJlcRGwvP1KN7W8DesRxrqfJibLLZzmtbe5vyafTOOW4tO4awFksCd2vdWT6bMOBlBiuAZl0AbqxcZx3SYrmJINdPn36FW3l1Vi2Ek6igG5Oas4a8aUwirWlD6MfmX/Jft26Uk4HEjdSTwTzIE2ASWQrWMHajjZDHF1jk14kZVqEQjC5KFGdF2quifMCAA0iCT9RcJkIDHKCePfMHJO70D7n6TTRF+n5h820zidKYqKcgKAgmWC0YoUbAgimk8EEAZy0RwpW2P0P0HZbTEXMQGBBcg1KdgIWxA55nruytgTzWjIMv7WtbcLZDzC0L2h1OPto/A1Se7278fGt+JxuN9U3q8lRHF9Uur1rgAbbiCVgDQTEPmAmcWVseRwoVoQdmRIj6+MzLA6mFEVXuJND61KYdsnHH4q1hRMAewAACYEgEigAAAAAAAACgAAAAAAAAAAA4IRsNf7/////LW2DMlGkNfGnqTrlnt3mt8TmrqltYi2vaub4vWdAtCourWn2bHwMrzpObdqkTjkl05Yc/FUBj+RWccP6DHllpXxL95Sy5AuVHU0UNWu21cpMgTNbxUap2PIqjyH7nNrWYCOambHHjeiVW21EQwAMLk6gRVCCOJhaL4GLYzEQCFLVpNaoQBwsnm+cr9v3aiiqSvoSWP4IEkNv/oupDaQJkz/TeXxtjXXm8Fy15ThIbFqYYFfk01/Z+ZgsyQHQfNWeaMO0hFXhwSyDVUicUiDg8cEt0RgMmKjzal2vBDYFOWo0XitcmlBQPUw5pEEgkRXMiCyRwfy72v/h8mQTJBBLHqySYS1lhCDHj78+/49Sdcs1Wa3xOauqW1iLa9q5vi9Z0ADXtFWH7xZiXSs7xsqDU8U7YjdJtDOLcc6kVB+bbXQOzZOBF7L7bUlmuCgAAAAKgAAAAAAAAAMAAAAAAAAAAAAOAIRsI/Z/////GW1oo4AAALwAtx9dyNXYGOCj+yt/EhEJqASxBZQhd/64zE6n5/nfnQVwwIWln7CXucK04W1uhROxT5SY5/5J0n7L/CXh6e7t8JaKlw5zYw4S12yZJXFWC2MlhYlI4GRmCg4zGwAkPgjFKDEYiwT1nQC2Yn4QYQmqh6LRjVUkkVnefdYMzUSrPXYq01peg+YpBBARJosHERPoh3FtJHrE/TC7IRstBrHjsvZ20MbV2Up7Mk13ecK0dGtjj4X7KnCNqmAiXLOG4mDdxmCtk/FuxDRYhrZmpg0GBUALQzqnVHrtOTJl5bbnLQzDN6lz4vTHPA7ccVHOW5ZejADaYIhB0AAALwAtx9dyNXYT6Ozq3UeDUZdBLsOoYGAU7xjUQv9hqEbnxQ7oigqXbZH7CaTezmlXtbtDA6VmG2LDA9EIZb7gpGlVVAAABMAWAAAAAAABbxZ6b60zAAAAAAEQLhEBUHCEbCPTv////x7dg6FYSBfnxj78ePOanPmW3pljfjkvCVTNcdcBfXaQDd0vSkMAqOjdKjYiBUMUaTWpjUTWlqrKrEVbriKGNbFfv4vF3fPcEJCWL2WOUSiUW0ToBmFlVkk4Qi55nBNKaqogF0+WSQYlGWRqSHnmogBqqqpQiwi555iYwgGw82VQqJhC2xtt06un3ccALjEIuO4rKaRB9J9iZsNwiW5TENWXlxqh47nKoEGTLYw1ZYS0HqtIhuQQOhUTAJt1YmAQv5ExdPbx2GKFRUVBC6dWXDVlMLcqoqKhgySv8Avf8DlejP+/uLB/w8P+AbuDx0v5DYB7YBtMxbQYf+v0mH4fv+nwcAoYmu3ovj0dDGEAC75yjvyQFRSMYQestekDw5iUgTOHj17x9+Pf4/T/fvnzo3pljfjkvCVTNcdcApOx/2dawHCQRTNkNQpuroAnG4QAAMd23h1i7jLgs4tMVQtABUAAAAAAAAAAAAAAAAAAAAAAAAAchGwyF/////8k2oIy1G8T9O/+9eOPH1r7e0nz1rlxXevVXTGRdGuOL9gc8I0zYGGQLjiB2VApSjBO+9wAOINLQBSIswRdALnOCFZLfU2ZqoS6QKy81OtgsGhFSxhu2iU6n0VSCe9ZUGZZRQIUHiIe+3eRv0XDFUiYoae+xFy5d12lRjk4ItCtGqli3V3XsdoRUpybQj8UgV+TN2rDBVEraziPMRbtuiZ3cO1xablnyvwOueu++P4sbnooGZGBJ7Ea96AKqkJjmEBaBCEdeRVJ5PNSBE6pSlvk2x1syUjCs5kcKBRzuFBCZABqDQa+2RDYkc3ZmZ6xJwYKCAAMkMJJmQLhcOSyHBw7nFhpQnb3d8/H7tSgLj6a+DIAKthicSzC6iSZB/K/teb/X2/P17/jX29pPnrXLiu9equmMi6NccX7ADtoTEmLj4BfNMLxe+l6hptavXwoFxAAAAAAAAAAAAAAAAAAAAAAAAAAAAA4hGw1zj////8dZWdAWNAbEzTE/P19vrsqLrzM8STftnPXc89zc1NtVmpf8+wYlU1BmigSq17QmgkZC6YCu3vgLFqqR+/88UBJwDMLy3lQVjv18NeGXrsi6SYCNKY13/mu8p+PiCSRMkcMAmo1YXb3UV2/tonkcg43AY26owcWjCoRXFnweyq5IaK5ryczha9YoL8KRAD5V+xZ1STiMg0s6jFzEfYYTzD2ThJxzPJxF5tEAxozTvX29rzHTTeaE6oQtihsDufX4YtXg4k98zTMFdTFgLNNDyBfoBqfNMAWg2OhqZq3Zp9SgD4OM0O42yVyABiQh4MDjFR7hZMULu7Res4H7+FbkAwZgyJfGAhibMyOFNNeqRphNpHEK/J23ALYzRBMhBeyUzMlbqgAEB8PDr1EeI2Oz4XZx1ldR9e/nXPYLzjjPEk37Zz13PPc3NTbVZqX/PsDXrnnVSP8USgFJ4dfHEcNxk/h08OwggVT48GquOJlrS0AABUAAAAAAAAAAAAAAAAAAAAAAAA+5UQharW6VlhqcIRsJn//////M2uFMpRsdRvvr+n4/P+P6/v49v0y64543pd88Zvzye36/bxzUTjr9wAb82faBPnHESQCPMEIQq1vkPIM6RiGOxqqL8mTjzO7HWr2+snIgRuMRD8JwPCACgFQEO8UhaUAmX9v5pOyjaspZYDmumIk4nWSOhOydnb6mIJaHm6yaCviCaqY0ZAd7wVEAAIAEqKmlG2JyTItigEQbcy1yvm4TPVMatJbRF4wpNmA5IoXdSXUy5Nbz/5Vn+ydg9LkojTDxC/XGs7jAIg0m4rOVIhgCRW+n3dkSYq2ZjfpKnI3JLerYNjwSLChvoYohLoC+oAWFUVW43MX2ISmqqh8IhShwlKJlqiEhhPO6EJJTXSFyuAjOhMJiuL4XfoAR2nFFBQLjeNbTqpgEuAbMpB+J+P6dd/4/r+/j2/TLrjnjel3zxm/PJ7fr9vHNROOv3DwGfwSDLpxS/7HVpbAkF2cZP2ZpOYAAAAAAAAAAAAAAAAAAAAAAAAAAAAAAOCEbC///////0QBuNDZZiRTqeOvOp+3VZxTp7yXqsxWuevjiv0XOXHX/vwGdf82OI/ovJRRcTycWY5/KTdNJ2oZGvBOsf4ObKqd+Y4A+mODvTyjntyOuFutYh8juN8Y7z3R0yhu9EpvoMH1TIZsd97TczLuwBz1wL2npn3i3NPoh3OSwkJAARqpGIgqmGYmVinZVBqMHZbOi6mcdLSLVMKjMDjMKpMIQYROwXeWce//1BZZNVPbY5QZQiEjAUMA6BeSgnBJHBQKhr7xfM1AAM1DGf+fEBf4r+K/vVV8iRUd24FvO69TonnIzXNndaK60r+6aJNGYfwWicQXXQIvY2wMcYT6F5+xWArx09ViSRF056loBn7JXW7u5TRRSk+Nh0YdHFU1V86BUD8rOp4686n7dVnFOnvJeqzFa56+OK/Rc5cdf+/AXRnFV4Ql4TQEwAkAAAAAAAAAAAAAAAAAAAAAAAAAAEglvpgV+bBwhGwv//////8wAboxKCwoEglGhjG973XtrNcsqr9lbL3nG601fX4/13rrfd+f/sGR5RSlSiZoV1Rm2TuHkyRLsDobcEqLJQCv5BVGFTVruSYj8HUFplOVJMgYWQzRAZoc/UXSX7zF+piMAGPjXeEmot8cfduXDTmUpEiJuLz1pFoW83btkqEOOWnO4QMrYWLSFIQWiJaZbjYbgxOComS3Fqs0JvlWbma8B326LEfG85ZrGFDQUVngKFZ3ruoiWHjLBVUbdGk8Nh+YQZt44G1rAtEA9jNrW+ynQ9ghI1OKu0Dfr7egAAHH48qaMZQqlVXe6L+WHcAL8BX+3rv1c+IZ0vX+26tIFvjwhQc2DcGO/JjEtENlLBCSzZQzZwjI0jvdM+Z6F4YY8/E0E7qp6Vu3T7lH6Ht73uvbWa5ZVX7K2XvON1pq+vx/rvXW+78//YF+tZOzfwjAjI34QBZEAAAAAAAAAAAAAAkScPmAAAAAAAAAAH1+tZSnX9uCNt+yvm4AhGwl7/////k3amNZUJQWFAkLAWCh3ftre/18evb3iyvj0zjU8efGpk86eK38b3q//nQAwp+Xs6pMFpWGegN1ZtwMn427YCm9ZSooE9HQJR/EgyMZdc0X6DXw7Z7O9cdRzz99jDhuDHs4198bP2I5u51hbVxTE4FVmOoMUmHKD4LX6W3qWavOqfzKkVq8LCyTFkZKrGLEnaVbgeMxWFcRxxhlgyJwd1JxR75lxqj0m9yC57lgKO2KU1bGEmQlJmqCFTnJRBaq1rML6GCbsn9qiiXHsb3PjK3MYwO7x9KpxTTQIP+qnBtLEkW9Sp5rSe5uqda11WuZBxmhgdxTSP9e47qpfsnIjNc5bl01xNsmZqkCHRR7pdcmgvWUyYuwSaeG1TvRxmktA26FHDq/IrlpIZoA2g/kTnjf6+Pf494sr49M41PHnxqZPOnit/G96v/ngUb1oYqxwlyPDhgLMZCMrCAAC2EAAAAAAAAAAAAAAAAAAAAAAAAAB9y4Y120d5fudJttwnpchGw7V/+///8ZaYRQ0QwUeAAAL43TPbvOrvk76543+PqBif1rH+uV0V30Ie8MhQZkn8tYt9qi+ILR3andpYwlQ2pjB+hqc0ioMISbyhLXJZpCcGQ5IB4n+jOVf1XXYHbcy5Os265ak/CotVYUHa4koEEvWVGyFTWonrAuUPxQodG7U0/80txQaahcQdxB16/CuSnprfguI1US6EPEmhsgVgdiCriX+aCszVUblrY69oKydd3Gs2qxSkmqoNCqFUJoKPWkl4uCgr/gumtsaic7hVdwUUVNQ8EuK1VYU9oLE09pr5LRkUNFO/ToXtL25jkWNVbh0s8ZanQOgAABdXTPbvOrvk76543+PqAG9KB5nDdAyDmUzLQJ3lECj3V5c8h+AgwKP09Wa0MK1Of1+uidHKmOrhaYpaqnLlpnbgtqpVQn5EvEQcxEWAA4vpAAACGQqeGJhGQOQAVAZN1wACoABjAAeIyw5DCj0u5X3SGNwIRsN6Snf///GW1CQIhMFJkMHV+i/jeVO/v2rjFzU31uVcNbW6oFmKfKvgBNY8d0NCqKYRYTJgNf9hMeStALTdHry1NCJ3XMfRxIRN4JFplw4b5HAUvMppZ+Ju/uUsDQ1HG+fhU2B438JHFZ0Jo0ZhKV3yE3c/jzICc5Zba38fjoMRruWEKq/IM2txn6bYhicI5AUjH1sM0DENjn6Qij4+YhWAA733EAGVSDI+EKgMU7LW6OSMFpTgtRNk7rw9YUvAarYBwiSqO+zlLmKazgqC5BwWuKlZDKZrDVL9gOen1jj3hBlbPQ7D8Ex1Phlc8EZbWKhBsDrsXjrvru9Kzhc1N9blXDW1uqaYZR4AMN8AgAepPhTJKgfmGmfMK5ZYlD5XNqBe/Dw8jysV5GMVRQKdCK5EqILB3KG2gacVii4Aywn/LSVrnHhmVjghUXsGapao3NkrLUwvbCirbfDTDWyxlooDzQxKR74HmYgAAKACUFP4xDzejCfw/h/BjpWP8MFIlPthU4niPJhri8MZQgMsNhIKUsJwtFeCw4hGw3T7////8tZWOi6ExEen19vv+mcOfbde3LVblJ0pRbUvpc01qwW5PpGABIuKTaD4vahAlgmIJPAPV35Xv/7LXpuoWAu7B6nqFkbXQkEF6XS74kW7+Q4dUflHJwnj/KE5cQigwngo258cwfUMbBG33W6Gn2dvhu9luYWbpvRr3erplfVHfz8a59uFG/GRLmlN0AAWyvZ2PFgrAGkRzYdfgup21Dy+zxUPPmWCDEYfAAsEFN2V7Zs695GWsVbvjiNXRqozsXtBlq+dtzNJnXcRXhD4agZed38yq+LM00dPvuSH10EQl6xB572XxaM9Hm4NbKyauRHnsr+ud4YmoZa0j8j7vt9/tzX+P49t17ctVuUnSlFtS+lzTWrAAQWshkqMxXWRYSwCXajiAAXB537vozwfzmrXz/ykkSAAAAAAAAAAAAAAAAAAAAAAAAAAABpKbjgIRsPvTv////GWlnQVhIoyBlnffms0rVZdSrmWCVxq9+1V580CZHk83w8lheFksBBJW4BMIP05PCVrqif+dpxfE4LPoCAxO5BEZGj97AnnsXXOh4XHdsjH9GNGSTVKMTloXSXMhOLjo34CpLP3SeQ+68u7JMqbW3Zql2yJlF4DaYV1z5YfMj0uw12wbQaOgExQ2imUcILyKFI8SLx0SZmDUdukvC5HET7pSP3dz/cdmkd2zChOzh2DhIoQS0WO0QdlyLpkPVJeVVQ3ioME2MbQsSM03fe+YqPAw23iwnoFk0tqyPUPR9y9kngyzx7bokCo9nvTPnjiR5OvE20jG1GLXQBKSBHW606fj+u6B2vTiq69DY8KNzRg2Iy2KUdhUO+N62VxmXUq5lglcavftVefNBkxa4ltc98scodZc10VhNaq5wWGjgXLoJwCFeYIvgse+jDrkWkGvZ47riAAAAAAAAAAAAAAAAAAAAAAAAAAL4FdUBplsVjXiEbFGW6isWAsVBsFFAAAAAOuzjd/TOPYCEExDoWMlAhCZmKIhEhOJw7hLTYnRFF2s7slYtHxGU01ao6U5cSHEsgGGKDeKaarv7iU/DlVv+89eMJuRekOGNsWAGlL3G+kVsNtvDoapPo1/LLK3uxG5Hu5Z2bzcqxYlOp901Vly3042XTdZ1SqZ4kC8yw+wxJTPID0WyxO9dM19Kye/jjNenN5asOnlruOvlNcf7Z9+HwCfu+N0s1APFV4A0lSnbTJqwrOKwyAwDiKK69i6wX0FEOPapcye52AbZZSuyC8rMzyxcvfIDD3Omj6VvOO6T2gBaqkIH70xxQ6uvPbDl31Fx5d7divrMgD5/hfEI59+1m7urV+VroMHuU4JHkxIRltIx5AAAAAddnG7+mcewAWsWuyMvofpvflcR8FC+X0cCBCC41zAEcAaiFxrREE4yNwvaFSLDngUTI53EAAAAAAAAAAAAAAAAAAAAAAAAAcQQadWCRp8AhGxTtlgyDojESzr79vtxW71zWrrU7rrid9T1q99e37cZeL64rjQkwP4k9+LIYQtEx5PCRi2icaDRb6cSry6dOeXPplp32FCDIj2+oeDEARg3UhtFk6plEZfTjSoFWWGKqoKpr4+PTs8Zc7JQE1HANP+S39ggAADYPqzTqVnJxBHxfV/8/8fH0oy/z8/i5+cPslDg89nAHh593cf/z08713tg+0SfD6bZx1O7vGHh4eXg0gAWp3uO4e2qwAAFcX+PzrcPD0gAAEHsYEGB4eu0PD0gAAGIw8PbgACIe7gBh2A9Yh3D269urw9t3cu4fSYwYc/rAw5h3edso/Q6/f3fbit3rmtXWp3XXE76nrV769v24y8X1xXGgAC6DVePgxo+f+nE5roZ4LgAAAAAAAAAAAAAAAAAAAAAAAAAAAAAAcCEbDb//////zdxVSRTxvDh9G/XXx67ivbM9vEqavrwrcXxxXxoSgapwM53Q+Cx3S+3kBF5YLm0ebl0I5LOKE/FogR1j6CaCz+OwAFsss/oePy/oicds1UqO2jwz5+pHd4qjpOP2M/LpLmK6t3mxmVdG7z0Vns55OeXR1aa0NHV0Mb+V4/T82/5fmru6UXSWMLYPmE6/n5bv19qWt26RNvFfsNJ7RVAGEDGtCIMVx8sX+3e+sGL8E0nnV+eRR6CB9ZUhT5eOm3PRBsMB0jGjGP76Pdw8daQByCERDUmEdEI/hLf4yNZjOp9/PUoB7tgHt0xREOUmqMx0FqeBH9Yqutmq7jaoLZTZe2bsp/QnjfXpw+jfrr49dxXtme3iVNX14VuL44r40ABFUKQKKDlNkHcyl7AAAAAAAAAAAAAAAAAAAAAAAAAAAAAAA4AhKw3//////81cIEx4IzEG771+v7ZJ+/z9/nnV7lVXttV0vV3VZu41p94PPOFS6+WxDjKIE5IYsD0vLBkvLr7J0QVO79VkLIZUBeFu1qvYF2aW2MJGkhuNn3Q41fkNpCoQSvSxIiWeQwfoID+cAf8xBdsIQzxaMARIQvD26YOvM0GnMAvzUmlEkgIRjgWTbtN9lLKPtiRlPvJuLeWcYDHTAg6SqgDatERdDHXRqC00ZB8q+soSYCaYypoWTGeyVoaVnSw3I04AVwkNoEizFFjAjMMRc50lXMUhQ4wTHSmI0oDsiELO4JuBiFQBDK/CtL5BaH1tWt8DMxlMAK0GDTOaE4I5sWDA70LQ4HFYNXwIsFa29jRWZm4hEzKcEIZFZo0xXpMtoh/h7enLj5w8+Hh4eHh4efeaso/Q4/jX6/tkn7/P3+edXuVVe21XS9XdVm7jWn3gA3leTZYFlGJejg7mCWwAAAAAAAAAAAAAAAAAAAAAAAAAAAAAAHAhTMb//+B+I//LWYSRSMvbr2uzqs1zbfmuLScU48+K17W+ff93fHv835u/0r/Ht3x/HOfHSn7+r6QHPVhgAkbVXcz/4szkXWGhK0NKFyqR/ihkFabXV4rnAiCtDBUYfuWffyN7p/K5dIbAEpHBLx9KPcYTweCby2m8k/E/pXe3fj45nj+OL4z40b82RGfM8svmY+eu3dIbO2lB9CqjXbPGuxShgas5+hbb1vxrtKZxbfwWzdy/pv+SDb+imc0snV9/dc91jgOPx/yy/3Ccp6/6v1tQZSb80FKX8afCOI/ZY7Jfmmm2ZPQ/yNsUIYfE1lTiKROfpuTjZjFv/V+RrjzjdusiccpO3LAx2Zg+mFgZR1Pa2MMFfyq2e8NIQV3ze7+NFRtOODTdd4POOIO5jbrakRLNsPPq4be39HWXr7nlMGwopsjv7EYWkPyzEfKI3cxG6xOqyPj81xaTinHnxWva3z7/u749/m/N3+lf49u+P27z46U/f1fSA56sMADpuWNIAAAAAAAAAAA0DxgPu4AmPrfXt5VmPY4AAAAAAAAAAA4hTNr//////K2WQ9WY5cwr6c0WL+uqvWV+O5rj8vbjVd/6d3r9vy+765v23oNYvvTVX/bWMfCLq5bnyjrb3/rKEU/JmPJOnyljl4R/BjoAIHA/TwkzKYpgRDTs4iE00yX2QxEX/jccBbG5DUJ7gxOqt9h3ZecLmN7SZ3fvrSSKkRPb5WvtpjfY2rWN2HQn9hs9e+7KnGN3EVs+4mEDKd47ynlG8DZ00xJjL5vyi76bGp8//26utrcDWgtsuc/he+G76EW2tJ1bm7IbBnPVW9GrQmdt7HQ9xbvmdb4+AfXpUG5ocp0+6gi6A1FDYegLiijEUynlmvp54q60TqLC033e8acPTZijY7t7mjT30uRJBxF+EUunADS9fR/0jZ1kexZ8memoqnOjbgBOXmp111AHKnLVhkASrEfII+QR8f11V6yvx3Ncfl7carv/Tu9ft+X3fXN+29AC7uFPAAAAAAAAAAAAUIpZcHGAAAAAAAAAAAJPHllAAAAAAABwIUzS////fgf7TFNIxOX5pvbr502tLL51ae3ddX7z4z48P5o8P4/Tz8X1/Wv8e88/p3X3nx43x+Lx57ysAQDD8l2jLWMKVJYt6kdpBi/MX86Db2trOiWc7Cv0l3CofznRP7UUmbJ5c3SCMMuHS9TwFCfxY/JT7H8LwP6JXEcnqquDnQSBAiv+P2/YO1v3ipT3S8jaSYtx1QiprabZUDfhsy5Q6vhjtbVf7gpuAyVI0blqvSPN0gpnU+DV/53bdajIjOsGl3HiiwBSguCB7pAo9YWpo2yAfwkxUnBX9LAMuoFrGQKtG7FpzM/3KbeSOkqhBAsdYi0+bVMWqMgCpKJRlpHnKOWfkMGdippu+bKh/ikO71hkD3f3Xn25ZBY6Zc5/iqVQxXXTRD2aDpPaOclMBm7lmAViMAevFbqD+Ri/5J0Ifza9IFDzEmgcNkOYP2CPemCN3QR40itLL51ae3ddX7z4z48P5o8P4/Tz8X1/Wv8e88/p3X3nx431+L2895WAIBsetzAAAAAAAAAAAB/Rv5umAAAAAAS+kBsSr7wAAAABwCFM0v//9/4n8spTRslJu9R025N7XJ1Wa2qTpgu9d6tX13Wnp/p39/tAPuPt+eP9Odbv9c3fz73+rz49ff27PPX/gQ56hwPzntBBAHwWVf/HzVy7cNA7P3gh3XDG/zr8AtVCb+8pUda2vHfmN3XaTmqvB5lt0ON06L+jp2hEB9mwNNPep5dqSp+GybOqMI71TvSsgf++J0nplIsaGRO9bqtz033HolwzG6+UY6d3Uqw329q/46GE08OuSWRjUTphQardYxq4AAayelN+gDKRpK0Rxh01Vx9c72huHk62pflP+x+H43Ed29G1JyF0il4eft044HtieuYIt09pp28+l8r278TWQvz/6XrNzOcy1+kUewk8szjrrHuE5Y7z3XeCd1svXSIGpbAgm/VZdGXZfvHqX0Ij1b5j54VtE59s5zv/vybfhMmc6UYj5BHaRkEbrE6oI7UJ0iXeu9Wr67rT0/07+/2gH3H2/PH+nOt3+ubv597/V58evv7dnnr/wIc9Q4H5z2gggCT8Fw1kAAAAAAAAAAACL9/vhswAAAAAAUM41Jh+sQfeCeAAAADgIXsU/S7GxEPBGEZyGY2SuMmTNX12lWvmaf4/rMuuuv9OP/w3crOPr/HQHhHVQtbF3z/YrUEmJBRt6Q0657rqkFjy8uhNz0Q3Y2vp2HcMVWW/rxRuOEgyAidcCeAJ+mQAsYp/0shnFLQo48toIqczut8afbucpRn2QtwWxdRY/gk3SjuYWSZ8BQjHMEZhCMdGip6kkm1YsyGNVg3T123ga3UFaCgbTyApi0AYE5DEB6raECR1PCdp0rtBysu+5sMMnSdzky9lm/C/K04IqUZjQyTox6u75SmdszUFzGDmZGRfOTitj/TX89xDovRSIsOa2E+pR+hkrjJkzV9dpVr5mn+P6zLrrr/Tj/8N3Kzj6/x0CzJx/UAimAG0AAAAAAAAAAAAAAAkAAAAAAAAAAALC8U8xDghGw+//////8zbkZAWGZEMYSG3CXz13qtTl7b4nOXPv+3FZqfzxr9PTmV+/17ANVsI6Yzk8sHJOLHWvTaq5cp5sRKWuLZjVuXL68/mP6PwWmSncAzkdq6mFQDUfGhFKiKbv3dCXl3MEs6pM1EzQzdYXehI9Yo799y78L5rWuFxs8RrQXGxP8r/Ojsia+QTCmZgcAdaQSHJNfwmv3Dpr/frt0arUXpXwdLnNE+GBnjL+YQtApPp/nGAO9WwrQX+KzFNFbqqbNhXWssS4uRVV2NAILEcwN2g5uxqthiNNxLer/hm9UGwWrbo9ABFKMTu1iwkCg6xMoSgj9DcJfPXeq1OXtvic5c+/7cVmp/PGv09OZX7/XsD7mPQcM8e88Z6SwACAAAAAAAAAAAAAAAAAAAAAAAAAAHdcfMFJZeAISsPH//////K25FGKAsNFGR9fI+j5c/v+cnnvzV96z8fZVTr4yfH28VOOJ8fDTDJAA5hlIAA/r5wOGSwGD5Ivi5LGa5Dn0myrQEQdRI6DFVzA6TtC/3C2T9aCsYDbkf7hDgzuj4G5cPV2Y6Oeuy3v90PyxfhwBtOXtyDr6QfMFrv1R8p/Nvu+OgE7/GxjcNM+Fuv1SCPlnnl3iBJnKqqJqoHYqHKQBpeG6P3wEdQBGxP5/+n/r8ZZWb64+IGHd0f0+P4fTD+AB0g+mW+ICDbu7u6sCD8VfyNgADCRHwABrAA+gPBR8iHJ7Atv1ic4E9YLhT2s2LZnfEl1pLAOe2Kb+m/yfcHInEM54CuZK2Zjj8D6+foHy5/f85PPfmr71n4+yqnXxk+Pt4qccT4+GmGQABzDKQAAQS9eggeCBSktG0iOgQtiIyJBIIEy+Y42JDwOIAAb3YgAANAABed4XAAAAAAAAAAAAAAAAAAAAAAAnBsSjPgIUzY///+gAGgSltpBdMUN96bN7bZvbmfErXfFpr8vj/Hd+Pa7e/t/44z7+25wvfx78+eOK++qmdJz30AEAbN9GsqH6849Q0gkcdlbYtGrjmp0Io6iyYCzb0xQIYUPfmAF7pzeljt9lwH8mscIz6Nh46jSL1GkGXt6OGepmFUDDPAdVTFjTJYts9ye8qbPVIdykd7CLhUXhevfVyUp0p3z7bMW4vuHWGmeMraPzIOq40YLysnJhdc565TcSLM0/hiUpE/Rr2CqtFk8C5cC9kdOmMTDUoKuN+DlsPvjefdu691nzFxf0vRBPt9cs8y7o0U6fyM9WzB3Clz0QIMg0Wubbx3muWD3FzRIWztRNo+BvktbHy8WLri7Q/1pqIJywSCD0rZXWqlPwMuO2oAaly2wNzvgmEv2cgRnkMzipy5Ju2flUGPQSDgQCIh7k/zflYh1zu/yTUehZ9L/EjuUCTd8Xzx4FwotOwzKoq6FmPUmBC+k/dO9uuUH1LpXrCzgSh+q6J7SJvbr25nxK13xaa/L4/x3fj2u3v7f/t+PH4+O3WXnmNcaXqo0nPfQAQB+t+b+USBcAAAAAAAAABn8t+2rsuk5tw3GokDbwVt9rzIqO4AAAAAIVTXXsi/73t7OwfhVKVAa3/jeSbhn8H/hrvJpJ0H97l0MRclX4Tk0PNlk2FB5B4hQNpGCMHAAAAGXm1vb3YAAABsbXZoZAAAAAAAAAAAAAAAAAAAA+gAABOIAAEAAAEAAAAAAAAAAAAAAAABAAAAAAAAAAAAAAAAAAAAAQAAAAAAAAAAAAAAAAAAQAAAAAAAAAAAAAAAAAAAAAAAAAAAAAAAAAAAAAAAAAIAAAWJdHJhawAAAFx0a2hkAAAAAwAAAAAAAAAAAAAAAQAAAAAAABOIAAAAAAAAAAAAAAABAQAAAAABAAAAAAAAAAAAAAAAAAAAAQAAAAAAAAAAAAAAAAAAQAAAAAAAAAAAAAAAAAAAJGVkdHMAAAAcZWxzdAAAAAAAAAABAAATiAAABAAAAQAAAAAFAW1kaWEAAAAgbWRoZAAAAAAAAAAAAAAAAAAArEQAA2FUVcQAAAAAAC1oZGxyAAAAAAAAAABzb3VuAAAAAAAAAAAAAAAAU291bmRIYW5kbGVyAAAABKxtaW5mAAAAEHNtaGQAAAAAAAAAAAAAACRkaW5mAAAAHGRyZWYAAAAAAAAAAQAAAAx1cmwgAAAAAQAABHBzdGJsAAAAanN0c2QAAAAAAAAAAQAAAFptcDRhAAAAAAAAAAEAAAAAAAAAAAACABAAAAAArEQAAAAAADZlc2RzAAAAAAOAgIAlAAEABICAgBdAFQAAAAACA2AAAgNgBYCAgAUSEFblAAaAgIABAgAAACBzdHRzAAAAAAAAAAIAAADYAAAEAAAAAAEAAAFUAAAAHHN0c2MAAAAAAAAAAQAAAAEAAADZAAAAAQAAA3hzdHN6AAAAAAAAAAAAAADZAAABKgAAATkAAAFNAAABXQAAAWEAAAFUAAABjQAAAboAAAFgAAABUAAAAVEAAAFfAAABiwAAAWYAAAG5AAACDAAAAbgAAAEwAAABOwAAAWEAAAF3AAABtgAAAeYAAAHIAAABPwAAATAAAAFLAAABdAAAAZ8AAAGoAAABgwAAAUgAAAFiAAABaQAAAV4AAAHDAAABfwAAAYEAAAF0AAABgQAAAfIAAAGnAAABPgAAATkAAAJTAAAB+QAAAXQAAAFCAAABXQAAAV4AAAFfAAACjAAAAUYAAAFVAAABtQAAAVUAAAFaAAABswAAAZIAAAE3AAABZgAAAW0AAAFpAAABdAAAAVIAAAFCAAABqAAAAWwAAAFjAAABeAAAAZIAAAFxAAAB1QAAATQAAAFWAAABQgAAAakAAAFlAAABjwAAAVcAAAGoAAAC/wAAAU4AAAFxAAABZAAAAW4AAAFeAAABZAAAAasAAAFmAAABbwAAAWUAAAF7AAABoAAAAWUAAAF1AAABaAAAAV0AAAG1AAABiQAAAX4AAAGYAAABVwAAAToAAAFwAAABgQAAAZkAAAGrAAABYgAAAWQAAAFwAAABbwAAAZUAAAGSAAABggAAAWwAAAFdAAABYgAAAU0AAAHAAAABNgAAAUQAAAHDAAAB9gAAATsAAAFYAAABZQAAAXwAAAGLAAABpAAAAVEAAAFWAAABaQAAAWsAAAF7AAABcwAAAYkAAAGEAAABbAAAAXAAAAFwAAABZgAAAX4AAAFxAAABhQAAAW4AAAFWAAABegAAAXgAAAFVAAABWwAAAX0AAAGfAAABegAAAYEAAAJwAAACCgAAAaEAAAGpAAABpwAAAYUAAAE4AAABYgAAAuEAAAE4AAABZQAAAYAAAAGUAAABogAAAX4AAAF9AAABTAAAAXAAAAFUAAAB5AAAAigAAAHNAAABpQAAATQAAAFFAAABVgAAAX8AAAF8AAABeQAAAU4AAAFxAAABZQAAAZgAAAGMAAABlwAAAYAAAAFrAAABaQAAAXsAAAFuAAABlgAAAYEAAAFsAAABgAAAAYYAAAFvAAABmgAAAVQAAAF4AAABdQAAAUAAAAFLAAABegAAAaEAAAF7AAABogAAAawAAAE0AAABPAAAAXQAAAIDAAAABwAAABRzdGNvAAAAAAAAAAEAAAAsAAAAGnNncGQBAAAAcm9sbAAAAAIAAAAB//8AAAAcc2JncAAAAAByb2xsAAAAAQAAANkAAAABAAAAYXVkdGEAAABZbWV0YQAAAAAAAAAhaGRscgAAAAAAAAAAbWRpcmFwcGwAAAAAAAAAAAAAAAAsaWxzdAAAACSpdG9vAAAAHGRhdGEAAAABAAAAAExhdmY2MS4xLjEwMA==\" type=\"audio/mp4\" />\n",
              "                    Your browser does not support the audio element.\n",
              "                </audio>\n",
              "              "
            ]
          },
          "metadata": {},
          "execution_count": 25
        }
      ]
    },
    {
      "cell_type": "code",
      "source": [
        "input_values=tokenizer(audio, return_tensors='pt').input_values\n",
        "input_values"
      ],
      "metadata": {
        "colab": {
          "base_uri": "https://localhost:8080/"
        },
        "id": "Hxme-sqaSWuR",
        "outputId": "92a64310-5ecb-448c-d7cb-933b6714ed43"
      },
      "execution_count": 26,
      "outputs": [
        {
          "output_type": "execute_result",
          "data": {
            "text/plain": [
              "tensor([[-1.4128e-01, -2.9699e-01, -2.5524e-01,  ..., -8.8417e-05,\n",
              "         -8.8484e-05, -8.8358e-05]])"
            ]
          },
          "metadata": {},
          "execution_count": 26
        }
      ]
    },
    {
      "cell_type": "code",
      "source": [
        "logits = model(input_values).logits\n",
        "logits"
      ],
      "metadata": {
        "colab": {
          "base_uri": "https://localhost:8080/"
        },
        "id": "LXKiHqHfTDY2",
        "outputId": "0ee311a7-dac0-4078-d040-d8f400023f23"
      },
      "execution_count": 28,
      "outputs": [
        {
          "output_type": "execute_result",
          "data": {
            "text/plain": [
              "tensor([[[ 10.1381, -25.2311, -25.0728,  ...,  -6.8527,  -7.8045,  -6.4760],\n",
              "         [ 10.2945, -23.6119, -23.3945,  ...,  -5.8524,  -7.4760,  -5.1193],\n",
              "         [ 11.0091, -23.6582, -23.4401,  ...,  -5.6770,  -7.7505,  -4.7627],\n",
              "         ...,\n",
              "         [  3.3711, -16.5827, -16.4545,  ...,  -4.0560,  -2.4498,  -2.3584],\n",
              "         [  5.5413, -19.6297, -19.3926,  ...,  -6.4242,  -7.1864,  -5.2773],\n",
              "         [  4.6029, -20.5787, -20.4284,  ...,  -6.7224,  -7.0345,  -4.8356]]],\n",
              "       grad_fn=<ViewBackward0>)"
            ]
          },
          "metadata": {},
          "execution_count": 28
        }
      ]
    },
    {
      "cell_type": "code",
      "source": [
        "predicted_ids = torch.argmax(logits, dim=-1)"
      ],
      "metadata": {
        "id": "Dq39DL5GTEfL"
      },
      "execution_count": 30,
      "outputs": []
    },
    {
      "cell_type": "code",
      "source": [
        "transcriptions = tokenizer.batch_decode(predicted_ids)\n",
        "transcriptions"
      ],
      "metadata": {
        "colab": {
          "base_uri": "https://localhost:8080/"
        },
        "id": "pVlxs2IVTYVN",
        "outputId": "01e2edb8-93f9-4989-de3c-3705897ea226"
      },
      "execution_count": 31,
      "outputs": [
        {
          "output_type": "execute_result",
          "data": {
            "text/plain": [
              "['SPEECH TO TEXT ANALYSIS  IS REVOLUTIONIZING HOW WE INTERACT WITH TECHNAL']"
            ]
          },
          "metadata": {},
          "execution_count": 31
        }
      ]
    },
    {
      "cell_type": "markdown",
      "source": [
        "Finally we got the output from a speech to text\n"
      ],
      "metadata": {
        "id": "ns04J3zOTtz-"
      }
    }
  ]
}